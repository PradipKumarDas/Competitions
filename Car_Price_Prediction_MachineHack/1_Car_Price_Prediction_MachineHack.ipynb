{
 "cells": [
  {
   "cell_type": "markdown",
   "id": "8607c89c-d8d5-4f98-9d4e-932b915a64c5",
   "metadata": {},
   "source": [
    "# Car Price Prediction Hackathon by MachineHack"
   ]
  },
  {
   "cell_type": "markdown",
   "id": "bd7f95b2-dab3-4563-b9a2-e6999b90c691",
   "metadata": {},
   "source": [
    "***Notebook Author:***\n",
    "\n",
    "| **Name:**|Pradip Kumar Das |\n",
    "|--:|--|\n",
    "|**Profile:**| [LinkedIn](https://www.linkedin.com/in/daspradipkumar/ \"LinkedIn\") \\| [GitHub](https://github.com/PradipKumarDas \"GitHub\") \\| [Kaggle](https://www.kaggle.com/pradipkumardas \"Kaggle\")|\n",
    "|**Contact:**| pradipkumardas@hotmail.com (Email), +91 8050003133 (Mobile) |\n",
    "|**Location:**|Bengaluru, Karnataka, India|"
   ]
  },
  {
   "cell_type": "markdown",
   "id": "e0409e9f-adc8-4389-9748-6648e166551f",
   "metadata": {},
   "source": [
    "**_Sections:_**\n",
    "- _Dependencies_\n",
    "- _Configuration_\n",
    "- _Exploratory Data Analysis (EDA) & Preprocessing_\n",
    "- _Modeling & Evaluation_\n",
    "- _Submission_"
   ]
  },
  {
   "cell_type": "markdown",
   "id": "34fa449c-7853-41c9-8395-ddc0254b203a",
   "metadata": {},
   "source": [
    "## Dependencies"
   ]
  },
  {
   "cell_type": "code",
   "execution_count": 1,
   "id": "fbe85668-58ab-431b-b0bf-07e713975f13",
   "metadata": {},
   "outputs": [],
   "source": [
    "# Imports required packages\n",
    "\n",
    "import pandas as pd\n",
    "import numpy as np\n",
    "import random\n",
    "\n",
    "from catboost import CatBoostRegressor, Pool, cv\n",
    "\n",
    "import matplotlib.pyplot as plt\n",
    "import seaborn as sns"
   ]
  },
  {
   "cell_type": "markdown",
   "id": "3043a18b-0c4f-4dc4-8dae-2ed2d6b693b4",
   "metadata": {},
   "source": [
    "## Configuration"
   ]
  },
  {
   "cell_type": "code",
   "execution_count": 2,
   "id": "d93174d3-4206-498a-ae2f-9cb651f8a442",
   "metadata": {},
   "outputs": [],
   "source": [
    "# Seed to reproduce the results\n",
    "random.seed(42)\n",
    "np.random.seed(42)\n",
    "\n",
    "# Sets option to view all columns in DataFrame\n",
    "pd.set_option(\"display.max_columns\", None) "
   ]
  },
  {
   "cell_type": "markdown",
   "id": "09128cf9-73a0-4272-99d6-da843258d552",
   "metadata": {},
   "source": [
    "## Exploratory Data Analysis (EDA) & Preprocessing"
   ]
  },
  {
   "cell_type": "code",
   "execution_count": 60,
   "id": "130873a1-54d2-4722-b560-81dae916e7bf",
   "metadata": {
    "tags": []
   },
   "outputs": [],
   "source": [
    "# Loads data\n",
    "\n",
    "train = pd.read_csv(\"./data/train.csv\")\n",
    "test = pd.read_csv(\"./data/test.csv\")"
   ]
  },
  {
   "cell_type": "code",
   "execution_count": 61,
   "id": "0562ad86-5f89-41dd-8a59-85afd9f6d20e",
   "metadata": {},
   "outputs": [
    {
     "name": "stdout",
     "output_type": "stream",
     "text": [
      "Dataset shape:\ttrain: (19237, 18)\ttest: (8245, 18)\n"
     ]
    }
   ],
   "source": [
    "# Checks for dataset shapes\n",
    "\n",
    "print(f\"Dataset shape:\\ttrain: {train.shape}\\ttest: {test.shape}\")"
   ]
  },
  {
   "cell_type": "code",
   "execution_count": 62,
   "id": "6faae804-9485-4eba-b655-7b619453be8f",
   "metadata": {},
   "outputs": [
    {
     "data": {
      "text/html": [
       "<div>\n",
       "<style scoped>\n",
       "    .dataframe tbody tr th:only-of-type {\n",
       "        vertical-align: middle;\n",
       "    }\n",
       "\n",
       "    .dataframe tbody tr th {\n",
       "        vertical-align: top;\n",
       "    }\n",
       "\n",
       "    .dataframe thead th {\n",
       "        text-align: right;\n",
       "    }\n",
       "</style>\n",
       "<table border=\"1\" class=\"dataframe\">\n",
       "  <thead>\n",
       "    <tr style=\"text-align: right;\">\n",
       "      <th></th>\n",
       "      <th>ID</th>\n",
       "      <th>Price</th>\n",
       "      <th>Levy</th>\n",
       "      <th>Manufacturer</th>\n",
       "      <th>Model</th>\n",
       "      <th>Prod. year</th>\n",
       "      <th>Category</th>\n",
       "      <th>Leather interior</th>\n",
       "      <th>Fuel type</th>\n",
       "      <th>Engine volume</th>\n",
       "      <th>Mileage</th>\n",
       "      <th>Cylinders</th>\n",
       "      <th>Gear box type</th>\n",
       "      <th>Drive wheels</th>\n",
       "      <th>Doors</th>\n",
       "      <th>Wheel</th>\n",
       "      <th>Color</th>\n",
       "      <th>Airbags</th>\n",
       "    </tr>\n",
       "  </thead>\n",
       "  <tbody>\n",
       "    <tr>\n",
       "      <th>0</th>\n",
       "      <td>45654403</td>\n",
       "      <td>13328</td>\n",
       "      <td>1399</td>\n",
       "      <td>LEXUS</td>\n",
       "      <td>RX 450</td>\n",
       "      <td>2010</td>\n",
       "      <td>Jeep</td>\n",
       "      <td>Yes</td>\n",
       "      <td>Hybrid</td>\n",
       "      <td>3.5</td>\n",
       "      <td>186005 km</td>\n",
       "      <td>6.0</td>\n",
       "      <td>Automatic</td>\n",
       "      <td>4x4</td>\n",
       "      <td>04-May</td>\n",
       "      <td>Left wheel</td>\n",
       "      <td>Silver</td>\n",
       "      <td>12</td>\n",
       "    </tr>\n",
       "    <tr>\n",
       "      <th>1</th>\n",
       "      <td>44731507</td>\n",
       "      <td>16621</td>\n",
       "      <td>1018</td>\n",
       "      <td>CHEVROLET</td>\n",
       "      <td>Equinox</td>\n",
       "      <td>2011</td>\n",
       "      <td>Jeep</td>\n",
       "      <td>No</td>\n",
       "      <td>Petrol</td>\n",
       "      <td>3</td>\n",
       "      <td>192000 km</td>\n",
       "      <td>6.0</td>\n",
       "      <td>Tiptronic</td>\n",
       "      <td>4x4</td>\n",
       "      <td>04-May</td>\n",
       "      <td>Left wheel</td>\n",
       "      <td>Black</td>\n",
       "      <td>8</td>\n",
       "    </tr>\n",
       "    <tr>\n",
       "      <th>2</th>\n",
       "      <td>45774419</td>\n",
       "      <td>8467</td>\n",
       "      <td>-</td>\n",
       "      <td>HONDA</td>\n",
       "      <td>FIT</td>\n",
       "      <td>2006</td>\n",
       "      <td>Hatchback</td>\n",
       "      <td>No</td>\n",
       "      <td>Petrol</td>\n",
       "      <td>1.3</td>\n",
       "      <td>200000 km</td>\n",
       "      <td>4.0</td>\n",
       "      <td>Variator</td>\n",
       "      <td>Front</td>\n",
       "      <td>04-May</td>\n",
       "      <td>Right-hand drive</td>\n",
       "      <td>Black</td>\n",
       "      <td>2</td>\n",
       "    </tr>\n",
       "    <tr>\n",
       "      <th>3</th>\n",
       "      <td>45769185</td>\n",
       "      <td>3607</td>\n",
       "      <td>862</td>\n",
       "      <td>FORD</td>\n",
       "      <td>Escape</td>\n",
       "      <td>2011</td>\n",
       "      <td>Jeep</td>\n",
       "      <td>Yes</td>\n",
       "      <td>Hybrid</td>\n",
       "      <td>2.5</td>\n",
       "      <td>168966 km</td>\n",
       "      <td>4.0</td>\n",
       "      <td>Automatic</td>\n",
       "      <td>4x4</td>\n",
       "      <td>04-May</td>\n",
       "      <td>Left wheel</td>\n",
       "      <td>White</td>\n",
       "      <td>0</td>\n",
       "    </tr>\n",
       "    <tr>\n",
       "      <th>4</th>\n",
       "      <td>45809263</td>\n",
       "      <td>11726</td>\n",
       "      <td>446</td>\n",
       "      <td>HONDA</td>\n",
       "      <td>FIT</td>\n",
       "      <td>2014</td>\n",
       "      <td>Hatchback</td>\n",
       "      <td>Yes</td>\n",
       "      <td>Petrol</td>\n",
       "      <td>1.3</td>\n",
       "      <td>91901 km</td>\n",
       "      <td>4.0</td>\n",
       "      <td>Automatic</td>\n",
       "      <td>Front</td>\n",
       "      <td>04-May</td>\n",
       "      <td>Left wheel</td>\n",
       "      <td>Silver</td>\n",
       "      <td>4</td>\n",
       "    </tr>\n",
       "  </tbody>\n",
       "</table>\n",
       "</div>"
      ],
      "text/plain": [
       "         ID  Price  Levy Manufacturer    Model  Prod. year   Category  \\\n",
       "0  45654403  13328  1399        LEXUS   RX 450        2010       Jeep   \n",
       "1  44731507  16621  1018    CHEVROLET  Equinox        2011       Jeep   \n",
       "2  45774419   8467     -        HONDA      FIT        2006  Hatchback   \n",
       "3  45769185   3607   862         FORD   Escape        2011       Jeep   \n",
       "4  45809263  11726   446        HONDA      FIT        2014  Hatchback   \n",
       "\n",
       "  Leather interior Fuel type Engine volume    Mileage  Cylinders  \\\n",
       "0              Yes    Hybrid           3.5  186005 km        6.0   \n",
       "1               No    Petrol             3  192000 km        6.0   \n",
       "2               No    Petrol           1.3  200000 km        4.0   \n",
       "3              Yes    Hybrid           2.5  168966 km        4.0   \n",
       "4              Yes    Petrol           1.3   91901 km        4.0   \n",
       "\n",
       "  Gear box type Drive wheels   Doors             Wheel   Color  Airbags  \n",
       "0     Automatic          4x4  04-May        Left wheel  Silver       12  \n",
       "1     Tiptronic          4x4  04-May        Left wheel   Black        8  \n",
       "2      Variator        Front  04-May  Right-hand drive   Black        2  \n",
       "3     Automatic          4x4  04-May        Left wheel   White        0  \n",
       "4     Automatic        Front  04-May        Left wheel  Silver        4  "
      ]
     },
     "metadata": {},
     "output_type": "display_data"
    }
   ],
   "source": [
    "# Checks for heads of the datasets\n",
    "\n",
    "display(train.head())"
   ]
  },
  {
   "cell_type": "code",
   "execution_count": 63,
   "id": "fd07acc2-80ee-4563-89d4-c87e1ce810a7",
   "metadata": {},
   "outputs": [],
   "source": [
    "# Merges both Manufacturer and Model into one\n",
    "\n",
    "train[\"Model\"] = train.Manufacturer + \" \" + train.Model"
   ]
  },
  {
   "cell_type": "code",
   "execution_count": null,
   "id": "82b99647-2335-4d25-a427-4d6e56a3cbb7",
   "metadata": {},
   "outputs": [],
   "source": []
  },
  {
   "cell_type": "code",
   "execution_count": 64,
   "id": "07777dbe-489f-44da-8a5e-9a4d1e228c82",
   "metadata": {},
   "outputs": [],
   "source": [
    "# Drops column ID considering not required for modeling\n",
    "\n",
    "train.drop([\"ID\"], axis=1, inplace=True)"
   ]
  },
  {
   "cell_type": "code",
   "execution_count": 65,
   "id": "25123486-09f0-4a26-ae65-46501191469f",
   "metadata": {},
   "outputs": [
    {
     "data": {
      "text/plain": [
       "4927"
      ]
     },
     "execution_count": 65,
     "metadata": {},
     "output_type": "execute_result"
    }
   ],
   "source": [
    "# Checks for duplicate rows in the dataset\n",
    "\n",
    "train.duplicated(keep=False).sum()"
   ]
  },
  {
   "cell_type": "code",
   "execution_count": 66,
   "id": "5f631da2-ccf7-4db5-8d85-6f0bbe56914b",
   "metadata": {},
   "outputs": [],
   "source": [
    "# Drops all duplicates\n",
    "\n",
    "train.drop_duplicates(keep='first', inplace=True, ignore_index=True)"
   ]
  },
  {
   "cell_type": "code",
   "execution_count": null,
   "id": "8716bcad-4b38-48b1-b340-eee7c2ba75d6",
   "metadata": {},
   "outputs": [],
   "source": []
  },
  {
   "cell_type": "code",
   "execution_count": 67,
   "id": "f672d61e-c510-4129-b8d1-a5bd18ccae2f",
   "metadata": {},
   "outputs": [
    {
     "data": {
      "text/plain": [
       "Price                 int64\n",
       "Levy                 object\n",
       "Manufacturer         object\n",
       "Model                object\n",
       "Prod. year            int64\n",
       "Category             object\n",
       "Leather interior     object\n",
       "Fuel type            object\n",
       "Engine volume        object\n",
       "Mileage              object\n",
       "Cylinders           float64\n",
       "Gear box type        object\n",
       "Drive wheels         object\n",
       "Doors                object\n",
       "Wheel                object\n",
       "Color                object\n",
       "Airbags               int64\n",
       "dtype: object"
      ]
     },
     "metadata": {},
     "output_type": "display_data"
    }
   ],
   "source": [
    "# Checks for the data types for train dataset\n",
    "\n",
    "display(train.dtypes)"
   ]
  },
  {
   "cell_type": "code",
   "execution_count": null,
   "id": "eb7711a7-6c65-445d-972e-da4c38121b82",
   "metadata": {},
   "outputs": [],
   "source": []
  },
  {
   "cell_type": "code",
   "execution_count": 68,
   "id": "aaffbc3f-92f6-4e0d-9edb-08f210fa11c8",
   "metadata": {},
   "outputs": [],
   "source": [
    "# Converts all text into lowercase\n",
    "\n",
    "train = pd.concat(\n",
    "    [train[col].str.lower() if train[col].dtype == 'object' else train[col] for col in train.columns ], \n",
    "    axis=1)"
   ]
  },
  {
   "cell_type": "code",
   "execution_count": null,
   "id": "44053acc-f552-4c34-af15-7fb512f22a5b",
   "metadata": {},
   "outputs": [],
   "source": []
  },
  {
   "cell_type": "code",
   "execution_count": 69,
   "id": "601fb135-bbcf-4690-9f12-1562a2a9f95a",
   "metadata": {},
   "outputs": [],
   "source": [
    "# Extracts only numeric value for column Engine volume\n",
    "\n",
    "train[[\"Engine volume\", \"Turbo\"]] = train[\"Engine volume\"].str.split(expand=True)\n",
    "train[\"Engine volume\"] = train[\"Engine volume\"].astype(\"float\")\n",
    "\n",
    "# Keeps the information whether the engine is Turbo charged or not\n",
    "\n",
    "train[\"Turbo\"].fillna(\"no\", inplace=True)\n",
    "train[\"Turbo\"].replace(\"turbo\", \"yes\", inplace=True)"
   ]
  },
  {
   "cell_type": "code",
   "execution_count": 71,
   "id": "fb3b82a8-487b-4f3d-a4f4-af6b2c17f95e",
   "metadata": {},
   "outputs": [
    {
     "data": {
      "text/plain": [
       "count    15725.000000\n",
       "mean         2.212820\n",
       "std          0.806187\n",
       "min          0.000000\n",
       "25%          1.700000\n",
       "50%          2.000000\n",
       "75%          2.500000\n",
       "max         20.000000\n",
       "Name: Engine volume, dtype: float64"
      ]
     },
     "execution_count": 71,
     "metadata": {},
     "output_type": "execute_result"
    }
   ],
   "source": [
    "# Gets the Engine volume statistics\n",
    "\n",
    "train[\"Engine volume\"].describe()"
   ]
  },
  {
   "cell_type": "code",
   "execution_count": 72,
   "id": "45d2fdb5-4c83-4127-a526-5227d0b80392",
   "metadata": {},
   "outputs": [
    {
     "data": {
      "text/plain": [
       "<AxesSubplot:xlabel='Engine volume', ylabel='Count'>"
      ]
     },
     "execution_count": 72,
     "metadata": {},
     "output_type": "execute_result"
    },
    {
     "data": {
      "image/png": "[encoded data removed]",
      "text/plain": [
       "<Figure size 432x288 with 1 Axes>"
      ]
     },
     "metadata": {
      "needs_background": "light"
     },
     "output_type": "display_data"
    }
   ],
   "source": [
    "# Plots the overall distribution of Engine volume\n",
    "\n",
    "sns.histplot(train[\"Engine volume\"])"
   ]
  },
  {
   "cell_type": "code",
   "execution_count": 73,
   "id": "177b8454-738a-4619-89a5-d0da8f1eb83a",
   "metadata": {},
   "outputs": [
    {
     "data": {
      "text/plain": [
       "<AxesSubplot:xlabel='Engine volume', ylabel='Count'>"
      ]
     },
     "execution_count": 73,
     "metadata": {},
     "output_type": "execute_result"
    },
    {
     "data": {
      "image/png": "[encoded data removed]",
      "text/plain": [
       "<Figure size 432x288 with 1 Axes>"
      ]
     },
     "metadata": {
      "needs_background": "light"
     },
     "output_type": "display_data"
    }
   ],
   "source": [
    "# Plots the distribution of small engines\n",
    "\n",
    "sns.histplot(train[\"Engine volume\"][train[\"Engine volume\"] < 1.0])"
   ]
  },
  {
   "cell_type": "code",
   "execution_count": 74,
   "id": "18971ad3-bb31-459c-8656-eec5fc42254e",
   "metadata": {},
   "outputs": [],
   "source": [
    "# Filter outs rows with Engine volume considered to be outliers\n",
    "\n",
    "train = train[(train[\"Engine volume\"] >= 0.4) & (train[\"Engine volume\"] <= 8.0)]"
   ]
  },
  {
   "cell_type": "code",
   "execution_count": null,
   "id": "38517661-cc31-479a-95a0-b975cb2d3676",
   "metadata": {},
   "outputs": [],
   "source": []
  },
  {
   "cell_type": "code",
   "execution_count": 75,
   "id": "e3075968-36a6-46d2-9836-7de1432e0239",
   "metadata": {},
   "outputs": [
    {
     "name": "stderr",
     "output_type": "stream",
     "text": [
      "/home/pradip/anaconda3/lib/python3.7/site-packages/ipykernel_launcher.py:3: SettingWithCopyWarning: \n",
      "A value is trying to be set on a copy of a slice from a DataFrame.\n",
      "Try using .loc[row_indexer,col_indexer] = value instead\n",
      "\n",
      "See the caveats in the documentation: https://pandas.pydata.org/pandas-docs/stable/user_guide/indexing.html#returning-a-view-versus-a-copy\n",
      "  This is separate from the ipykernel package so we can avoid doing imports until\n",
      "/home/pradip/anaconda3/lib/python3.7/site-packages/ipykernel_launcher.py:4: SettingWithCopyWarning: \n",
      "A value is trying to be set on a copy of a slice from a DataFrame.\n",
      "Try using .loc[row_indexer,col_indexer] = value instead\n",
      "\n",
      "See the caveats in the documentation: https://pandas.pydata.org/pandas-docs/stable/user_guide/indexing.html#returning-a-view-versus-a-copy\n",
      "  after removing the cwd from sys.path.\n"
     ]
    }
   ],
   "source": [
    "# Seperates Mileage from its units to get its numeric value\n",
    "\n",
    "train[\"Mileage\"] = train[\"Mileage\"].str.split(expand=True)[0]\n",
    "train[\"Mileage\"] = train[\"Mileage\"].astype(\"int\")"
   ]
  },
  {
   "cell_type": "code",
   "execution_count": null,
   "id": "3c0186d1-019c-4074-adc4-36b44138f4da",
   "metadata": {},
   "outputs": [],
   "source": []
  },
  {
   "cell_type": "code",
   "execution_count": 76,
   "id": "a777eda7-7319-42db-86e7-0c354e2f4b69",
   "metadata": {},
   "outputs": [
    {
     "data": {
      "text/plain": [
       "<AxesSubplot:xlabel='Price'>"
      ]
     },
     "execution_count": 76,
     "metadata": {},
     "output_type": "execute_result"
    },
    {
     "data": {
      "image/png": "[encoded data removed]",
      "text/plain": [
       "<Figure size 432x288 with 1 Axes>"
      ]
     },
     "metadata": {
      "needs_background": "light"
     },
     "output_type": "display_data"
    }
   ],
   "source": [
    "# Plots the overall distribution of price\n",
    "\n",
    "sns.boxplot(x=train.Price)"
   ]
  },
  {
   "cell_type": "code",
   "execution_count": 77,
   "id": "d4921b63-5e70-448b-a70d-2b34b660892c",
   "metadata": {},
   "outputs": [
    {
     "data": {
      "text/plain": [
       "<AxesSubplot:xlabel='Price'>"
      ]
     },
     "execution_count": 77,
     "metadata": {},
     "output_type": "execute_result"
    },
    {
     "data": {
      "image/png": "[encoded data removed]",
      "text/plain": [
       "<Figure size 432x288 with 1 Axes>"
      ]
     },
     "metadata": {
      "needs_background": "light"
     },
     "output_type": "display_data"
    }
   ],
   "source": [
    "# Plots the price further without visible outliers\n",
    "\n",
    "sns.boxplot(x=train.Price[train.Price < 2.5e7])"
   ]
  },
  {
   "cell_type": "code",
   "execution_count": 78,
   "id": "47057013-cd10-4b02-adf4-8c0fdaba7673",
   "metadata": {},
   "outputs": [],
   "source": [
    "# Filters outs rows with price considered outliers\n",
    "\n",
    "train = train[train.Price <= 400000]"
   ]
  },
  {
   "cell_type": "markdown",
   "id": "7845d709-fd4d-4b70-8ef9-c8275e7db150",
   "metadata": {},
   "source": [
    "## Modeling & Evaluation"
   ]
  },
  {
   "cell_type": "code",
   "execution_count": 79,
   "id": "146ac85a-91e4-489a-bb20-c57a25a7377f",
   "metadata": {},
   "outputs": [],
   "source": [
    "# Tags price with bin for equal distribution of price of different range\n",
    "\n",
    "train[\"bin\"] = pd.cut(train.Price, bins=10, labels=list(range(10)))"
   ]
  },
  {
   "cell_type": "code",
   "execution_count": null,
   "id": "91742319-46c8-4d4e-b101-b448bc18690e",
   "metadata": {},
   "outputs": [],
   "source": []
  },
  {
   "cell_type": "code",
   "execution_count": 80,
   "id": "391a118a-0e6b-4317-b417-4069e15a384c",
   "metadata": {},
   "outputs": [],
   "source": [
    "# Stores column names for all features to be used for modeling\n",
    "\n",
    "features = [\"Model\", \"Prod. year\", \"Category\", \"Leather interior\", \"Fuel type\", \"Engine volume\", \\\n",
    "            \"Mileage\", \"Gear box type\", \"Drive wheels\", \"Airbags\", \"Turbo\"]"
   ]
  },
  {
   "cell_type": "code",
   "execution_count": 81,
   "id": "c039ce09-0558-4826-b38b-bb693c938fe8",
   "metadata": {},
   "outputs": [],
   "source": [
    "# Stores indices of categorical features to be passed in while training model\n",
    "\n",
    "categorical_features_indices = [0, 2, 3, 4, 7, 8, 10]"
   ]
  },
  {
   "cell_type": "markdown",
   "id": "62795668-b772-450e-9700-f13e895b573d",
   "metadata": {},
   "source": [
    "**CatBoost**"
   ]
  },
  {
   "cell_type": "code",
   "execution_count": 82,
   "id": "63ef4f9a-b895-4349-9633-daf779dfa8ea",
   "metadata": {},
   "outputs": [],
   "source": [
    "# Changing categorical variables datatypes to make CatBoost compatible\n",
    "\n",
    "X_train = train[features].astype({'Model': 'string', 'Category': 'string', 'Leather interior': 'string', \"Fuel type\": 'string', \\\n",
    "                       'Gear box type': 'string', 'Drive wheels': 'string', 'Turbo': 'string'})"
   ]
  },
  {
   "cell_type": "code",
   "execution_count": 83,
   "id": "c6d27d00-cfd2-4691-a9f9-6e5ba8172a72",
   "metadata": {},
   "outputs": [
    {
     "data": {
      "text/plain": [
       "Model                string\n",
       "Prod. year            int64\n",
       "Category             string\n",
       "Leather interior     string\n",
       "Fuel type            string\n",
       "Engine volume       float64\n",
       "Mileage               int64\n",
       "Gear box type        string\n",
       "Drive wheels         string\n",
       "Airbags               int64\n",
       "Turbo                string\n",
       "dtype: object"
      ]
     },
     "execution_count": 83,
     "metadata": {},
     "output_type": "execute_result"
    }
   ],
   "source": [
    "X_train.dtypes"
   ]
  },
  {
   "cell_type": "code",
   "execution_count": 84,
   "id": "898608d8-c1eb-4d35-a4e7-cf90f76b1a9d",
   "metadata": {},
   "outputs": [],
   "source": [
    "# Create internal structure specific to CatBoost to handle training data\n",
    "\n",
    "cv_pool = Pool(X_train.values, train.Price, cat_features=categorical_features_indices)"
   ]
  },
  {
   "cell_type": "code",
   "execution_count": 85,
   "id": "cbbe0dd6-e969-41c1-9c6d-f4c3b8ee04f2",
   "metadata": {},
   "outputs": [
    {
     "data": {
      "application/vnd.jupyter.widget-view+json": {
       "model_id": "e08ef031713f47869e7988d2b0194887",
       "version_major": 2,
       "version_minor": 0
      },
      "text/plain": [
       "MetricVisualizer(layout=Layout(align_self='stretch', height='500px'))"
      ]
     },
     "metadata": {},
     "output_type": "display_data"
    }
   ],
   "source": [
    "# CatBoost performs training over cross-validation\n",
    "\n",
    "cv_scores = cv(cv_pool, params={\n",
    "    \"loss_function\": \"RMSE\", \n",
    "    \"verbose\": False}, fold_count=5, plot=True)"
   ]
  },
  {
   "cell_type": "code",
   "execution_count": 86,
   "id": "bb1c91b6-e1d6-473c-86e5-c4b0026ef107",
   "metadata": {},
   "outputs": [],
   "source": [
    "# Create internal structure specific to CatBoost to handle training data\n",
    "\n",
    "train_pool = Pool(X_train.values, train.Price, cat_features=categorical_features_indices)"
   ]
  },
  {
   "cell_type": "code",
   "execution_count": 87,
   "id": "6f480e15-428e-4651-805b-f0113f0934d6",
   "metadata": {},
   "outputs": [
    {
     "data": {
      "application/vnd.jupyter.widget-view+json": {
       "model_id": "7c4dc82701f549e28fe075110d898a37",
       "version_major": 2,
       "version_minor": 0
      },
      "text/plain": [
       "MetricVisualizer(layout=Layout(align_self='stretch', height='500px'))"
      ]
     },
     "metadata": {},
     "output_type": "display_data"
    },
    {
     "data": {
      "text/plain": [
       "<catboost.core.CatBoostRegressor at 0x7fcb454beb10>"
      ]
     },
     "execution_count": 87,
     "metadata": {},
     "output_type": "execute_result"
    }
   ],
   "source": [
    "# Performs model training\n",
    "\n",
    "model = CatBoostRegressor(random_seed=42, loss_function=\"RMSE\")\n",
    "model.fit(train_pool, verbose=False, plot=True)"
   ]
  },
  {
   "cell_type": "code",
   "execution_count": 88,
   "id": "751589f4-83f6-42ea-a426-85d982475b46",
   "metadata": {},
   "outputs": [
    {
     "data": {
      "text/plain": [
       "array([ 7.26460685, 25.84661316,  4.49933   ,  1.80806548,  3.9924351 ,\n",
       "       15.69790649,  5.86083806, 11.31756933,  3.38738827, 13.98991333,\n",
       "        6.33533394])"
      ]
     },
     "execution_count": 88,
     "metadata": {},
     "output_type": "execute_result"
    }
   ],
   "source": [
    "# Checks for feature importance according to CatBoost\n",
    "\n",
    "model.feature_importances_"
   ]
  },
  {
   "cell_type": "markdown",
   "id": "7c132fe7-1362-4f24-a73c-4d595b316eb1",
   "metadata": {
    "tags": []
   },
   "source": [
    "## Submission"
   ]
  },
  {
   "cell_type": "code",
   "execution_count": 89,
   "id": "3da5c75d-3c20-4be7-9621-844b50aaeb3b",
   "metadata": {},
   "outputs": [],
   "source": [
    "# Merges both Manufacturer and Model into one\n",
    "\n",
    "test[\"Model\"] = test.Manufacturer + \" \" + test.Model"
   ]
  },
  {
   "cell_type": "code",
   "execution_count": 90,
   "id": "275155de-e54a-4890-86c4-4f58733960fd",
   "metadata": {},
   "outputs": [],
   "source": [
    "# Drops column ID considering not required for modeling\n",
    "\n",
    "test.drop([\"ID\"], axis=1, inplace=True)"
   ]
  },
  {
   "cell_type": "code",
   "execution_count": 91,
   "id": "acd43667-a044-4d32-90ff-80eb4b3924d4",
   "metadata": {},
   "outputs": [
    {
     "data": {
      "text/plain": [
       "Levy                 object\n",
       "Manufacturer         object\n",
       "Model                object\n",
       "Prod. year            int64\n",
       "Category             object\n",
       "Leather interior     object\n",
       "Fuel type            object\n",
       "Engine volume        object\n",
       "Mileage              object\n",
       "Cylinders             int64\n",
       "Gear box type        object\n",
       "Drive wheels         object\n",
       "Doors                object\n",
       "Wheel                object\n",
       "Color                object\n",
       "Airbags               int64\n",
       "Price               float64\n",
       "dtype: object"
      ]
     },
     "execution_count": 91,
     "metadata": {},
     "output_type": "execute_result"
    }
   ],
   "source": [
    "# Checks for the data types for train dataset\n",
    "\n",
    "test.dtypes"
   ]
  },
  {
   "cell_type": "code",
   "execution_count": 92,
   "id": "f51b980c-9506-492d-811f-004fc0cac26d",
   "metadata": {},
   "outputs": [],
   "source": [
    "# Converts all text into lowercase\n",
    "\n",
    "test = pd.concat(\n",
    "    [test[col].str.lower() if test[col].dtype == 'object' else test[col] for col in test.columns ], \n",
    "    axis=1)"
   ]
  },
  {
   "cell_type": "code",
   "execution_count": 93,
   "id": "b8337bcf-5a7c-4dea-92cf-4850d96a23a8",
   "metadata": {},
   "outputs": [],
   "source": [
    "# Extracts only numeric value for column Engine volume\n",
    "\n",
    "test[[\"Engine volume\", \"Turbo\"]] = test[\"Engine volume\"].str.split(expand=True)\n",
    "test[\"Engine volume\"] = test[\"Engine volume\"].astype(\"float\")\n",
    "\n",
    "# Keeps the information whether the engine is Turbo charged or not\n",
    "\n",
    "test[\"Turbo\"].fillna(\"no\", inplace=True)\n",
    "test[\"Turbo\"].replace(\"turbo\", \"yes\", inplace=True)"
   ]
  },
  {
   "cell_type": "code",
   "execution_count": 94,
   "id": "d9b85a4a-60b6-4ce1-aedb-e8dc389f10d2",
   "metadata": {},
   "outputs": [],
   "source": [
    "# Seperates Mileage from its units to get its numeric value\n",
    "\n",
    "test[\"Mileage\"] = test[\"Mileage\"].str.split(expand=True)[0]\n",
    "test[\"Mileage\"] = test[\"Mileage\"].astype(\"int\")"
   ]
  },
  {
   "cell_type": "code",
   "execution_count": 97,
   "id": "51d9d69e-465c-4661-bed6-1bb5eab32cf0",
   "metadata": {},
   "outputs": [],
   "source": [
    "# Changing categorical variables datatypes to make CatBoost compatible\n",
    "\n",
    "X_test = test[features].astype({'Model': 'string', 'Category': 'string', 'Leather interior': 'string', \"Fuel type\": 'string', \\\n",
    "                       'Gear box type': 'string', 'Drive wheels': 'string', 'Turbo': 'string'})"
   ]
  },
  {
   "cell_type": "code",
   "execution_count": 101,
   "id": "0d47eef6-f829-45d6-b226-6b30075b88af",
   "metadata": {},
   "outputs": [],
   "source": [
    "# Create internal structure specific to CatBoost to handle training data\n",
    "\n",
    "test_pool = Pool(X_test.values, cat_features=categorical_features_indices)"
   ]
  },
  {
   "cell_type": "code",
   "execution_count": 102,
   "id": "bebb209a-e308-499a-a69d-7eeb51081df8",
   "metadata": {},
   "outputs": [],
   "source": [
    "# Performs predictions\n",
    "\n",
    "predictions = model.predict(test_pool)"
   ]
  },
  {
   "cell_type": "code",
   "execution_count": 103,
   "id": "6e307ab4-554e-4513-9335-1b95b6a9d42c",
   "metadata": {},
   "outputs": [
    {
     "data": {
      "text/plain": [
       "count      8245.000000\n",
       "mean      17324.136829\n",
       "std       14431.158804\n",
       "min       -3071.749317\n",
       "25%        7801.174456\n",
       "50%       13766.417028\n",
       "75%       21486.932616\n",
       "max      164696.949025\n",
       "dtype: float64"
      ]
     },
     "execution_count": 103,
     "metadata": {},
     "output_type": "execute_result"
    }
   ],
   "source": [
    "# Checks the predictions statistics\n",
    "\n",
    "pd.Series(predictions).describe()"
   ]
  },
  {
   "cell_type": "code",
   "execution_count": 104,
   "id": "79cca895-4316-488c-a473-47b9c163b82c",
   "metadata": {},
   "outputs": [],
   "source": [
    "# Clips prediction values if goes negative\n",
    "\n",
    "predictions = np.clip(predictions, 0, None)"
   ]
  },
  {
   "cell_type": "code",
   "execution_count": 105,
   "id": "80188ebf-527e-4f79-bd9a-aff09a7bf7b0",
   "metadata": {},
   "outputs": [],
   "source": [
    "# Saves prediction into .CSV file\n",
    "\n",
    "predictions = pd.DataFrame(predictions, columns=[\"Price\"], dtype='int') \n",
    "predictions.to_csv(\"./submission.csv\", index=False)"
   ]
  }
 ],
 "metadata": {
  "kernelspec": {
   "display_name": "Python 3",
   "language": "python",
   "name": "python3"
  },
  "language_info": {
   "codemirror_mode": {
    "name": "ipython",
    "version": 3
   },
   "file_extension": ".py",
   "mimetype": "text/x-python",
   "name": "python",
   "nbconvert_exporter": "python",
   "pygments_lexer": "ipython3",
   "version": "3.7.10"
  }
 },
 "nbformat": 4,
 "nbformat_minor": 5
}
