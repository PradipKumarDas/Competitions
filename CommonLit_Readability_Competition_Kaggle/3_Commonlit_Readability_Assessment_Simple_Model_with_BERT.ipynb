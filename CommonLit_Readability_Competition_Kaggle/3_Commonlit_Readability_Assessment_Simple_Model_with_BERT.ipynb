{
 "cells": [
  {
   "cell_type": "markdown",
   "id": "8abf3043-d7ba-415e-8f08-bee8b36cf735",
   "metadata": {
    "papermill": {
     "duration": 0.017499,
     "end_time": "2021-06-13T14:43:26.205898",
     "exception": false,
     "start_time": "2021-06-13T14:43:26.188399",
     "status": "completed"
    },
    "tags": []
   },
   "source": [
    "################################################################################\n",
    "\n",
    "**Author**: _Pradip Kumar Das_\n",
    "\n",
    "**License:** https://github.com/PradipKumarDas/Competitions/blob/main/LICENSE\n",
    "\n",
    "**Profile & Contact:** [LinkedIn](https://www.linkedin.com/in/daspradipkumar/) | [GitHub](https://github.com/PradipKumarDas) | [Kaggle](https://www.kaggle.com/pradipkumardas) | pradipkumardas@hotmail.com (Email)\n",
    "\n",
    "################################################################################\n",
    "\n",
    "# **CommonLit Readability Assessment**\n",
    "## Determinining Performance with BERT\n",
    "\n",
    "**_Sections:_**\n",
    "- _Required Packages & Helpers_\n",
    "- _Configuration_\n",
    "- _Data Preparation_\n",
    "- _Modeling_\n",
    "- _Evaluation_\n",
    "- _Submission_\n",
    "\n",
    "**_References (My Earlier Related Work):_**\n",
    "1. [*Exploratory Data Analysis (EDA)*](https://www.kaggle.com/pradipkumardas/1-commonlit-readability-eda)\n",
    "2. [*Baselining Model Performance with 1D ConvNet*](https://www.kaggle.com/pradipkumardas/2-commonlit-readability-baseline-perf-1dconvnet)\n",
    "\n",
    "_**Note:** This notebook just fine-tunes pretrained BERT (base, uncased) model without cross validation, and tries to get the initial prediction performance. Other advanced options and techniques are being explored and will be shared soon._"
   ]
  },
  {
   "cell_type": "markdown",
   "id": "compressed-sheffield",
   "metadata": {
    "execution": {
     "iopub.execute_input": "2021-06-12T05:15:53.73481Z",
     "iopub.status.busy": "2021-06-12T05:15:53.734247Z",
     "iopub.status.idle": "2021-06-12T05:15:53.740068Z",
     "shell.execute_reply": "2021-06-12T05:15:53.738786Z",
     "shell.execute_reply.started": "2021-06-12T05:15:53.734744Z"
    },
    "papermill": {
     "duration": 0.017531,
     "end_time": "2021-06-13T14:43:26.241204",
     "exception": false,
     "start_time": "2021-06-13T14:43:26.223673",
     "status": "completed"
    },
    "tags": []
   },
   "source": [
    "## Required Packages & Helpers"
   ]
  },
  {
   "cell_type": "code",
   "execution_count": 1,
   "id": "naughty-permit",
   "metadata": {
    "execution": {
     "iopub.execute_input": "2021-06-13T14:43:26.288304Z",
     "iopub.status.busy": "2021-06-13T14:43:26.287678Z",
     "iopub.status.idle": "2021-06-13T14:43:33.401347Z",
     "shell.execute_reply": "2021-06-13T14:43:33.400318Z",
     "shell.execute_reply.started": "2021-06-13T14:41:02.544427Z"
    },
    "papermill": {
     "duration": 7.142376,
     "end_time": "2021-06-13T14:43:33.401519",
     "exception": false,
     "start_time": "2021-06-13T14:43:26.259143",
     "status": "completed"
    },
    "tags": []
   },
   "outputs": [],
   "source": [
    "# Imports required packages\n",
    "\n",
    "import numpy as np\n",
    "import pandas as pd\n",
    "\n",
    "from sklearn.model_selection import train_test_split\n",
    "\n",
    "import tensorflow as tf\n",
    "import tensorflow.keras as keras\n",
    "from tensorflow.keras import layers\n",
    "from tensorflow.keras.models import Model\n",
    "from tensorflow.keras.metrics import RootMeanSquaredError\n",
    "from tensorflow.keras.callbacks import EarlyStopping, ModelCheckpoint\n",
    "\n",
    "from transformers import TFAutoModelForSequenceClassification, AutoTokenizer\n",
    "\n",
    "import matplotlib.pyplot as plt\n",
    "import seaborn as sns"
   ]
  },
  {
   "cell_type": "markdown",
   "id": "settled-piano",
   "metadata": {
    "papermill": {
     "duration": 0.01753,
     "end_time": "2021-06-13T14:43:33.437331",
     "exception": false,
     "start_time": "2021-06-13T14:43:33.419801",
     "status": "completed"
    },
    "tags": []
   },
   "source": [
    "## Configurations"
   ]
  },
  {
   "cell_type": "code",
   "execution_count": 2,
   "id": "higher-improvement",
   "metadata": {
    "execution": {
     "iopub.execute_input": "2021-06-13T14:43:33.477150Z",
     "iopub.status.busy": "2021-06-13T14:43:33.476308Z",
     "iopub.status.idle": "2021-06-13T14:43:33.478725Z",
     "shell.execute_reply": "2021-06-13T14:43:33.478335Z",
     "shell.execute_reply.started": "2021-06-13T14:41:11.708851Z"
    },
    "papermill": {
     "duration": 0.02375,
     "end_time": "2021-06-13T14:43:33.478832",
     "exception": false,
     "start_time": "2021-06-13T14:43:33.455082",
     "status": "completed"
    },
    "tags": []
   },
   "outputs": [],
   "source": [
    "# Sets data configurations\n",
    "\n",
    "data_config ={\n",
    "    \"n_bins\": 20,\n",
    "    \"n_splits\": 5    \n",
    "}"
   ]
  },
  {
   "cell_type": "code",
   "execution_count": 3,
   "id": "southern-venue",
   "metadata": {
    "execution": {
     "iopub.execute_input": "2021-06-13T14:43:33.518014Z",
     "iopub.status.busy": "2021-06-13T14:43:33.517328Z",
     "iopub.status.idle": "2021-06-13T14:43:33.519597Z",
     "shell.execute_reply": "2021-06-13T14:43:33.519962Z",
     "shell.execute_reply.started": "2021-06-13T14:41:16.573690Z"
    },
    "papermill": {
     "duration": 0.023756,
     "end_time": "2021-06-13T14:43:33.520079",
     "exception": false,
     "start_time": "2021-06-13T14:43:33.496323",
     "status": "completed"
    },
    "tags": []
   },
   "outputs": [],
   "source": [
    "# Sets model specific configurations\n",
    "\n",
    "model_config = {\n",
    "    \"model_name\": \"../input/huggingface-bert/bert-base-cased\",\n",
    "    \"model_path\": \"model.h5\",\n",
    "    \"num_labels\": 1,\n",
    "    \"learning_rate\": 5e-5,\n",
    "    \"batch_size\": 32,\n",
    "    \"max_length\": 256,\n",
    "    \"steps_per_epoch\": 70,  # ~(<validation size>/<batch size>)\n",
    "    \"epochs\": 30,\n",
    "}"
   ]
  },
  {
   "cell_type": "code",
   "execution_count": 4,
   "id": "operating-appeal",
   "metadata": {
    "execution": {
     "iopub.execute_input": "2021-06-13T14:43:33.559551Z",
     "iopub.status.busy": "2021-06-13T14:43:33.558827Z",
     "iopub.status.idle": "2021-06-13T14:43:33.560970Z",
     "shell.execute_reply": "2021-06-13T14:43:33.561386Z",
     "shell.execute_reply.started": "2021-06-13T14:41:16.823629Z"
    },
    "papermill": {
     "duration": 0.023736,
     "end_time": "2021-06-13T14:43:33.561502",
     "exception": false,
     "start_time": "2021-06-13T14:43:33.537766",
     "status": "completed"
    },
    "tags": []
   },
   "outputs": [],
   "source": [
    "# Setting initialization for the theme of the plots\n",
    "\n",
    "sns.set_theme()"
   ]
  },
  {
   "cell_type": "markdown",
   "id": "serious-level",
   "metadata": {
    "papermill": {
     "duration": 0.017671,
     "end_time": "2021-06-13T14:43:33.597057",
     "exception": false,
     "start_time": "2021-06-13T14:43:33.579386",
     "status": "completed"
    },
    "tags": []
   },
   "source": [
    "## Data Preparation"
   ]
  },
  {
   "cell_type": "code",
   "execution_count": 5,
   "id": "computational-contrary",
   "metadata": {
    "execution": {
     "iopub.execute_input": "2021-06-13T14:43:33.638531Z",
     "iopub.status.busy": "2021-06-13T14:43:33.637946Z",
     "iopub.status.idle": "2021-06-13T14:43:33.728375Z",
     "shell.execute_reply": "2021-06-13T14:43:33.727822Z",
     "shell.execute_reply.started": "2021-06-13T14:41:19.403577Z"
    },
    "papermill": {
     "duration": 0.113915,
     "end_time": "2021-06-13T14:43:33.728539",
     "exception": false,
     "start_time": "2021-06-13T14:43:33.614624",
     "status": "completed"
    },
    "tags": []
   },
   "outputs": [],
   "source": [
    "# Loads data\n",
    "\n",
    "train = pd.read_csv(\"../input/commonlitreadabilityprize/train.csv\")\n",
    "test = pd.read_csv(\"../input/commonlitreadabilityprize/test.csv\")\n",
    "submission = pd.read_csv(\"../input/commonlitreadabilityprize/sample_submission.csv\")"
   ]
  },
  {
   "cell_type": "code",
   "execution_count": 6,
   "id": "labeled-canyon",
   "metadata": {
    "execution": {
     "iopub.execute_input": "2021-06-13T14:43:33.780299Z",
     "iopub.status.busy": "2021-06-13T14:43:33.779553Z",
     "iopub.status.idle": "2021-06-13T14:43:33.781682Z",
     "shell.execute_reply": "2021-06-13T14:43:33.782073Z",
     "shell.execute_reply.started": "2021-06-13T14:41:19.933755Z"
    },
    "papermill": {
     "duration": 0.035557,
     "end_time": "2021-06-13T14:43:33.782215",
     "exception": false,
     "start_time": "2021-06-13T14:43:33.746658",
     "status": "completed"
    },
    "tags": []
   },
   "outputs": [],
   "source": [
    "# Making all excerpts in lowercase\n",
    "\n",
    "train.excerpt = train.excerpt.str.lower()"
   ]
  },
  {
   "cell_type": "markdown",
   "id": "adverse-worse",
   "metadata": {
    "papermill": {
     "duration": 0.017509,
     "end_time": "2021-06-13T14:43:33.817320",
     "exception": false,
     "start_time": "2021-06-13T14:43:33.799811",
     "status": "completed"
    },
    "tags": []
   },
   "source": [
    "**Segmenting Labels (Distributing Lables in Discrete Intervals)**: As target is a interval variable, these labels should be segmented so that nearly equal number of samples from each segment can be selected during training model."
   ]
  },
  {
   "cell_type": "code",
   "execution_count": 7,
   "id": "monthly-leonard",
   "metadata": {
    "execution": {
     "iopub.execute_input": "2021-06-13T14:43:33.856848Z",
     "iopub.status.busy": "2021-06-13T14:43:33.856308Z",
     "iopub.status.idle": "2021-06-13T14:43:33.863413Z",
     "shell.execute_reply": "2021-06-13T14:43:33.863807Z",
     "shell.execute_reply.started": "2021-06-13T14:41:22.473879Z"
    },
    "papermill": {
     "duration": 0.028922,
     "end_time": "2021-06-13T14:43:33.863919",
     "exception": false,
     "start_time": "2021-06-13T14:43:33.834997",
     "status": "completed"
    },
    "tags": []
   },
   "outputs": [],
   "source": [
    "# Segments discrete interval of label by marking each sample with a bin number\n",
    "\n",
    "train[\"bin\"] = pd.cut(\n",
    "    x=train.target, bins=data_config[\"n_bins\"], \n",
    "    labels=[i for i in range(data_config[\"n_bins\"])])"
   ]
  },
  {
   "cell_type": "code",
   "execution_count": 8,
   "id": "transparent-injection",
   "metadata": {
    "execution": {
     "iopub.execute_input": "2021-06-13T14:43:33.903529Z",
     "iopub.status.busy": "2021-06-13T14:43:33.903013Z",
     "iopub.status.idle": "2021-06-13T14:43:33.910221Z",
     "shell.execute_reply": "2021-06-13T14:43:33.909815Z",
     "shell.execute_reply.started": "2021-06-13T14:41:22.893692Z"
    },
    "papermill": {
     "duration": 0.028848,
     "end_time": "2021-06-13T14:43:33.910325",
     "exception": false,
     "start_time": "2021-06-13T14:43:33.881477",
     "status": "completed"
    },
    "tags": []
   },
   "outputs": [],
   "source": [
    "x_train, x_val, y_train, y_val = train_test_split(train.excerpt, train.target, test_size=0.2, shuffle=True, stratify=train.bin)"
   ]
  },
  {
   "cell_type": "markdown",
   "id": "oriented-mercury",
   "metadata": {
    "papermill": {
     "duration": 0.017377,
     "end_time": "2021-06-13T14:43:33.945748",
     "exception": false,
     "start_time": "2021-06-13T14:43:33.928371",
     "status": "completed"
    },
    "tags": []
   },
   "source": [
    "## Modeling"
   ]
  },
  {
   "cell_type": "markdown",
   "id": "relative-tunnel",
   "metadata": {
    "papermill": {
     "duration": 0.017498,
     "end_time": "2021-06-13T14:43:33.980882",
     "exception": false,
     "start_time": "2021-06-13T14:43:33.963384",
     "status": "completed"
    },
    "tags": []
   },
   "source": [
    "### Prepares Data for model training"
   ]
  },
  {
   "cell_type": "code",
   "execution_count": 9,
   "id": "significant-galaxy",
   "metadata": {
    "execution": {
     "iopub.execute_input": "2021-06-13T14:43:34.019319Z",
     "iopub.status.busy": "2021-06-13T14:43:34.018801Z",
     "iopub.status.idle": "2021-06-13T14:43:34.099796Z",
     "shell.execute_reply": "2021-06-13T14:43:34.099156Z",
     "shell.execute_reply.started": "2021-06-13T14:41:25.543636Z"
    },
    "papermill": {
     "duration": 0.101395,
     "end_time": "2021-06-13T14:43:34.099924",
     "exception": false,
     "start_time": "2021-06-13T14:43:33.998529",
     "status": "completed"
    },
    "tags": []
   },
   "outputs": [],
   "source": [
    "# Creates tokenizer to prepare data for model training\n",
    "\n",
    "tokenizer = AutoTokenizer.from_pretrained(model_config[\"model_name\"])"
   ]
  },
  {
   "cell_type": "code",
   "execution_count": 10,
   "id": "horizontal-motorcycle",
   "metadata": {
    "execution": {
     "iopub.execute_input": "2021-06-13T14:43:34.142787Z",
     "iopub.status.busy": "2021-06-13T14:43:34.142181Z",
     "iopub.status.idle": "2021-06-13T14:43:41.144788Z",
     "shell.execute_reply": "2021-06-13T14:43:41.145813Z",
     "shell.execute_reply.started": "2021-06-13T14:42:08.544136Z"
    },
    "papermill": {
     "duration": 7.028164,
     "end_time": "2021-06-13T14:43:41.146024",
     "exception": false,
     "start_time": "2021-06-13T14:43:34.117860",
     "status": "completed"
    },
    "tags": []
   },
   "outputs": [],
   "source": [
    "# Encodes all training, validation and test data\n",
    "\n",
    "train_encodings = tokenizer(\n",
    "    x_train.tolist(), \n",
    "    max_length=model_config[\"max_length\"], \n",
    "    truncation=True, \n",
    "    padding=\"max_length\",\n",
    "    return_tensors=\"tf\")\n",
    "\n",
    "val_encodings = tokenizer(\n",
    "    x_val.tolist(), \n",
    "    max_length=model_config[\"max_length\"], \n",
    "    truncation=True, \n",
    "    padding=\"max_length\",\n",
    "    return_tensors=\"tf\")\n",
    "\n",
    "test_encodings = tokenizer(\n",
    "    test.excerpt.tolist(), \n",
    "    max_length=model_config[\"max_length\"], \n",
    "    truncation=True, \n",
    "    padding=\"max_length\",\n",
    "    return_tensors=\"tf\")"
   ]
  },
  {
   "cell_type": "code",
   "execution_count": 11,
   "id": "suspended-advocate",
   "metadata": {
    "execution": {
     "iopub.execute_input": "2021-06-13T14:43:41.216069Z",
     "iopub.status.busy": "2021-06-13T14:43:41.215309Z",
     "iopub.status.idle": "2021-06-13T14:43:41.245111Z",
     "shell.execute_reply": "2021-06-13T14:43:41.246218Z",
     "shell.execute_reply.started": "2021-06-13T14:42:15.539675Z"
    },
    "papermill": {
     "duration": 0.070824,
     "end_time": "2021-06-13T14:43:41.246401",
     "exception": false,
     "start_time": "2021-06-13T14:43:41.175577",
     "status": "completed"
    },
    "tags": []
   },
   "outputs": [],
   "source": [
    "# Prepares training, validation and test data in a form (from encodings to dataset) the model expects to get trained on\n",
    "\n",
    "train_dataset = tf.data.Dataset.from_tensor_slices((\n",
    "    {\"input_ids\": train_encodings[\"input_ids\"], \"attention_mask\": train_encodings[\"attention_mask\"]},\n",
    "    y_train))\n",
    "train_dataset = train_dataset.repeat()\n",
    "train_dataset = train_dataset.shuffle(1024)\n",
    "train_dataset = train_dataset.batch(model_config[\"batch_size\"])\n",
    "train_dataset = train_dataset.prefetch(tf.data.AUTOTUNE)\n",
    "\n",
    "val_dataset = tf.data.Dataset.from_tensor_slices((\n",
    "    {\"input_ids\": val_encodings[\"input_ids\"], \"attention_mask\": val_encodings[\"attention_mask\"]},\n",
    "    y_val))\n",
    "val_dataset = val_dataset.batch(model_config[\"batch_size\"])\n",
    "val_dataset = val_dataset.prefetch(tf.data.AUTOTUNE)\n",
    "\n",
    "test_dataset = tf.data.Dataset.from_tensor_slices(\n",
    "    {\"input_ids\": test_encodings[\"input_ids\"], \"attention_mask\": test_encodings[\"attention_mask\"]})\n",
    "test_dataset = test_dataset.batch(model_config[\"batch_size\"])\n",
    "test_dataset = test_dataset.prefetch(tf.data.AUTOTUNE)"
   ]
  },
  {
   "cell_type": "markdown",
   "id": "proper-citizen",
   "metadata": {
    "papermill": {
     "duration": 0.033351,
     "end_time": "2021-06-13T14:43:41.316248",
     "exception": false,
     "start_time": "2021-06-13T14:43:41.282897",
     "status": "completed"
    },
    "tags": []
   },
   "source": [
    "### Creates Model"
   ]
  },
  {
   "cell_type": "code",
   "execution_count": 12,
   "id": "tough-astronomy",
   "metadata": {
    "execution": {
     "iopub.execute_input": "2021-06-13T14:43:41.391971Z",
     "iopub.status.busy": "2021-06-13T14:43:41.391231Z",
     "iopub.status.idle": "2021-06-13T14:43:58.135027Z",
     "shell.execute_reply": "2021-06-13T14:43:58.134391Z",
     "shell.execute_reply.started": "2021-06-13T14:42:20.513679Z"
    },
    "papermill": {
     "duration": 16.785693,
     "end_time": "2021-06-13T14:43:58.135225",
     "exception": false,
     "start_time": "2021-06-13T14:43:41.349532",
     "status": "completed"
    },
    "tags": []
   },
   "outputs": [
    {
     "name": "stderr",
     "output_type": "stream",
     "text": [
      "All model checkpoint layers were used when initializing TFBertForSequenceClassification.\n",
      "\n",
      "Some layers of TFBertForSequenceClassification were not initialized from the model checkpoint at ../input/huggingface-bert/bert-base-cased and are newly initialized: ['classifier']\n",
      "You should probably TRAIN this model on a down-stream task to be able to use it for predictions and inference.\n"
     ]
    },
    {
     "name": "stdout",
     "output_type": "stream",
     "text": [
      "Model: \"model\"\n",
      "__________________________________________________________________________________________________\n",
      "Layer (type)                    Output Shape         Param #     Connected to                     \n",
      "==================================================================================================\n",
      "attention_mask (InputLayer)     [(None, 256)]        0                                            \n",
      "__________________________________________________________________________________________________\n",
      "input_ids (InputLayer)          [(None, 256)]        0                                            \n",
      "__________________________________________________________________________________________________\n",
      "tf_bert_for_sequence_classifica TFSequenceClassifier 108311041   attention_mask[0][0]             \n",
      "                                                                 input_ids[0][0]                  \n",
      "==================================================================================================\n",
      "Total params: 108,311,041\n",
      "Trainable params: 108,311,041\n",
      "Non-trainable params: 0\n",
      "__________________________________________________________________________________________________\n"
     ]
    }
   ],
   "source": [
    "# Creates primary model\n",
    "encoder = TFAutoModelForSequenceClassification.from_pretrained(\n",
    "    model_config[\"model_name\"], num_labels = model_config[\"num_labels\"])\n",
    "\n",
    "# Creates multi inputs for model\n",
    "input_ids = layers.Input(shape=(model_config[\"max_length\"], ), dtype=tf.int32, name=\"input_ids\")\n",
    "attention_mask = layers.Input(shape=(model_config[\"max_length\"]), dtype=tf.int32, name=\"attention_mask\")\n",
    "\n",
    "# Sets model output\n",
    "outputs = encoder({\"input_ids\": input_ids, \"attention_mask\": attention_mask})\n",
    "\n",
    "# Creates a wrapper model\n",
    "model = Model(inputs=[input_ids, attention_mask], outputs=outputs)\n",
    "\n",
    "# Compiles and shows the summary to check\n",
    "model.compile(\n",
    "    optimizer=keras.optimizers.Adam(model_config[\"learning_rate\"]),\n",
    "    loss=keras.losses.MeanSquaredError(),\n",
    "    metrics=keras.metrics.RootMeanSquaredError())\n",
    "\n",
    "model.summary()"
   ]
  },
  {
   "cell_type": "markdown",
   "id": "funny-yeast",
   "metadata": {
    "papermill": {
     "duration": 0.018503,
     "end_time": "2021-06-13T14:43:58.173758",
     "exception": false,
     "start_time": "2021-06-13T14:43:58.155255",
     "status": "completed"
    },
    "tags": []
   },
   "source": [
    "### Sets Model Rules and Trains"
   ]
  },
  {
   "cell_type": "code",
   "execution_count": 13,
   "id": "listed-quantity",
   "metadata": {
    "execution": {
     "iopub.execute_input": "2021-06-13T14:43:58.217685Z",
     "iopub.status.busy": "2021-06-13T14:43:58.216885Z",
     "iopub.status.idle": "2021-06-13T14:58:26.930729Z",
     "shell.execute_reply": "2021-06-13T14:58:26.931130Z",
     "shell.execute_reply.started": "2021-06-13T09:04:42.643512Z"
    },
    "papermill": {
     "duration": 868.739006,
     "end_time": "2021-06-13T14:58:26.931319",
     "exception": false,
     "start_time": "2021-06-13T14:43:58.192313",
     "status": "completed"
    },
    "tags": []
   },
   "outputs": [
    {
     "name": "stdout",
     "output_type": "stream",
     "text": [
      "Epoch 1/30\n",
      "70/70 - 87s - loss: 0.5574 - root_mean_squared_error: 0.7466 - val_loss: 0.4851 - val_root_mean_squared_error: 0.6965\n",
      "Epoch 2/30\n",
      "70/70 - 71s - loss: 0.2876 - root_mean_squared_error: 0.5363 - val_loss: 0.3085 - val_root_mean_squared_error: 0.5554\n",
      "Epoch 3/30\n",
      "70/70 - 71s - loss: 0.1710 - root_mean_squared_error: 0.4136 - val_loss: 0.3795 - val_root_mean_squared_error: 0.6161\n",
      "Epoch 4/30\n",
      "70/70 - 71s - loss: 0.0953 - root_mean_squared_error: 0.3088 - val_loss: 0.4398 - val_root_mean_squared_error: 0.6632\n",
      "Epoch 5/30\n",
      "70/70 - 71s - loss: 0.0611 - root_mean_squared_error: 0.2473 - val_loss: 0.3798 - val_root_mean_squared_error: 0.6163\n",
      "Epoch 6/30\n",
      "70/70 - 71s - loss: 0.0474 - root_mean_squared_error: 0.2177 - val_loss: 0.3542 - val_root_mean_squared_error: 0.5952\n",
      "Epoch 7/30\n",
      "70/70 - 71s - loss: 0.0420 - root_mean_squared_error: 0.2048 - val_loss: 0.2906 - val_root_mean_squared_error: 0.5391\n",
      "Epoch 8/30\n",
      "70/70 - 71s - loss: 0.0444 - root_mean_squared_error: 0.2108 - val_loss: 0.3870 - val_root_mean_squared_error: 0.6221\n",
      "Epoch 9/30\n",
      "70/70 - 71s - loss: 0.0321 - root_mean_squared_error: 0.1791 - val_loss: 0.3790 - val_root_mean_squared_error: 0.6157\n",
      "Epoch 10/30\n",
      "70/70 - 71s - loss: 0.0257 - root_mean_squared_error: 0.1604 - val_loss: 0.4164 - val_root_mean_squared_error: 0.6453\n",
      "Epoch 11/30\n",
      "70/70 - 71s - loss: 0.0243 - root_mean_squared_error: 0.1558 - val_loss: 0.3810 - val_root_mean_squared_error: 0.6173\n",
      "Epoch 12/30\n",
      "70/70 - 71s - loss: 0.0201 - root_mean_squared_error: 0.1419 - val_loss: 0.3725 - val_root_mean_squared_error: 0.6103\n",
      "Restoring model weights from the end of the best epoch.\n",
      "Epoch 00012: early stopping\n"
     ]
    }
   ],
   "source": [
    "# Configures monitor with rules for model training to stop if criterion match\n",
    "\n",
    "early_stopping_monitor = EarlyStopping(\n",
    "    monitor=\"val_root_mean_squared_error\", mode=\"min\", patience=5, restore_best_weights=True, verbose=1)\n",
    "\n",
    "# Configures rules to store model parameters (only weights) at its best during training\n",
    "\n",
    "checkpoint = ModelCheckpoint(\n",
    "    model_config[\"model_path\"], monitor=\"val_root_mean_squared_error\", mode=\"min\", save_best_only=True, save_weights_only=True)\n",
    "\n",
    "# Fits (trains) the model\n",
    "\n",
    "history = model.fit(\n",
    "    x=train_dataset,\n",
    "    validation_data=val_dataset,\n",
    "    steps_per_epoch=model_config[\"steps_per_epoch\"],\n",
    "    callbacks=[early_stopping_monitor, checkpoint],\n",
    "    epochs=model_config[\"epochs\"],\n",
    "    verbose=2).history"
   ]
  },
  {
   "cell_type": "markdown",
   "id": "adjustable-operator",
   "metadata": {
    "papermill": {
     "duration": 0.025043,
     "end_time": "2021-06-13T14:58:26.981699",
     "exception": false,
     "start_time": "2021-06-13T14:58:26.956656",
     "status": "completed"
    },
    "tags": []
   },
   "source": [
    "## Evaluating Model "
   ]
  },
  {
   "cell_type": "code",
   "execution_count": 14,
   "id": "widespread-sterling",
   "metadata": {
    "execution": {
     "iopub.execute_input": "2021-06-13T14:58:27.039851Z",
     "iopub.status.busy": "2021-06-13T14:58:27.039088Z",
     "iopub.status.idle": "2021-06-13T14:58:27.236944Z",
     "shell.execute_reply": "2021-06-13T14:58:27.237353Z",
     "shell.execute_reply.started": "2021-06-13T09:17:25.063621Z"
    },
    "papermill": {
     "duration": 0.230615,
     "end_time": "2021-06-13T14:58:27.237483",
     "exception": false,
     "start_time": "2021-06-13T14:58:27.006868",
     "status": "completed"
    },
    "tags": []
   },
   "outputs": [
    {
     "data": {
      "image/png": "[encoded data removed]",
      "text/plain": [
       "<Figure size 432x288 with 1 Axes>"
      ]
     },
     "metadata": {},
     "output_type": "display_data"
    }
   ],
   "source": [
    "plt.title(\"Training vs. Validation Loss\")\n",
    "plt.plot(range(1, len(history[\"root_mean_squared_error\"]) + 1), history[\"root_mean_squared_error\"], \"bo\", label=\"Loss\")\n",
    "plt.plot(range(1, len(history[\"val_root_mean_squared_error\"]) + 1), history[\"val_root_mean_squared_error\"], \"b\", label=\"Validation Loss\")\n",
    "plt.xlabel(\"Epochs\")\n",
    "plt.ylabel(\"Loss (RMSE)\")\n",
    "plt.legend()\n",
    "plt.show()"
   ]
  },
  {
   "cell_type": "code",
   "execution_count": 15,
   "id": "eleven-graphic",
   "metadata": {
    "execution": {
     "iopub.execute_input": "2021-06-13T14:58:27.293252Z",
     "iopub.status.busy": "2021-06-13T14:58:27.292712Z",
     "iopub.status.idle": "2021-06-13T14:58:27.297476Z",
     "shell.execute_reply": "2021-06-13T14:58:27.297060Z",
     "shell.execute_reply.started": "2021-06-13T09:17:36.403343Z"
    },
    "papermill": {
     "duration": 0.034345,
     "end_time": "2021-06-13T14:58:27.297584",
     "exception": false,
     "start_time": "2021-06-13T14:58:27.263239",
     "status": "completed"
    },
    "tags": []
   },
   "outputs": [
    {
     "name": "stdout",
     "output_type": "stream",
     "text": [
      "Best Validation Performance: 0.5390864014625549 (RMSE) at epoch 7\n"
     ]
    }
   ],
   "source": [
    "best_epoch = np.argmin(history[\"val_root_mean_squared_error\"])\n",
    "print(f\"Best Validation Performance: {history['val_root_mean_squared_error'][best_epoch]} (RMSE) at epoch {best_epoch + 1}\")"
   ]
  },
  {
   "cell_type": "markdown",
   "id": "great-witness",
   "metadata": {
    "papermill": {
     "duration": 0.025971,
     "end_time": "2021-06-13T14:58:27.349311",
     "exception": false,
     "start_time": "2021-06-13T14:58:27.323340",
     "status": "completed"
    },
    "tags": []
   },
   "source": [
    "## Submission"
   ]
  },
  {
   "cell_type": "code",
   "execution_count": 16,
   "id": "capable-nickel",
   "metadata": {
    "execution": {
     "iopub.execute_input": "2021-06-13T14:58:27.405459Z",
     "iopub.status.busy": "2021-06-13T14:58:27.404452Z",
     "iopub.status.idle": "2021-06-13T14:58:29.800032Z",
     "shell.execute_reply": "2021-06-13T14:58:29.799569Z",
     "shell.execute_reply.started": "2021-06-13T09:23:51.558202Z"
    },
    "papermill": {
     "duration": 2.424913,
     "end_time": "2021-06-13T14:58:29.800198",
     "exception": false,
     "start_time": "2021-06-13T14:58:27.375285",
     "status": "completed"
    },
    "tags": []
   },
   "outputs": [],
   "source": [
    "# Predicts on test data\n",
    "\n",
    "test_predictions = model.predict(test_dataset)[\"logits\"]"
   ]
  },
  {
   "cell_type": "code",
   "execution_count": 17,
   "id": "flush-stock",
   "metadata": {
    "execution": {
     "iopub.execute_input": "2021-06-13T14:58:29.860041Z",
     "iopub.status.busy": "2021-06-13T14:58:29.858795Z",
     "iopub.status.idle": "2021-06-13T14:58:29.861582Z",
     "shell.execute_reply": "2021-06-13T14:58:29.861138Z",
     "shell.execute_reply.started": "2021-06-13T09:23:54.123053Z"
    },
    "papermill": {
     "duration": 0.033014,
     "end_time": "2021-06-13T14:58:29.861700",
     "exception": false,
     "start_time": "2021-06-13T14:58:29.828686",
     "status": "completed"
    },
    "tags": []
   },
   "outputs": [],
   "source": [
    "# Averaging predictions across folds\n",
    "\n",
    "submission.target = test_predictions"
   ]
  },
  {
   "cell_type": "code",
   "execution_count": 18,
   "id": "simple-amino",
   "metadata": {
    "execution": {
     "iopub.execute_input": "2021-06-13T14:58:29.917356Z",
     "iopub.status.busy": "2021-06-13T14:58:29.916826Z",
     "iopub.status.idle": "2021-06-13T14:58:30.035616Z",
     "shell.execute_reply": "2021-06-13T14:58:30.035157Z",
     "shell.execute_reply.started": "2021-06-13T09:23:56.403098Z"
    },
    "papermill": {
     "duration": 0.147882,
     "end_time": "2021-06-13T14:58:30.035725",
     "exception": false,
     "start_time": "2021-06-13T14:58:29.887843",
     "status": "completed"
    },
    "tags": []
   },
   "outputs": [],
   "source": [
    "# Submitting by saving predictions into submission file\n",
    "\n",
    "submission.to_csv(\"submission.csv\", index=False)"
   ]
  },
  {
   "cell_type": "code",
   "execution_count": null,
   "id": "proprietary-invalid",
   "metadata": {
    "papermill": {
     "duration": 0.025766,
     "end_time": "2021-06-13T14:58:30.087783",
     "exception": false,
     "start_time": "2021-06-13T14:58:30.062017",
     "status": "completed"
    },
    "tags": []
   },
   "outputs": [],
   "source": []
  }
 ],
 "metadata": {
  "kernelspec": {
   "display_name": "Python 3 (ipykernel)",
   "language": "python",
   "name": "python3"
  },
  "language_info": {
   "codemirror_mode": {
    "name": "ipython",
    "version": 3
   },
   "file_extension": ".py",
   "mimetype": "text/x-python",
   "name": "python",
   "nbconvert_exporter": "python",
   "pygments_lexer": "ipython3",
   "version": "3.7.12"
  },
  "papermill": {
   "default_parameters": {},
   "duration": 913.906091,
   "end_time": "2021-06-13T14:58:33.481080",
   "environment_variables": {},
   "exception": null,
   "input_path": "__notebook__.ipynb",
   "output_path": "__notebook__.ipynb",
   "parameters": {},
   "start_time": "2021-06-13T14:43:19.574989",
   "version": "2.3.3"
  },
  "toc-showmarkdowntxt": false
 },
 "nbformat": 4,
 "nbformat_minor": 5
}
