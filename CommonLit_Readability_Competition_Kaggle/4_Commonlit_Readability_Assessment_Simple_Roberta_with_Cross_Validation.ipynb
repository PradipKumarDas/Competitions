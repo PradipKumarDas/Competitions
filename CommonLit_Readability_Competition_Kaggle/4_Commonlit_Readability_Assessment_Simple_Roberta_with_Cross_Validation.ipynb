{
 "cells": [
  {
   "cell_type": "markdown",
   "id": "comparable-eugene",
   "metadata": {
    "papermill": {
     "duration": 0.015554,
     "end_time": "2021-06-18T12:36:41.966012",
     "exception": false,
     "start_time": "2021-06-18T12:36:41.950458",
     "status": "completed"
    },
    "tags": []
   },
   "source": [
    "# **CommonLit Readability Assessment**\n",
    "## Determinining Performance with RoBERTa Base"
   ]
  },
  {
   "cell_type": "markdown",
   "id": "unexpected-sally",
   "metadata": {
    "papermill": {
     "duration": 0.014439,
     "end_time": "2021-06-18T12:36:41.995167",
     "exception": false,
     "start_time": "2021-06-18T12:36:41.980728",
     "status": "completed"
    },
    "tags": []
   },
   "source": [
    "**_Sections:_**\n",
    "- _Required Packages & Helpers_\n",
    "- _Configuration_\n",
    "- _Data Preparation_\n",
    "- _Modeling_\n",
    "- _Evaluation_\n",
    "- _Submission_\n",
    "\n",
    "**_References (My Earlier Related Work):_**\n",
    "1. [*Exploratory Data Analysis (EDA)*](https://www.kaggle.com/pradipkumardas/1-commonlit-readability-eda)\n",
    "2. [*Baselining Model Performance with 1D ConvNet*](https://www.kaggle.com/pradipkumardas/2-commonlit-readability-baseline-perf-1dconvnet)\n",
    "3. [*Simple Model with BERT*](https://www.kaggle.com/pradipkumardas/3-commonlit-readability-simple-model-with-bert)"
   ]
  },
  {
   "cell_type": "markdown",
   "id": "raised-characteristic",
   "metadata": {
    "papermill": {
     "duration": 0.014214,
     "end_time": "2021-06-18T12:36:42.023997",
     "exception": false,
     "start_time": "2021-06-18T12:36:42.009783",
     "status": "completed"
    },
    "tags": []
   },
   "source": [
    "_**Note:** This notebook just fine-tunes pretrained RoBERTa (base) model with cross validation, and tries to find if RoBERTa (base) performs better than BERT (base, uncased) where the latter one was experimented in previous notebook (without cross validation through). Other advanced options and techniques based on this findings will be explored and shared soon._"
   ]
  },
  {
   "cell_type": "markdown",
   "id": "desperate-parking",
   "metadata": {
    "execution": {
     "iopub.execute_input": "2021-06-12T05:15:53.73481Z",
     "iopub.status.busy": "2021-06-12T05:15:53.734247Z",
     "iopub.status.idle": "2021-06-12T05:15:53.740068Z",
     "shell.execute_reply": "2021-06-12T05:15:53.738786Z",
     "shell.execute_reply.started": "2021-06-12T05:15:53.734744Z"
    },
    "papermill": {
     "duration": 0.014277,
     "end_time": "2021-06-18T12:36:42.052724",
     "exception": false,
     "start_time": "2021-06-18T12:36:42.038447",
     "status": "completed"
    },
    "tags": []
   },
   "source": [
    "## Required Packages & Helpers"
   ]
  },
  {
   "cell_type": "code",
   "execution_count": 1,
   "id": "empty-greece",
   "metadata": {
    "execution": {
     "iopub.execute_input": "2021-06-18T12:36:42.092803Z",
     "iopub.status.busy": "2021-06-18T12:36:42.092145Z",
     "iopub.status.idle": "2021-06-18T12:36:49.010971Z",
     "shell.execute_reply": "2021-06-18T12:36:49.010336Z",
     "shell.execute_reply.started": "2021-06-18T11:10:59.582285Z"
    },
    "papermill": {
     "duration": 6.943987,
     "end_time": "2021-06-18T12:36:49.011125",
     "exception": false,
     "start_time": "2021-06-18T12:36:42.067138",
     "status": "completed"
    },
    "tags": []
   },
   "outputs": [],
   "source": [
    "# Imports required packages\n",
    "\n",
    "import random\n",
    "import numpy as np\n",
    "import pandas as pd\n",
    "\n",
    "from sklearn.model_selection import StratifiedKFold\n",
    "\n",
    "import tensorflow as tf\n",
    "import tensorflow.keras as keras\n",
    "from tensorflow.keras import layers\n",
    "from tensorflow.keras.models import Model\n",
    "from tensorflow.keras.metrics import RootMeanSquaredError\n",
    "from tensorflow.keras.callbacks import EarlyStopping, ModelCheckpoint\n",
    "\n",
    "from transformers import TFAutoModelForSequenceClassification, AutoTokenizer\n",
    "\n",
    "import matplotlib.pyplot as plt\n",
    "import seaborn as sns\n",
    "\n",
    "import gc"
   ]
  },
  {
   "cell_type": "markdown",
   "id": "exact-possession",
   "metadata": {
    "papermill": {
     "duration": 0.014495,
     "end_time": "2021-06-18T12:36:49.040905",
     "exception": false,
     "start_time": "2021-06-18T12:36:49.026410",
     "status": "completed"
    },
    "tags": []
   },
   "source": [
    "## Configurations"
   ]
  },
  {
   "cell_type": "code",
   "execution_count": 2,
   "id": "cognitive-moses",
   "metadata": {
    "execution": {
     "iopub.execute_input": "2021-06-18T12:36:49.074410Z",
     "iopub.status.busy": "2021-06-18T12:36:49.073697Z",
     "iopub.status.idle": "2021-06-18T12:36:49.076446Z",
     "shell.execute_reply": "2021-06-18T12:36:49.076050Z",
     "shell.execute_reply.started": "2021-06-18T11:10:59.591513Z"
    },
    "papermill": {
     "duration": 0.020523,
     "end_time": "2021-06-18T12:36:49.076553",
     "exception": false,
     "start_time": "2021-06-18T12:36:49.056030",
     "status": "completed"
    },
    "tags": []
   },
   "outputs": [],
   "source": [
    "# Sets data configurations\n",
    "\n",
    "data_config ={\n",
    "    \"n_bins\": 20,\n",
    "    \"n_splits\": 5    \n",
    "}"
   ]
  },
  {
   "cell_type": "code",
   "execution_count": 3,
   "id": "cloudy-transition",
   "metadata": {
    "execution": {
     "iopub.execute_input": "2021-06-18T12:36:49.109544Z",
     "iopub.status.busy": "2021-06-18T12:36:49.108839Z",
     "iopub.status.idle": "2021-06-18T12:36:49.111427Z",
     "shell.execute_reply": "2021-06-18T12:36:49.111042Z",
     "shell.execute_reply.started": "2021-06-18T11:10:59.603166Z"
    },
    "papermill": {
     "duration": 0.020534,
     "end_time": "2021-06-18T12:36:49.111529",
     "exception": false,
     "start_time": "2021-06-18T12:36:49.090995",
     "status": "completed"
    },
    "tags": []
   },
   "outputs": [],
   "source": [
    "# Sets model specific configurations\n",
    "\n",
    "model_config = {\n",
    "    \"model_name\": \"../input/huggingface-roberta-variants/roberta-base/roberta-base\",\n",
    "    \"model_path\": \"model.h5\",\n",
    "    \"num_labels\": 1,\n",
    "    \"learning_rate\": 5e-5,\n",
    "    \"batch_size\": 32,\n",
    "    \"max_length\": 256,\n",
    "    \"epochs\": 30,\n",
    "}"
   ]
  },
  {
   "cell_type": "code",
   "execution_count": 4,
   "id": "inclusive-beach",
   "metadata": {
    "execution": {
     "iopub.execute_input": "2021-06-18T12:36:49.145057Z",
     "iopub.status.busy": "2021-06-18T12:36:49.144390Z",
     "iopub.status.idle": "2021-06-18T12:36:49.147124Z",
     "shell.execute_reply": "2021-06-18T12:36:49.146728Z",
     "shell.execute_reply.started": "2021-06-18T11:10:59.612135Z"
    },
    "papermill": {
     "duration": 0.021266,
     "end_time": "2021-06-18T12:36:49.147226",
     "exception": false,
     "start_time": "2021-06-18T12:36:49.125960",
     "status": "completed"
    },
    "tags": []
   },
   "outputs": [],
   "source": [
    "# Seeds to reproduce experiment results\n",
    "random.seed(42)\n",
    "np.random.seed(42)\n",
    "\n",
    "# Setting initialization for the theme of the plots\n",
    "sns.set_theme(style=\"whitegrid\")"
   ]
  },
  {
   "cell_type": "markdown",
   "id": "funded-signal",
   "metadata": {
    "papermill": {
     "duration": 0.014496,
     "end_time": "2021-06-18T12:36:49.176218",
     "exception": false,
     "start_time": "2021-06-18T12:36:49.161722",
     "status": "completed"
    },
    "tags": []
   },
   "source": [
    "## Data Preparation"
   ]
  },
  {
   "cell_type": "code",
   "execution_count": 5,
   "id": "asian-television",
   "metadata": {
    "execution": {
     "iopub.execute_input": "2021-06-18T12:36:49.211102Z",
     "iopub.status.busy": "2021-06-18T12:36:49.210575Z",
     "iopub.status.idle": "2021-06-18T12:36:49.312097Z",
     "shell.execute_reply": "2021-06-18T12:36:49.311264Z",
     "shell.execute_reply.started": "2021-06-18T11:10:59.623214Z"
    },
    "papermill": {
     "duration": 0.121592,
     "end_time": "2021-06-18T12:36:49.312225",
     "exception": false,
     "start_time": "2021-06-18T12:36:49.190633",
     "status": "completed"
    },
    "tags": []
   },
   "outputs": [],
   "source": [
    "# Loads data\n",
    "\n",
    "train = pd.read_csv(\"../input/commonlitreadabilityprize/train.csv\")\n",
    "test = pd.read_csv(\"../input/commonlitreadabilityprize/test.csv\")\n",
    "submission = pd.read_csv(\"../input/commonlitreadabilityprize/sample_submission.csv\")"
   ]
  },
  {
   "cell_type": "markdown",
   "id": "brazilian-print",
   "metadata": {
    "papermill": {
     "duration": 0.014551,
     "end_time": "2021-06-18T12:36:49.342734",
     "exception": false,
     "start_time": "2021-06-18T12:36:49.328183",
     "status": "completed"
    },
    "tags": []
   },
   "source": [
    "**Segmenting Labels (Distributing Lables in Discrete Intervals)**: As target is a interval variable, these labels should be segmented so that nearly equal number of samples from each segment can be selected during training model."
   ]
  },
  {
   "cell_type": "code",
   "execution_count": 6,
   "id": "figured-accent",
   "metadata": {
    "execution": {
     "iopub.execute_input": "2021-06-18T12:36:49.382752Z",
     "iopub.status.busy": "2021-06-18T12:36:49.381972Z",
     "iopub.status.idle": "2021-06-18T12:36:49.387152Z",
     "shell.execute_reply": "2021-06-18T12:36:49.387553Z",
     "shell.execute_reply.started": "2021-06-18T11:10:59.669464Z"
    },
    "papermill": {
     "duration": 0.030312,
     "end_time": "2021-06-18T12:36:49.387689",
     "exception": false,
     "start_time": "2021-06-18T12:36:49.357377",
     "status": "completed"
    },
    "tags": []
   },
   "outputs": [],
   "source": [
    "# Segments discrete interval of label by marking each sample with a bin number\n",
    "\n",
    "train[\"bin\"] = pd.cut(\n",
    "    x=train.target, bins=data_config[\"n_bins\"], \n",
    "    labels=[i for i in range(data_config[\"n_bins\"])])"
   ]
  },
  {
   "cell_type": "markdown",
   "id": "pointed-spending",
   "metadata": {
    "papermill": {
     "duration": 0.014549,
     "end_time": "2021-06-18T12:36:49.416870",
     "exception": false,
     "start_time": "2021-06-18T12:36:49.402321",
     "status": "completed"
    },
    "tags": []
   },
   "source": [
    "## Modeling"
   ]
  },
  {
   "cell_type": "code",
   "execution_count": 7,
   "id": "foster-plate",
   "metadata": {
    "execution": {
     "iopub.execute_input": "2021-06-18T12:36:49.449485Z",
     "iopub.status.busy": "2021-06-18T12:36:49.448795Z",
     "iopub.status.idle": "2021-06-18T12:36:49.451512Z",
     "shell.execute_reply": "2021-06-18T12:36:49.451082Z",
     "shell.execute_reply.started": "2021-06-18T11:10:59.688941Z"
    },
    "papermill": {
     "duration": 0.02032,
     "end_time": "2021-06-18T12:36:49.451617",
     "exception": false,
     "start_time": "2021-06-18T12:36:49.431297",
     "status": "completed"
    },
    "tags": []
   },
   "outputs": [],
   "source": [
    "training_history = []    # Stores the training and validation performance during cross validation\n",
    "prediction_history = []  # Stores the prediction against test data to aggregate upon while submission"
   ]
  },
  {
   "cell_type": "code",
   "execution_count": 8,
   "id": "freelance-independence",
   "metadata": {
    "execution": {
     "iopub.execute_input": "2021-06-18T12:36:49.484207Z",
     "iopub.status.busy": "2021-06-18T12:36:49.483717Z",
     "iopub.status.idle": "2021-06-18T12:36:49.659084Z",
     "shell.execute_reply": "2021-06-18T12:36:49.658538Z",
     "shell.execute_reply.started": "2021-06-18T11:10:59.700653Z"
    },
    "papermill": {
     "duration": 0.192942,
     "end_time": "2021-06-18T12:36:49.659208",
     "exception": false,
     "start_time": "2021-06-18T12:36:49.466266",
     "status": "completed"
    },
    "tags": []
   },
   "outputs": [],
   "source": [
    "# Creates tokenizer to prepare data for model training\n",
    "\n",
    "tokenizer = AutoTokenizer.from_pretrained(model_config[\"model_name\"])"
   ]
  },
  {
   "cell_type": "code",
   "execution_count": 9,
   "id": "alien-wells",
   "metadata": {
    "execution": {
     "iopub.execute_input": "2021-06-18T12:36:49.696843Z",
     "iopub.status.busy": "2021-06-18T12:36:49.696063Z",
     "iopub.status.idle": "2021-06-18T12:36:55.355437Z",
     "shell.execute_reply": "2021-06-18T12:36:55.354545Z",
     "shell.execute_reply.started": "2021-06-18T11:10:59.803007Z"
    },
    "papermill": {
     "duration": 5.680011,
     "end_time": "2021-06-18T12:36:55.355577",
     "exception": false,
     "start_time": "2021-06-18T12:36:49.675566",
     "status": "completed"
    },
    "tags": []
   },
   "outputs": [],
   "source": [
    "# Prepares test data in TensorFlow dataset format\n",
    "\n",
    "test_encodings = tokenizer(\n",
    "    test.excerpt.tolist(), \n",
    "    max_length=model_config[\"max_length\"], \n",
    "    truncation=True, \n",
    "    padding=\"max_length\",\n",
    "    return_tensors=\"tf\")\n",
    "\n",
    "test_dataset = tf.data.Dataset.from_tensor_slices(\n",
    "    {\"input_ids\": test_encodings[\"input_ids\"], \"attention_mask\": test_encodings[\"attention_mask\"]})\n",
    "test_dataset = test_dataset.batch(model_config[\"batch_size\"])\n",
    "test_dataset = test_dataset.prefetch(tf.data.AUTOTUNE)"
   ]
  },
  {
   "cell_type": "code",
   "execution_count": 10,
   "id": "collective-airline",
   "metadata": {
    "execution": {
     "iopub.execute_input": "2021-06-18T12:36:55.396919Z",
     "iopub.status.busy": "2021-06-18T12:36:55.391485Z",
     "iopub.status.idle": "2021-06-18T13:35:01.778038Z",
     "shell.execute_reply": "2021-06-18T13:35:01.777126Z",
     "shell.execute_reply.started": "2021-06-18T11:10:59.822099Z"
    },
    "papermill": {
     "duration": 3486.407946,
     "end_time": "2021-06-18T13:35:01.778190",
     "exception": false,
     "start_time": "2021-06-18T12:36:55.370244",
     "status": "completed"
    },
    "tags": []
   },
   "outputs": [
    {
     "name": "stdout",
     "output_type": "stream",
     "text": [
      "FOLD 1...\n"
     ]
    },
    {
     "name": "stderr",
     "output_type": "stream",
     "text": [
      "All model checkpoint layers were used when initializing TFRobertaForSequenceClassification.\n",
      "\n",
      "Some layers of TFRobertaForSequenceClassification were not initialized from the model checkpoint at ../input/huggingface-roberta-variants/roberta-base/roberta-base and are newly initialized: ['classifier']\n",
      "You should probably TRAIN this model on a down-stream task to be able to use it for predictions and inference.\n"
     ]
    },
    {
     "name": "stdout",
     "output_type": "stream",
     "text": [
      "Epoch 1/30\n",
      "71/71 - 89s - loss: 0.5259 - root_mean_squared_error: 0.7252 - val_loss: 0.3178 - val_root_mean_squared_error: 0.5638\n",
      "Epoch 2/30\n",
      "71/71 - 72s - loss: 0.2547 - root_mean_squared_error: 0.5047 - val_loss: 0.4670 - val_root_mean_squared_error: 0.6834\n",
      "Epoch 3/30\n",
      "71/71 - 72s - loss: 0.1572 - root_mean_squared_error: 0.3965 - val_loss: 0.4623 - val_root_mean_squared_error: 0.6800\n",
      "Epoch 4/30\n",
      "71/71 - 72s - loss: 0.1195 - root_mean_squared_error: 0.3457 - val_loss: 0.5073 - val_root_mean_squared_error: 0.7122\n",
      "Epoch 5/30\n",
      "71/71 - 72s - loss: 0.0736 - root_mean_squared_error: 0.2712 - val_loss: 0.3041 - val_root_mean_squared_error: 0.5515\n",
      "Epoch 6/30\n",
      "71/71 - 72s - loss: 0.0607 - root_mean_squared_error: 0.2463 - val_loss: 0.5264 - val_root_mean_squared_error: 0.7255\n",
      "Epoch 7/30\n",
      "71/71 - 72s - loss: 0.0455 - root_mean_squared_error: 0.2133 - val_loss: 0.3867 - val_root_mean_squared_error: 0.6218\n",
      "Epoch 8/30\n",
      "71/71 - 72s - loss: 0.0354 - root_mean_squared_error: 0.1881 - val_loss: 0.4234 - val_root_mean_squared_error: 0.6507\n",
      "Epoch 9/30\n",
      "71/71 - 72s - loss: 0.0382 - root_mean_squared_error: 0.1956 - val_loss: 0.3704 - val_root_mean_squared_error: 0.6086\n",
      "Epoch 10/30\n",
      "71/71 - 72s - loss: 0.0342 - root_mean_squared_error: 0.1849 - val_loss: 0.3413 - val_root_mean_squared_error: 0.5842\n",
      "Restoring model weights from the end of the best epoch.\n",
      "Epoch 00010: early stopping\n",
      "\n",
      "Best Validation Performance: 0.5514589548110962 (RMSE) at epoch 5\n",
      "\n",
      "Performed predictions using current model on test dataset and values were recorded.\n",
      "\n",
      "FOLD 2...\n"
     ]
    },
    {
     "name": "stderr",
     "output_type": "stream",
     "text": [
      "All model checkpoint layers were used when initializing TFRobertaForSequenceClassification.\n",
      "\n",
      "Some layers of TFRobertaForSequenceClassification were not initialized from the model checkpoint at ../input/huggingface-roberta-variants/roberta-base/roberta-base and are newly initialized: ['classifier']\n",
      "You should probably TRAIN this model on a down-stream task to be able to use it for predictions and inference.\n"
     ]
    },
    {
     "name": "stdout",
     "output_type": "stream",
     "text": [
      "Epoch 1/30\n",
      "71/71 - 88s - loss: 0.6412 - root_mean_squared_error: 0.8008 - val_loss: 0.3716 - val_root_mean_squared_error: 0.6096\n",
      "Epoch 2/30\n",
      "71/71 - 72s - loss: 0.2733 - root_mean_squared_error: 0.5228 - val_loss: 0.3242 - val_root_mean_squared_error: 0.5694\n",
      "Epoch 3/30\n",
      "71/71 - 72s - loss: 0.1772 - root_mean_squared_error: 0.4210 - val_loss: 0.2572 - val_root_mean_squared_error: 0.5072\n",
      "Epoch 4/30\n",
      "71/71 - 72s - loss: 0.1135 - root_mean_squared_error: 0.3369 - val_loss: 0.3885 - val_root_mean_squared_error: 0.6233\n",
      "Epoch 5/30\n",
      "71/71 - 72s - loss: 0.0646 - root_mean_squared_error: 0.2541 - val_loss: 0.3484 - val_root_mean_squared_error: 0.5903\n",
      "Epoch 6/30\n",
      "71/71 - 72s - loss: 0.0535 - root_mean_squared_error: 0.2314 - val_loss: 0.2923 - val_root_mean_squared_error: 0.5407\n",
      "Epoch 7/30\n",
      "71/71 - 72s - loss: 0.0450 - root_mean_squared_error: 0.2122 - val_loss: 0.2847 - val_root_mean_squared_error: 0.5335\n",
      "Epoch 8/30\n",
      "71/71 - 72s - loss: 0.0357 - root_mean_squared_error: 0.1890 - val_loss: 0.4296 - val_root_mean_squared_error: 0.6554\n",
      "Restoring model weights from the end of the best epoch.\n",
      "Epoch 00008: early stopping\n",
      "\n",
      "Best Validation Performance: 0.5071647763252258 (RMSE) at epoch 3\n",
      "\n",
      "Performed predictions using current model on test dataset and values were recorded.\n",
      "\n",
      "FOLD 3...\n"
     ]
    },
    {
     "name": "stderr",
     "output_type": "stream",
     "text": [
      "All model checkpoint layers were used when initializing TFRobertaForSequenceClassification.\n",
      "\n",
      "Some layers of TFRobertaForSequenceClassification were not initialized from the model checkpoint at ../input/huggingface-roberta-variants/roberta-base/roberta-base and are newly initialized: ['classifier']\n",
      "You should probably TRAIN this model on a down-stream task to be able to use it for predictions and inference.\n"
     ]
    },
    {
     "name": "stdout",
     "output_type": "stream",
     "text": [
      "Epoch 1/30\n",
      "71/71 - 90s - loss: 0.5709 - root_mean_squared_error: 0.7556 - val_loss: 0.3280 - val_root_mean_squared_error: 0.5727\n",
      "Epoch 2/30\n",
      "71/71 - 72s - loss: 0.3192 - root_mean_squared_error: 0.5650 - val_loss: 0.3653 - val_root_mean_squared_error: 0.6044\n",
      "Epoch 3/30\n",
      "71/71 - 72s - loss: 0.1789 - root_mean_squared_error: 0.4229 - val_loss: 0.2922 - val_root_mean_squared_error: 0.5406\n",
      "Epoch 4/30\n",
      "71/71 - 72s - loss: 0.1359 - root_mean_squared_error: 0.3687 - val_loss: 0.3595 - val_root_mean_squared_error: 0.5996\n",
      "Epoch 5/30\n",
      "71/71 - 72s - loss: 0.0841 - root_mean_squared_error: 0.2901 - val_loss: 0.2948 - val_root_mean_squared_error: 0.5429\n",
      "Epoch 6/30\n",
      "71/71 - 72s - loss: 0.0579 - root_mean_squared_error: 0.2406 - val_loss: 0.4483 - val_root_mean_squared_error: 0.6696\n",
      "Epoch 7/30\n",
      "71/71 - 72s - loss: 0.0418 - root_mean_squared_error: 0.2045 - val_loss: 0.3566 - val_root_mean_squared_error: 0.5972\n",
      "Epoch 8/30\n",
      "71/71 - 72s - loss: 0.0354 - root_mean_squared_error: 0.1882 - val_loss: 0.2971 - val_root_mean_squared_error: 0.5451\n",
      "Restoring model weights from the end of the best epoch.\n",
      "Epoch 00008: early stopping\n",
      "\n",
      "Best Validation Performance: 0.5405721664428711 (RMSE) at epoch 3\n",
      "\n",
      "Performed predictions using current model on test dataset and values were recorded.\n",
      "\n",
      "FOLD 4...\n"
     ]
    },
    {
     "name": "stderr",
     "output_type": "stream",
     "text": [
      "All model checkpoint layers were used when initializing TFRobertaForSequenceClassification.\n",
      "\n",
      "Some layers of TFRobertaForSequenceClassification were not initialized from the model checkpoint at ../input/huggingface-roberta-variants/roberta-base/roberta-base and are newly initialized: ['classifier']\n",
      "You should probably TRAIN this model on a down-stream task to be able to use it for predictions and inference.\n"
     ]
    },
    {
     "name": "stdout",
     "output_type": "stream",
     "text": [
      "Epoch 1/30\n",
      "71/71 - 90s - loss: 0.5778 - root_mean_squared_error: 0.7601 - val_loss: 0.4396 - val_root_mean_squared_error: 0.6630\n",
      "Epoch 2/30\n",
      "71/71 - 72s - loss: 0.2620 - root_mean_squared_error: 0.5119 - val_loss: 0.3974 - val_root_mean_squared_error: 0.6304\n",
      "Epoch 3/30\n",
      "71/71 - 72s - loss: 0.1842 - root_mean_squared_error: 0.4292 - val_loss: 0.5020 - val_root_mean_squared_error: 0.7085\n",
      "Epoch 4/30\n",
      "71/71 - 72s - loss: 0.1215 - root_mean_squared_error: 0.3486 - val_loss: 0.2999 - val_root_mean_squared_error: 0.5477\n",
      "Epoch 5/30\n",
      "71/71 - 72s - loss: 0.0728 - root_mean_squared_error: 0.2699 - val_loss: 0.3209 - val_root_mean_squared_error: 0.5665\n",
      "Epoch 6/30\n",
      "71/71 - 72s - loss: 0.0514 - root_mean_squared_error: 0.2266 - val_loss: 0.4618 - val_root_mean_squared_error: 0.6795\n",
      "Epoch 7/30\n",
      "71/71 - 72s - loss: 0.0413 - root_mean_squared_error: 0.2032 - val_loss: 0.3054 - val_root_mean_squared_error: 0.5526\n",
      "Epoch 8/30\n",
      "71/71 - 72s - loss: 0.0321 - root_mean_squared_error: 0.1791 - val_loss: 0.3354 - val_root_mean_squared_error: 0.5791\n",
      "Epoch 9/30\n",
      "71/71 - 72s - loss: 0.0352 - root_mean_squared_error: 0.1875 - val_loss: 0.3615 - val_root_mean_squared_error: 0.6013\n",
      "Restoring model weights from the end of the best epoch.\n",
      "Epoch 00009: early stopping\n",
      "\n",
      "Best Validation Performance: 0.5476768612861633 (RMSE) at epoch 4\n",
      "\n",
      "Performed predictions using current model on test dataset and values were recorded.\n",
      "\n",
      "FOLD 5...\n"
     ]
    },
    {
     "name": "stderr",
     "output_type": "stream",
     "text": [
      "All model checkpoint layers were used when initializing TFRobertaForSequenceClassification.\n",
      "\n",
      "Some layers of TFRobertaForSequenceClassification were not initialized from the model checkpoint at ../input/huggingface-roberta-variants/roberta-base/roberta-base and are newly initialized: ['classifier']\n",
      "You should probably TRAIN this model on a down-stream task to be able to use it for predictions and inference.\n"
     ]
    },
    {
     "name": "stdout",
     "output_type": "stream",
     "text": [
      "Epoch 1/30\n",
      "71/71 - 91s - loss: 0.6299 - root_mean_squared_error: 0.7936 - val_loss: 0.4200 - val_root_mean_squared_error: 0.6480\n",
      "Epoch 2/30\n",
      "71/71 - 72s - loss: 0.3174 - root_mean_squared_error: 0.5633 - val_loss: 0.2621 - val_root_mean_squared_error: 0.5120\n",
      "Epoch 3/30\n",
      "71/71 - 72s - loss: 0.1894 - root_mean_squared_error: 0.4352 - val_loss: 0.3239 - val_root_mean_squared_error: 0.5692\n",
      "Epoch 4/30\n",
      "71/71 - 72s - loss: 0.1200 - root_mean_squared_error: 0.3464 - val_loss: 0.2895 - val_root_mean_squared_error: 0.5380\n",
      "Epoch 5/30\n",
      "71/71 - 72s - loss: 0.0734 - root_mean_squared_error: 0.2710 - val_loss: 0.2793 - val_root_mean_squared_error: 0.5285\n",
      "Epoch 6/30\n",
      "71/71 - 72s - loss: 0.0687 - root_mean_squared_error: 0.2621 - val_loss: 0.2599 - val_root_mean_squared_error: 0.5098\n",
      "Epoch 7/30\n",
      "71/71 - 72s - loss: 0.0515 - root_mean_squared_error: 0.2269 - val_loss: 0.3547 - val_root_mean_squared_error: 0.5956\n",
      "Epoch 8/30\n",
      "71/71 - 72s - loss: 0.0381 - root_mean_squared_error: 0.1952 - val_loss: 0.4611 - val_root_mean_squared_error: 0.6791\n",
      "Epoch 9/30\n",
      "71/71 - 72s - loss: 0.0354 - root_mean_squared_error: 0.1883 - val_loss: 0.2915 - val_root_mean_squared_error: 0.5399\n",
      "Epoch 10/30\n",
      "71/71 - 72s - loss: 0.0319 - root_mean_squared_error: 0.1787 - val_loss: 0.3541 - val_root_mean_squared_error: 0.5951\n",
      "Epoch 11/30\n",
      "71/71 - 72s - loss: 0.0347 - root_mean_squared_error: 0.1864 - val_loss: 0.3245 - val_root_mean_squared_error: 0.5697\n",
      "Restoring model weights from the end of the best epoch.\n",
      "Epoch 00011: early stopping\n",
      "\n",
      "Best Validation Performance: 0.5098034739494324 (RMSE) at epoch 6\n",
      "\n",
      "Performed predictions using current model on test dataset and values were recorded.\n",
      "\n"
     ]
    }
   ],
   "source": [
    "\"\"\"\n",
    "Performs cross validation\n",
    "\"\"\"\n",
    "\n",
    "# Applies stratified cross validation to have equal distribution for different target bins \n",
    "\n",
    "cv = StratifiedKFold(data_config[\"n_splits\"], shuffle=True)\n",
    "\n",
    "cv_generator = cv.split(train, y=train.bin)\n",
    "\n",
    "for fold, (idx_train, idx_val) in enumerate(cv_generator):\n",
    "    \n",
    "    print(f\"FOLD {fold+1}...\")\n",
    "    \n",
    "    # Encodes training data\n",
    "    train_encodings = tokenizer(\n",
    "        train.excerpt.iloc[idx_train].tolist(), \n",
    "        max_length=model_config[\"max_length\"], \n",
    "        truncation=True, \n",
    "        padding=\"max_length\",\n",
    "        return_tensors=\"tf\")\n",
    "\n",
    "    # Encodes validation data\n",
    "    val_encodings = tokenizer(\n",
    "        train.excerpt.iloc[idx_val].tolist(), \n",
    "        max_length=model_config[\"max_length\"], \n",
    "        truncation=True, \n",
    "        padding=\"max_length\",\n",
    "        return_tensors=\"tf\")\n",
    "    \n",
    "    # Creates TensorFlow dataset out of training data encodings\n",
    "    train_dataset = tf.data.Dataset.from_tensor_slices((\n",
    "        {\"input_ids\": train_encodings[\"input_ids\"], \"attention_mask\": train_encodings[\"attention_mask\"]},\n",
    "        train.target.iloc[idx_train]))\n",
    "    train_dataset = train_dataset.shuffle(1024)\n",
    "    train_dataset = train_dataset.batch(model_config[\"batch_size\"])\n",
    "    train_dataset = train_dataset.prefetch(tf.data.AUTOTUNE)\n",
    "\n",
    "    # Creates TensorFlow dataset out of validation data encodings\n",
    "    val_dataset = tf.data.Dataset.from_tensor_slices((\n",
    "        {\"input_ids\": val_encodings[\"input_ids\"], \"attention_mask\": val_encodings[\"attention_mask\"]},\n",
    "        train.target.iloc[idx_val]))\n",
    "    val_dataset = val_dataset.batch(model_config[\"batch_size\"])\n",
    "    val_dataset = val_dataset.prefetch(tf.data.AUTOTUNE)\n",
    "    \n",
    "    # Creates encoder from Transformer\n",
    "    encoder = TFAutoModelForSequenceClassification.from_pretrained(\n",
    "    model_config[\"model_name\"], num_labels = model_config[\"num_labels\"])\n",
    "\n",
    "    # Creates multi inputs for model\n",
    "    input_ids = layers.Input(shape=(model_config[\"max_length\"], ), dtype=tf.int32, name=\"input_ids\")\n",
    "    attention_mask = layers.Input(shape=(model_config[\"max_length\"]), dtype=tf.int32, name=\"attention_mask\")\n",
    "\n",
    "    # Sets model output\n",
    "    outputs = encoder({\"input_ids\": input_ids, \"attention_mask\": attention_mask})\n",
    "\n",
    "    # Wraps all layers within a model object\n",
    "    model = Model(inputs=[input_ids, attention_mask], outputs=outputs)\n",
    "\n",
    "    # Compiles and shows the summary to check\n",
    "    model.compile(\n",
    "        optimizer=keras.optimizers.Adam(model_config[\"learning_rate\"]),\n",
    "        loss=keras.losses.MeanSquaredError(),\n",
    "        metrics=keras.metrics.RootMeanSquaredError())\n",
    "\n",
    "    # Configures monitor with rules for model training to stop if criterion match\n",
    "    early_stopping_monitor = EarlyStopping(\n",
    "        monitor=\"val_root_mean_squared_error\", mode=\"min\", patience=5, restore_best_weights=True, verbose=1)\n",
    "\n",
    "    # Configures rules to store model parameters (only weights) at its best during training\n",
    "    checkpoint = ModelCheckpoint(\n",
    "        model_config[\"model_path\"], monitor=\"val_root_mean_squared_error\", mode=\"min\", save_best_only=True, save_weights_only=True)\n",
    "\n",
    "    # Fits the model\n",
    "    history = model.fit(\n",
    "        x=train_dataset,\n",
    "        validation_data=val_dataset,\n",
    "        callbacks=[early_stopping_monitor, checkpoint],\n",
    "        epochs=model_config[\"epochs\"],\n",
    "        verbose=2).history\n",
    "    \n",
    "    # Adds the model training history into list for later analysis\n",
    "    training_history.append(history)\n",
    "    best_epoch = np.argmin(history[\"val_root_mean_squared_error\"])\n",
    "    print(f\"\\nBest Validation Performance: {history['val_root_mean_squared_error'][best_epoch]} (RMSE) at epoch {best_epoch + 1}\")\n",
    "    \n",
    "    # Predicts on test data and appends the prediction into list to average later\n",
    "    predictions = model.predict(test_dataset)[\"logits\"]\n",
    "    prediction_history.append(predictions)\n",
    "    print(\"\\nPerformed predictions using current model on test dataset and values were recorded.\\n\")\n",
    "    \n",
    "    # Frees resources\n",
    "    del checkpoint, early_stopping_monitor, model, outputs, encoder\n",
    "    del val_dataset, train_dataset, train_encodings, val_encodings\n",
    "    gc.collect()"
   ]
  },
  {
   "cell_type": "markdown",
   "id": "driven-accent",
   "metadata": {
    "papermill": {
     "duration": 0.04493,
     "end_time": "2021-06-18T13:35:01.868259",
     "exception": false,
     "start_time": "2021-06-18T13:35:01.823329",
     "status": "completed"
    },
    "tags": []
   },
   "source": [
    "## Evaluation"
   ]
  },
  {
   "cell_type": "code",
   "execution_count": 11,
   "id": "champion-little",
   "metadata": {
    "execution": {
     "iopub.execute_input": "2021-06-18T13:35:01.985734Z",
     "iopub.status.busy": "2021-06-18T13:35:01.981492Z",
     "iopub.status.idle": "2021-06-18T13:35:02.727350Z",
     "shell.execute_reply": "2021-06-18T13:35:02.726932Z",
     "shell.execute_reply.started": "2021-06-18T12:15:42.253507Z"
    },
    "papermill": {
     "duration": 0.813492,
     "end_time": "2021-06-18T13:35:02.727480",
     "exception": false,
     "start_time": "2021-06-18T13:35:01.913988",
     "status": "completed"
    },
    "tags": []
   },
   "outputs": [
    {
     "data": {
      "image/png": "[encoded data removed]",
      "text/plain": [
       "<Figure size 1440x360 with 5 Axes>"
      ]
     },
     "metadata": {},
     "output_type": "display_data"
    }
   ],
   "source": [
    "# Plots Model's Cross Validation Performance \n",
    "\n",
    "fig, axes = plt.subplots(1, 5, sharey=True, figsize=(20,5))\n",
    "fig.suptitle(\"Cross Validation Performance\")\n",
    "for ax, history in enumerate(training_history):\n",
    "    axes[ax].plot(range(1, len(history[\"root_mean_squared_error\"]) + 1), history[\"root_mean_squared_error\"], \"bo\", label=\"Training Loss\")\n",
    "    axes[ax].plot(range(1, len(history[\"val_root_mean_squared_error\"]) + 1), history[\"val_root_mean_squared_error\"], \"b\", label=\"Validation Loss\")\n",
    "    axes[ax].set_title(f\"FOLD {ax+1}\")\n",
    "    axes[ax].set_xlabel(\"Epoch\")\n",
    "    axes[ax].legend()\n",
    "    if ax == 0:\n",
    "        axes[ax].set_ylabel(\"Loss (RMS)\")"
   ]
  },
  {
   "cell_type": "markdown",
   "id": "conventional-formation",
   "metadata": {
    "papermill": {
     "duration": 0.046542,
     "end_time": "2021-06-18T13:35:02.820807",
     "exception": false,
     "start_time": "2021-06-18T13:35:02.774265",
     "status": "completed"
    },
    "tags": []
   },
   "source": [
    "## Submission"
   ]
  },
  {
   "cell_type": "code",
   "execution_count": 12,
   "id": "incorrect-fifteen",
   "metadata": {
    "execution": {
     "iopub.execute_input": "2021-06-18T13:35:02.922317Z",
     "iopub.status.busy": "2021-06-18T13:35:02.921628Z",
     "iopub.status.idle": "2021-06-18T13:35:02.925459Z",
     "shell.execute_reply": "2021-06-18T13:35:02.924926Z",
     "shell.execute_reply.started": "2021-06-18T12:18:04.087085Z"
    },
    "papermill": {
     "duration": 0.057735,
     "end_time": "2021-06-18T13:35:02.925592",
     "exception": false,
     "start_time": "2021-06-18T13:35:02.867857",
     "status": "completed"
    },
    "tags": []
   },
   "outputs": [],
   "source": [
    "# Predicts on test data\n",
    "\n",
    "mean_predictions = np.mean(prediction_history, axis=0)"
   ]
  },
  {
   "cell_type": "code",
   "execution_count": 13,
   "id": "interpreted-wells",
   "metadata": {
    "execution": {
     "iopub.execute_input": "2021-06-18T13:35:03.026114Z",
     "iopub.status.busy": "2021-06-18T13:35:03.025279Z",
     "iopub.status.idle": "2021-06-18T13:35:03.027903Z",
     "shell.execute_reply": "2021-06-18T13:35:03.027458Z",
     "shell.execute_reply.started": "2021-06-18T12:18:07.881793Z"
    },
    "papermill": {
     "duration": 0.054688,
     "end_time": "2021-06-18T13:35:03.028021",
     "exception": false,
     "start_time": "2021-06-18T13:35:02.973333",
     "status": "completed"
    },
    "tags": []
   },
   "outputs": [],
   "source": [
    "# Averaging predictions across folds\n",
    "\n",
    "submission.target = mean_predictions"
   ]
  },
  {
   "cell_type": "code",
   "execution_count": 14,
   "id": "fundamental-combination",
   "metadata": {
    "execution": {
     "iopub.execute_input": "2021-06-18T13:35:03.125698Z",
     "iopub.status.busy": "2021-06-18T13:35:03.124964Z",
     "iopub.status.idle": "2021-06-18T13:35:03.256317Z",
     "shell.execute_reply": "2021-06-18T13:35:03.255841Z",
     "shell.execute_reply.started": "2021-06-18T12:18:08.401638Z"
    },
    "papermill": {
     "duration": 0.181558,
     "end_time": "2021-06-18T13:35:03.256450",
     "exception": false,
     "start_time": "2021-06-18T13:35:03.074892",
     "status": "completed"
    },
    "tags": []
   },
   "outputs": [],
   "source": [
    "# Submitting by saving predictions into submission file\n",
    "\n",
    "submission.to_csv(\"submission.csv\", index=False)"
   ]
  },
  {
   "cell_type": "code",
   "execution_count": 15,
   "id": "dressed-device",
   "metadata": {
    "execution": {
     "iopub.execute_input": "2021-06-18T13:35:03.358280Z",
     "iopub.status.busy": "2021-06-18T13:35:03.357550Z",
     "iopub.status.idle": "2021-06-18T13:35:03.365019Z",
     "shell.execute_reply": "2021-06-18T13:35:03.364564Z",
     "shell.execute_reply.started": "2021-06-18T12:18:09.661557Z"
    },
    "papermill": {
     "duration": 0.061919,
     "end_time": "2021-06-18T13:35:03.365134",
     "exception": false,
     "start_time": "2021-06-18T13:35:03.303215",
     "status": "completed"
    },
    "tags": []
   },
   "outputs": [
    {
     "data": {
      "text/html": [
       "<div>\n",
       "<style scoped>\n",
       "    .dataframe tbody tr th:only-of-type {\n",
       "        vertical-align: middle;\n",
       "    }\n",
       "\n",
       "    .dataframe tbody tr th {\n",
       "        vertical-align: top;\n",
       "    }\n",
       "\n",
       "    .dataframe thead th {\n",
       "        text-align: right;\n",
       "    }\n",
       "</style>\n",
       "<table border=\"1\" class=\"dataframe\">\n",
       "  <thead>\n",
       "    <tr style=\"text-align: right;\">\n",
       "      <th></th>\n",
       "      <th>id</th>\n",
       "      <th>target</th>\n",
       "    </tr>\n",
       "  </thead>\n",
       "  <tbody>\n",
       "    <tr>\n",
       "      <th>0</th>\n",
       "      <td>c0f722661</td>\n",
       "      <td>-0.153074</td>\n",
       "    </tr>\n",
       "    <tr>\n",
       "      <th>1</th>\n",
       "      <td>f0953f0a5</td>\n",
       "      <td>-0.173293</td>\n",
       "    </tr>\n",
       "    <tr>\n",
       "      <th>2</th>\n",
       "      <td>0df072751</td>\n",
       "      <td>-0.293639</td>\n",
       "    </tr>\n",
       "    <tr>\n",
       "      <th>3</th>\n",
       "      <td>04caf4e0c</td>\n",
       "      <td>-2.463359</td>\n",
       "    </tr>\n",
       "    <tr>\n",
       "      <th>4</th>\n",
       "      <td>0e63f8bea</td>\n",
       "      <td>-1.749592</td>\n",
       "    </tr>\n",
       "    <tr>\n",
       "      <th>5</th>\n",
       "      <td>12537fe78</td>\n",
       "      <td>-1.149923</td>\n",
       "    </tr>\n",
       "    <tr>\n",
       "      <th>6</th>\n",
       "      <td>965e592c0</td>\n",
       "      <td>0.439928</td>\n",
       "    </tr>\n",
       "  </tbody>\n",
       "</table>\n",
       "</div>"
      ],
      "text/plain": [
       "          id    target\n",
       "0  c0f722661 -0.153074\n",
       "1  f0953f0a5 -0.173293\n",
       "2  0df072751 -0.293639\n",
       "3  04caf4e0c -2.463359\n",
       "4  0e63f8bea -1.749592\n",
       "5  12537fe78 -1.149923\n",
       "6  965e592c0  0.439928"
      ]
     },
     "execution_count": 15,
     "metadata": {},
     "output_type": "execute_result"
    }
   ],
   "source": [
    "submission"
   ]
  }
 ],
 "metadata": {
  "kernelspec": {
   "display_name": "Python 3",
   "language": "python",
   "name": "python3"
  },
  "language_info": {
   "codemirror_mode": {
    "name": "ipython",
    "version": 3
   },
   "file_extension": ".py",
   "mimetype": "text/x-python",
   "name": "python",
   "nbconvert_exporter": "python",
   "pygments_lexer": "ipython3",
   "version": "3.7.10"
  },
  "papermill": {
   "default_parameters": {},
   "duration": 3510.504153,
   "end_time": "2021-06-18T13:35:06.251451",
   "environment_variables": {},
   "exception": null,
   "input_path": "__notebook__.ipynb",
   "output_path": "__notebook__.ipynb",
   "parameters": {},
   "start_time": "2021-06-18T12:36:35.747298",
   "version": "2.3.3"
  }
 },
 "nbformat": 4,
 "nbformat_minor": 5
}
