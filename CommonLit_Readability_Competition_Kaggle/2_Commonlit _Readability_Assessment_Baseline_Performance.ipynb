{
 "cells": [
  {
   "cell_type": "markdown",
   "metadata": {},
   "source": [
    "################################################################################\n",
    "\n",
    "**Author**: _Pradip Kumar Das_\n",
    "\n",
    "**License:** https://github.com/PradipKumarDas/Competitions/blob/main/LICENSE\n",
    "\n",
    "**Profile & Contact:** [LinkedIn](https://www.linkedin.com/in/daspradipkumar/) | [GitHub](https://github.com/PradipKumarDas) | [Kaggle](https://www.kaggle.com/pradipkumardas) | pradipkumardas@hotmail.com (Email)\n",
    "\n",
    "################################################################################\n",
    "\n",
    "# **CommonLit Readability Assessment**\n",
    "\n",
    "## Determinining Baseline Performance with 1D ConvNet with Pre-trained Word Embeddings"
   ]
  },
  {
   "cell_type": "code",
   "execution_count": 2,
   "metadata": {
    "execution": {
     "iopub.execute_input": "2021-06-09T13:54:10.713518Z",
     "iopub.status.busy": "2021-06-09T13:54:10.713183Z",
     "iopub.status.idle": "2021-06-09T13:54:16.199735Z",
     "shell.execute_reply": "2021-06-09T13:54:16.198713Z",
     "shell.execute_reply.started": "2021-06-09T13:54:10.713487Z"
    }
   },
   "outputs": [],
   "source": [
    "# Imports required packages\n",
    "\n",
    "import numpy as np\n",
    "import pandas as pd\n",
    "\n",
    "from sklearn.model_selection import train_test_split\n",
    "from sklearn.model_selection import StratifiedKFold\n",
    "from sklearn.metrics import mean_squared_error\n",
    "\n",
    "import tensorflow as tf\n",
    "import tensorflow.keras as keras\n",
    "from tensorflow.keras import layers\n",
    "from tensorflow.keras.layers.experimental.preprocessing import TextVectorization\n",
    "from tensorflow.keras.models import Model\n",
    "from tensorflow.keras.metrics import RootMeanSquaredError\n",
    "\n",
    "import matplotlib.pyplot as plt\n",
    "import seaborn as sns"
   ]
  },
  {
   "cell_type": "code",
   "execution_count": 3,
   "metadata": {
    "execution": {
     "iopub.execute_input": "2021-06-09T13:54:16.202019Z",
     "iopub.status.busy": "2021-06-09T13:54:16.201662Z",
     "iopub.status.idle": "2021-06-09T13:54:16.207802Z",
     "shell.execute_reply": "2021-06-09T13:54:16.206139Z",
     "shell.execute_reply.started": "2021-06-09T13:54:16.201977Z"
    }
   },
   "outputs": [],
   "source": [
    "# Some initialization\n",
    "\n",
    "sns.set_theme()"
   ]
  },
  {
   "cell_type": "markdown",
   "metadata": {},
   "source": [
    "### Loading Data & Counting Samples"
   ]
  },
  {
   "cell_type": "code",
   "execution_count": 4,
   "metadata": {
    "execution": {
     "iopub.execute_input": "2021-06-09T13:54:16.210093Z",
     "iopub.status.busy": "2021-06-09T13:54:16.209720Z",
     "iopub.status.idle": "2021-06-09T13:54:16.312752Z",
     "shell.execute_reply": "2021-06-09T13:54:16.311872Z",
     "shell.execute_reply.started": "2021-06-09T13:54:16.210039Z"
    }
   },
   "outputs": [],
   "source": [
    "# Loads data\n",
    "\n",
    "train = pd.read_csv(\"../input/commonlitreadabilityprize/train.csv\")\n",
    "test = pd.read_csv(\"../input/commonlitreadabilityprize/test.csv\")\n",
    "submission = pd.read_csv(\"../input/commonlitreadabilityprize/sample_submission.csv\")"
   ]
  },
  {
   "cell_type": "code",
   "execution_count": 5,
   "metadata": {
    "execution": {
     "iopub.execute_input": "2021-06-09T13:54:16.315384Z",
     "iopub.status.busy": "2021-06-09T13:54:16.315055Z",
     "iopub.status.idle": "2021-06-09T13:54:16.346373Z",
     "shell.execute_reply": "2021-06-09T13:54:16.344942Z",
     "shell.execute_reply.started": "2021-06-09T13:54:16.315337Z"
    }
   },
   "outputs": [
    {
     "data": {
      "text/html": [
       "<div>\n",
       "<style scoped>\n",
       "    .dataframe tbody tr th:only-of-type {\n",
       "        vertical-align: middle;\n",
       "    }\n",
       "\n",
       "    .dataframe tbody tr th {\n",
       "        vertical-align: top;\n",
       "    }\n",
       "\n",
       "    .dataframe thead th {\n",
       "        text-align: right;\n",
       "    }\n",
       "</style>\n",
       "<table border=\"1\" class=\"dataframe\">\n",
       "  <thead>\n",
       "    <tr style=\"text-align: right;\">\n",
       "      <th></th>\n",
       "      <th>id</th>\n",
       "      <th>url_legal</th>\n",
       "      <th>license</th>\n",
       "      <th>excerpt</th>\n",
       "      <th>target</th>\n",
       "      <th>standard_error</th>\n",
       "    </tr>\n",
       "  </thead>\n",
       "  <tbody>\n",
       "    <tr>\n",
       "      <th>0</th>\n",
       "      <td>c12129c31</td>\n",
       "      <td>NaN</td>\n",
       "      <td>NaN</td>\n",
       "      <td>When the young people returned to the ballroom...</td>\n",
       "      <td>-0.340259</td>\n",
       "      <td>0.464009</td>\n",
       "    </tr>\n",
       "    <tr>\n",
       "      <th>1</th>\n",
       "      <td>85aa80a4c</td>\n",
       "      <td>NaN</td>\n",
       "      <td>NaN</td>\n",
       "      <td>All through dinner time, Mrs. Fayre was somewh...</td>\n",
       "      <td>-0.315372</td>\n",
       "      <td>0.480805</td>\n",
       "    </tr>\n",
       "    <tr>\n",
       "      <th>2</th>\n",
       "      <td>b69ac6792</td>\n",
       "      <td>NaN</td>\n",
       "      <td>NaN</td>\n",
       "      <td>As Roger had predicted, the snow departed as q...</td>\n",
       "      <td>-0.580118</td>\n",
       "      <td>0.476676</td>\n",
       "    </tr>\n",
       "    <tr>\n",
       "      <th>3</th>\n",
       "      <td>dd1000b26</td>\n",
       "      <td>NaN</td>\n",
       "      <td>NaN</td>\n",
       "      <td>And outside before the palace a great garden w...</td>\n",
       "      <td>-1.054013</td>\n",
       "      <td>0.450007</td>\n",
       "    </tr>\n",
       "    <tr>\n",
       "      <th>4</th>\n",
       "      <td>37c1b32fb</td>\n",
       "      <td>NaN</td>\n",
       "      <td>NaN</td>\n",
       "      <td>Once upon a time there were Three Bears who li...</td>\n",
       "      <td>0.247197</td>\n",
       "      <td>0.510845</td>\n",
       "    </tr>\n",
       "  </tbody>\n",
       "</table>\n",
       "</div>"
      ],
      "text/plain": [
       "          id url_legal license  \\\n",
       "0  c12129c31       NaN     NaN   \n",
       "1  85aa80a4c       NaN     NaN   \n",
       "2  b69ac6792       NaN     NaN   \n",
       "3  dd1000b26       NaN     NaN   \n",
       "4  37c1b32fb       NaN     NaN   \n",
       "\n",
       "                                             excerpt    target  standard_error  \n",
       "0  When the young people returned to the ballroom... -0.340259        0.464009  \n",
       "1  All through dinner time, Mrs. Fayre was somewh... -0.315372        0.480805  \n",
       "2  As Roger had predicted, the snow departed as q... -0.580118        0.476676  \n",
       "3  And outside before the palace a great garden w... -1.054013        0.450007  \n",
       "4  Once upon a time there were Three Bears who li...  0.247197        0.510845  "
      ]
     },
     "metadata": {},
     "output_type": "display_data"
    }
   ],
   "source": [
    "# Checks how the data looks from top few samples\n",
    "\n",
    "display(train.head())"
   ]
  },
  {
   "cell_type": "markdown",
   "metadata": {},
   "source": [
    "## Data Preparation"
   ]
  },
  {
   "cell_type": "code",
   "execution_count": 6,
   "metadata": {
    "execution": {
     "iopub.execute_input": "2021-06-09T13:54:16.349812Z",
     "iopub.status.busy": "2021-06-09T13:54:16.349364Z",
     "iopub.status.idle": "2021-06-09T13:54:16.364345Z",
     "shell.execute_reply": "2021-06-09T13:54:16.363076Z",
     "shell.execute_reply.started": "2021-06-09T13:54:16.349766Z"
    }
   },
   "outputs": [],
   "source": [
    "# Making all excerpts in lowercase\n",
    "\n",
    "train.excerpt = train.excerpt.str.lower()"
   ]
  },
  {
   "cell_type": "markdown",
   "metadata": {},
   "source": [
    "### Segmenting (Discrete Interval) Label"
   ]
  },
  {
   "cell_type": "markdown",
   "metadata": {},
   "source": [
    "As the distribution of labels are not equal, the labels should be splitted with stratification so that each fold get nearly equal distribution from data segments. "
   ]
  },
  {
   "cell_type": "code",
   "execution_count": 7,
   "metadata": {
    "execution": {
     "iopub.execute_input": "2021-06-09T13:54:16.367440Z",
     "iopub.status.busy": "2021-06-09T13:54:16.366913Z",
     "iopub.status.idle": "2021-06-09T13:54:16.375176Z",
     "shell.execute_reply": "2021-06-09T13:54:16.374154Z",
     "shell.execute_reply.started": "2021-06-09T13:54:16.367393Z"
    }
   },
   "outputs": [],
   "source": [
    "# Sets configurations\n",
    "\n",
    "n_bins = 20\n",
    "n_splits = 5"
   ]
  },
  {
   "cell_type": "code",
   "execution_count": 8,
   "metadata": {
    "execution": {
     "iopub.execute_input": "2021-06-09T13:54:16.377499Z",
     "iopub.status.busy": "2021-06-09T13:54:16.377016Z",
     "iopub.status.idle": "2021-06-09T13:54:16.391320Z",
     "shell.execute_reply": "2021-06-09T13:54:16.390363Z",
     "shell.execute_reply.started": "2021-06-09T13:54:16.377459Z"
    }
   },
   "outputs": [],
   "source": [
    "# Segments discrete interval of label by marking each sample with a bin number\n",
    "\n",
    "train[\"bin\"] = pd.cut(x=train.target, bins=n_bins, labels=[i for i in range(n_bins)])"
   ]
  },
  {
   "cell_type": "code",
   "execution_count": 9,
   "metadata": {
    "execution": {
     "iopub.execute_input": "2021-06-09T13:54:16.393827Z",
     "iopub.status.busy": "2021-06-09T13:54:16.393139Z",
     "iopub.status.idle": "2021-06-09T13:54:16.410546Z",
     "shell.execute_reply": "2021-06-09T13:54:16.409836Z",
     "shell.execute_reply.started": "2021-06-09T13:54:16.393782Z"
    }
   },
   "outputs": [
    {
     "data": {
      "text/plain": [
       "bin\n",
       "0     0.262752\n",
       "1     0.260542\n",
       "2     0.263781\n",
       "3     0.265146\n",
       "4     0.260765\n",
       "5     0.267405\n",
       "6     0.262840\n",
       "7     0.267969\n",
       "8     0.268411\n",
       "9     0.267741\n",
       "10    0.268120\n",
       "11    0.266945\n",
       "12    0.266250\n",
       "13    0.263739\n",
       "14    0.265295\n",
       "15    0.263889\n",
       "16    0.263011\n",
       "17    0.217768\n",
       "18    0.261957\n",
       "19    0.267005\n",
       "Name: target, dtype: float64"
      ]
     },
     "metadata": {},
     "output_type": "display_data"
    }
   ],
   "source": [
    "# Ensurs interval of each bin is near to equal\n",
    "\n",
    "display(train.groupby([\"bin\"]).target.apply(lambda x: x.max()-x.min()))"
   ]
  },
  {
   "cell_type": "code",
   "execution_count": 10,
   "metadata": {
    "execution": {
     "iopub.execute_input": "2021-06-09T13:54:16.414191Z",
     "iopub.status.busy": "2021-06-09T13:54:16.413886Z",
     "iopub.status.idle": "2021-06-09T13:54:16.421067Z",
     "shell.execute_reply": "2021-06-09T13:54:16.420035Z",
     "shell.execute_reply.started": "2021-06-09T13:54:16.414165Z"
    }
   },
   "outputs": [],
   "source": [
    "# Creates K-Fold cross validator\n",
    "\n",
    "k_fold_cv= StratifiedKFold(n_splits=n_splits, shuffle=True)\n",
    "\n",
    "validation_scores = []    # Stores validation scores across folds\n",
    "test_predictions = np.zeros(shape=(len(submission), n_splits))"
   ]
  },
  {
   "cell_type": "code",
   "execution_count": 11,
   "metadata": {
    "execution": {
     "iopub.execute_input": "2021-06-09T13:54:16.424874Z",
     "iopub.status.busy": "2021-06-09T13:54:16.424308Z",
     "iopub.status.idle": "2021-06-09T13:54:16.963229Z",
     "shell.execute_reply": "2021-06-09T13:54:16.962385Z",
     "shell.execute_reply.started": "2021-06-09T13:54:16.424831Z"
    }
   },
   "outputs": [
    {
     "data": {
      "image/png": "[encoded data removed]",
      "text/plain": [
       "<Figure size 864x432 with 1 Axes>"
      ]
     },
     "metadata": {},
     "output_type": "display_data"
    }
   ],
   "source": [
    "# Create K-Fold cross validation splitter\n",
    "\n",
    "k_fold_cv_generator = k_fold_cv.split(train, y=train.bin)\n",
    "\n",
    "# Plots to verify if every split gets equal distribution of samples from every bin\n",
    "\n",
    "plt.figure(figsize=(12, 6))\n",
    "\n",
    "for fold, (id_x_train, id_x_val) in enumerate(k_fold_cv_generator):\n",
    "    sns.histplot(data=train.iloc[id_x_train], x=\"target\", bins=n_bins, fill=False, label=f\"Fold {fold}\")\n",
    "\n",
    "plt.title('Label Distribution for Each Fold')\n",
    "plt.legend()\n",
    "plt.show()"
   ]
  },
  {
   "cell_type": "code",
   "execution_count": 12,
   "metadata": {
    "execution": {
     "iopub.execute_input": "2021-06-09T13:54:16.964993Z",
     "iopub.status.busy": "2021-06-09T13:54:16.964613Z",
     "iopub.status.idle": "2021-06-09T13:54:16.974173Z",
     "shell.execute_reply": "2021-06-09T13:54:16.973255Z",
     "shell.execute_reply.started": "2021-06-09T13:54:16.964954Z"
    }
   },
   "outputs": [],
   "source": [
    "# Removes columns considered not to be required\n",
    "\n",
    "train.drop([\"url_legal\", \"license\"], axis=1, inplace=True)\n",
    "test.drop([\"url_legal\", \"license\"], axis=1, inplace=True)"
   ]
  },
  {
   "cell_type": "markdown",
   "metadata": {},
   "source": [
    "## Configurations"
   ]
  },
  {
   "cell_type": "code",
   "execution_count": 13,
   "metadata": {
    "execution": {
     "iopub.execute_input": "2021-06-09T13:54:16.976753Z",
     "iopub.status.busy": "2021-06-09T13:54:16.976140Z",
     "iopub.status.idle": "2021-06-09T13:54:16.982377Z",
     "shell.execute_reply": "2021-06-09T13:54:16.981531Z",
     "shell.execute_reply.started": "2021-06-09T13:54:16.976712Z"
    }
   },
   "outputs": [],
   "source": [
    "max_features = 30000    # Vocabulary size was little more than 30000 found during analysis\n",
    "max_length = 250        # Considering a little more than 205 found during analysis\n",
    "embedding_dim = 300     # 300 dimensional GloVe word embedding is being considered\n",
    "batch_size = 32         # Size of the batch of samples to take as input at a time during model training\n",
    "epochs = 20             # Number of epochs to train model"
   ]
  },
  {
   "cell_type": "markdown",
   "metadata": {},
   "source": [
    "## Modeling"
   ]
  },
  {
   "cell_type": "code",
   "execution_count": 14,
   "metadata": {
    "execution": {
     "iopub.execute_input": "2021-06-09T13:54:25.713096Z",
     "iopub.status.busy": "2021-06-09T13:54:25.712738Z",
     "iopub.status.idle": "2021-06-09T13:54:27.935073Z",
     "shell.execute_reply": "2021-06-09T13:54:27.934226Z",
     "shell.execute_reply.started": "2021-06-09T13:54:25.713064Z"
    }
   },
   "outputs": [],
   "source": [
    "# Creates vectorizer\n",
    "vectorizer = TextVectorization(max_tokens=max_features, output_sequence_length=max_length)"
   ]
  },
  {
   "cell_type": "code",
   "execution_count": 15,
   "metadata": {
    "execution": {
     "iopub.execute_input": "2021-06-09T13:54:32.262850Z",
     "iopub.status.busy": "2021-06-09T13:54:32.262510Z",
     "iopub.status.idle": "2021-06-09T13:55:04.085669Z",
     "shell.execute_reply": "2021-06-09T13:55:04.084851Z",
     "shell.execute_reply.started": "2021-06-09T13:54:32.262819Z"
    },
    "tags": []
   },
   "outputs": [],
   "source": [
    "# Extracts and loads vectors from GloVe word embeddings\n",
    "\n",
    "embeddings_index = {}\n",
    "\n",
    "with open(\"../input/glove6b/glove.6B.300d.txt\") as file:\n",
    "    for i, line in enumerate(file):\n",
    "        word, coefs = line.split(maxsplit=1)\n",
    "        coefs = np.fromstring(coefs, dtype=float, sep=\" \")\n",
    "        embeddings_index[word] = coefs"
   ]
  },
  {
   "cell_type": "code",
   "execution_count": 18,
   "metadata": {
    "execution": {
     "iopub.execute_input": "2021-06-09T13:57:41.645963Z",
     "iopub.status.busy": "2021-06-09T13:57:41.645625Z",
     "iopub.status.idle": "2021-06-09T13:58:38.766307Z",
     "shell.execute_reply": "2021-06-09T13:58:38.765329Z",
     "shell.execute_reply.started": "2021-06-09T13:57:41.645932Z"
    }
   },
   "outputs": [
    {
     "name": "stdout",
     "output_type": "stream",
     "text": [
      "Fold 0...\n",
      "\tNumber of missing words in Glove: 3800\n",
      "\tTraining model... completed.\n",
      "\tRMSE over validation data: 0.990170755982399\n",
      "\n",
      "\tPerforming Prediction on fold 0... done.\n",
      "\n",
      "Fold 1...\n",
      "\tNumber of missing words in Glove: 3692\n",
      "\tTraining model... completed.\n",
      "\tRMSE over validation data: 0.9329379975795746\n",
      "\n",
      "\tPerforming Prediction on fold 1... done.\n",
      "\n",
      "Fold 2...\n",
      "\tNumber of missing words in Glove: 3741\n",
      "\tTraining model... completed.\n",
      "\tRMSE over validation data: 0.9616937339305878\n",
      "\n",
      "\tPerforming Prediction on fold 2... done.\n",
      "\n",
      "Fold 3...\n",
      "\tNumber of missing words in Glove: 3758\n",
      "\tTraining model... completed.\n",
      "\tRMSE over validation data: 0.9236085712909698\n",
      "\n",
      "\tPerforming Prediction on fold 3... done.\n",
      "\n",
      "Fold 4...\n",
      "\tNumber of missing words in Glove: 3714\n",
      "\tTraining model... completed.\n",
      "\tRMSE over validation data: 0.9312028557062149\n",
      "\n",
      "\tPerforming Prediction on fold 4... done.\n",
      "\n",
      "K-Fold cross validation RMSE performance: 0.9468755134127356\n"
     ]
    },
    {
     "data": {
      "image/png": "[encoded data removed]",
      "text/plain": [
       "<Figure size 1440x360 with 5 Axes>"
      ]
     },
     "metadata": {},
     "output_type": "display_data"
    }
   ],
   "source": [
    "fig, axes = plt.subplots(1, n_splits, sharex=True, sharey=True, figsize=(20, 5))\n",
    "fig.suptitle(\"K-Fold Cross Validation Performance\")\n",
    "\n",
    "k_fold_cv_generator = k_fold_cv.split(train, y=train.bin)\n",
    "\n",
    "# Iterates over each fold to train the linear regression model, \n",
    "# predict on validation data and stores into a list to get its mean at the end\n",
    "\n",
    "for fold, (idx_train, idx_val) in enumerate(k_fold_cv_generator):\n",
    "    print(f\"Fold {fold}...\")\n",
    "\n",
    "    text_ds = tf.data.Dataset.from_tensor_slices(train.excerpt.iloc[idx_train]).batch(32)\n",
    "    vectorizer.adapt(text_ds)\n",
    "    \n",
    "    voc = vectorizer.get_vocabulary()\n",
    "    word_index = dict(zip(voc, range(len(voc))))\n",
    "    \n",
    "    missing_words_in_pretrained_embeddings = 0\n",
    "    embeddings_matrix = np.zeros((max_features, embedding_dim))\n",
    "    for word, i in word_index.items():\n",
    "        embedding_vector = embeddings_index.get(word)\n",
    "        if embedding_vector is not None:\n",
    "            embeddings_matrix[i] = embedding_vector\n",
    "        else:\n",
    "            missing_words_in_pretrained_embeddings += 1\n",
    "    print(f\"\\tNumber of missing words in Glove: {missing_words_in_pretrained_embeddings}\")\n",
    "    \n",
    "    embedding_layer = layers.Embedding(max_features, \n",
    "                                   embedding_dim, \n",
    "                                   embeddings_initializer=keras.initializers.Constant(embeddings_matrix),\n",
    "                                   input_length=max_length, \n",
    "                                   trainable=False)\n",
    "    \n",
    "    sequences_input = layers.Input(shape=(None,), dtype=\"int64\")\n",
    "    x = embedding_layer(sequences_input)\n",
    "    x = layers.Conv1D(128, 5, activation=\"relu\")(x)\n",
    "    x = layers.MaxPooling1D(5)(x)\n",
    "    x = layers.Conv1D(128, 5, activation=\"relu\")(x)\n",
    "    x = layers.MaxPooling1D(5)(x)\n",
    "    x = layers.Conv1D(128, 5, activation=\"relu\")(x)\n",
    "    x = layers.GlobalMaxPooling1D()(x)\n",
    "    x = layers.Dense(128, activation=\"relu\")(x)\n",
    "    #x = layers.Dropout(0.1)(x)\n",
    "    predictions_output = layers.Dense(1)(x)\n",
    "\n",
    "    model = keras.Model(sequences_input, predictions_output)\n",
    "    \n",
    "    x_train = vectorizer(np.array([[s] for s in train.excerpt.iloc[idx_train]])).numpy()\n",
    "    x_val = vectorizer(np.array([[s] for s in train.excerpt.iloc[idx_val]])).numpy()\n",
    "\n",
    "    y_train = np.array(train.target.iloc[idx_train])\n",
    "    y_val = np.array(train.target.iloc[idx_val])\n",
    "    \n",
    "    print(\"\\tTraining model...\", end=\" \")\n",
    "    model.compile(optimizer=\"rmsprop\", loss= \"mse\", metrics=[RootMeanSquaredError()])\n",
    "    history = model.fit(x_train, y_train, batch_size=batch_size, epochs=epochs, \n",
    "                        verbose=False, shuffle=False, validation_data=(x_val, y_val))\n",
    "    print(\"completed.\")\n",
    "    \n",
    "    history = history.history\n",
    "    \n",
    "    axes[fold].set_title(f\"Fold {fold}\")\n",
    "    axes[fold].plot(range(1, len(history[\"root_mean_squared_error\"]) + 1), history[\"root_mean_squared_error\"], \"bo\", label=\"Loss\")\n",
    "    axes[fold].plot(range(1, len(history[\"val_root_mean_squared_error\"]) + 1), history[\"val_root_mean_squared_error\"], \"b\", label=\"Validation Loss\")\n",
    "    axes[fold].set_xlabel(\"Epochs\")\n",
    "    if fold == 0:\n",
    "        axes[fold].set_ylabel(\"Loss (RMSE)\")\n",
    "    axes[fold].legend()\n",
    "    \n",
    "    rmse = np.mean(history[\"val_root_mean_squared_error\"])\n",
    "    validation_scores.append(rmse)\n",
    "    print(f\"\\tRMSE over validation data: {rmse}\")\n",
    "    # Performs predictions on test data\n",
    "    print(f\"\\tPerforming predictions on fold {fold}...\", end=\" \")\n",
    "    x_test = vectorizer(np.array([[s] for s in test.excerpt])).numpy()\n",
    "    predictions = model.predict(x_test)\n",
    "    predictions.resize((len(test)))\n",
    "    test_predictions[:,fold] = predictions.copy()\n",
    "    print(\"done.\")\n",
    "    print()\n",
    "    \n",
    "print(f\"K-Fold cross validation RMSE performance: {np.mean(validation_scores)}\")"
   ]
  },
  {
   "cell_type": "markdown",
   "metadata": {},
   "source": [
    "## Submission"
   ]
  },
  {
   "cell_type": "code",
   "execution_count": 27,
   "metadata": {
    "execution": {
     "iopub.execute_input": "2021-06-09T14:05:07.543227Z",
     "iopub.status.busy": "2021-06-09T14:05:07.542859Z",
     "iopub.status.idle": "2021-06-09T14:05:07.547589Z",
     "shell.execute_reply": "2021-06-09T14:05:07.546721Z",
     "shell.execute_reply.started": "2021-06-09T14:05:07.543190Z"
    }
   },
   "outputs": [],
   "source": [
    "# Averaging predictions across folds\n",
    "\n",
    "submission.target = test_predictions.mean(axis=1)"
   ]
  },
  {
   "cell_type": "code",
   "execution_count": 30,
   "metadata": {
    "execution": {
     "iopub.execute_input": "2021-06-09T14:27:27.824308Z",
     "iopub.status.busy": "2021-06-09T14:27:27.823964Z",
     "iopub.status.idle": "2021-06-09T14:27:27.831902Z",
     "shell.execute_reply": "2021-06-09T14:27:27.831174Z",
     "shell.execute_reply.started": "2021-06-09T14:27:27.824276Z"
    }
   },
   "outputs": [],
   "source": [
    "# Submitting by saving predictions into submission file\n",
    "\n",
    "submission.to_csv(\"submission.csv\", index=False)"
   ]
  }
 ],
 "metadata": {
  "kernelspec": {
   "display_name": "Python 3 (ipykernel)",
   "language": "python",
   "name": "python3"
  },
  "language_info": {
   "codemirror_mode": {
    "name": "ipython",
    "version": 3
   },
   "file_extension": ".py",
   "mimetype": "text/x-python",
   "name": "python",
   "nbconvert_exporter": "python",
   "pygments_lexer": "ipython3",
   "version": "3.7.12"
  }
 },
 "nbformat": 4,
 "nbformat_minor": 4
}
