{
 "cells": [
  {
   "cell_type": "code",
   "execution_count": 81,
   "id": "e46cf47f-8230-4de2-a085-2139ec5555ef",
   "metadata": {},
   "outputs": [],
   "source": [
    "# Imports required packages\n",
    "\n",
    "import numpy as np\n",
    "from PIL import Image\n",
    "import os"
   ]
  },
  {
   "cell_type": "code",
   "execution_count": 105,
   "id": "bd3dab63-d76c-4ff0-a249-509c931a6a34",
   "metadata": {},
   "outputs": [],
   "source": [
    "def scale_normalize_and_center_image(image):\n",
    "    \"\"\"\n",
    "    Scale normalize image by keeping the image if size 150 pixes in both sides \n",
    "    without changing aspect ratio and centers the image in 255 pixels square canvas.\n",
    "    \n",
    "    Input:\n",
    "        image:\n",
    "    \n",
    "    Returns modified image\n",
    "    \"\"\"\n",
    "    \n",
    "    image_data = np.asarray(image)\n",
    "\n",
    "    image_data_bw = np.where(image_data!=255)\n",
    "\n",
    "    cropBox = (min(image_data_bw[0]), min(image_data_bw[1]), max(image_data_bw[0]), max(image_data_bw[1]))\n",
    "\n",
    "    image_data_new = image_data[cropBox[0]:cropBox[2]+1, cropBox[1]:cropBox[3]+1]\n",
    "    new_image = Image.fromarray(image_data_new)\n",
    "    \n",
    "    if new_image.width >= new_image.height:\n",
    "        horz_scale = 150./new_image.width\n",
    "        new_image_resized = new_image.resize((150, round(new_image.height*horz_scale)))\n",
    "    else:\n",
    "        vert_scale = 150./new_image.height\n",
    "        new_image_resized = new_image.resize((round(new_image.width*vert_scale), 150))\n",
    "\n",
    "    canvas = Image.new('L', (256, 256), color='white')\n",
    "\n",
    "    canvas.paste(\n",
    "        new_image_resized, ((canvas.width - new_image_resized.width)//2, (canvas.height - new_image_resized.height)//2))\n",
    "    \n",
    "    del image_data, image_data_bw, cropBox, image_data_new, new_image, new_image_resized\n",
    "    \n",
    "    return canvas"
   ]
  },
  {
   "cell_type": "code",
   "execution_count": 106,
   "id": "f422044d-c061-4b32-ae40-b8895a6e8d17",
   "metadata": {},
   "outputs": [],
   "source": [
    "# Iterates over all the images subdirectories in the specified directory and\n",
    "# performs transformations\n",
    "\n",
    "for subdir, dirs, files in os.walk('./data/5_Train_Images_Size_Normalized+Centered/train'):\n",
    "    for filename in files:\n",
    "        filepath = subdir + os.sep + filename\n",
    "        if filepath.endswith(\".png\"):\n",
    "            image=Image.open(filepath)\n",
    "            image = scale_normalize_and_center_image(image)\n",
    "            image.save(filepath)\n",
    "            del image"
   ]
  }
 ],
 "metadata": {
  "kernelspec": {
   "display_name": "Python 3",
   "language": "python",
   "name": "python3"
  },
  "language_info": {
   "codemirror_mode": {
    "name": "ipython",
    "version": 3
   },
   "file_extension": ".py",
   "mimetype": "text/x-python",
   "name": "python",
   "nbconvert_exporter": "python",
   "pygments_lexer": "ipython3",
   "version": "3.7.10"
  }
 },
 "nbformat": 4,
 "nbformat_minor": 5
}
