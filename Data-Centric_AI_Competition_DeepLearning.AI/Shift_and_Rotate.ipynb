{
 "cells": [
  {
   "cell_type": "code",
   "execution_count": 13,
   "id": "f4790710-4d55-47a7-9f60-9f68cca656a5",
   "metadata": {},
   "outputs": [],
   "source": [
    "# Imports required packages\n",
    "\n",
    "import os\n",
    "from PIL import Image, ImageOps\n",
    "import uuid"
   ]
  },
  {
   "cell_type": "code",
   "execution_count": 11,
   "id": "626a432c-4f1d-444b-97f5-d2dab2c39a64",
   "metadata": {},
   "outputs": [],
   "source": [
    "def augment_image(image):\n",
    "    \"\"\"\n",
    "    Right shifts by 1/10th of the width of the image, fills left with white color and\n",
    "    then rotates the image by 10 degree clock wise\n",
    "    \n",
    "    Input parameters:\n",
    "        image: input image to shift and rorate\n",
    "        \n",
    "    Returns modified image\n",
    "    \"\"\"\n",
    "    \n",
    "    right_shift = int(image.width*0.1)\n",
    "    cropped_image = image.crop((0, 0, image.width-right_shift-1, image.height-1))\n",
    "    new_image = ImageOps.pad(\n",
    "        image=cropped_image, size=image.size, color='white', centering=(1, 1))\n",
    "    \n",
    "    rotated_image = new_image.rotate(-10, fillcolor=255, expand=0)\n",
    "    \n",
    "    del cropped_image, new_image, right_shift\n",
    "    \n",
    "    return rotated_image"
   ]
  },
  {
   "cell_type": "code",
   "execution_count": 31,
   "id": "f83709b1-0111-4591-b045-2640fd079d08",
   "metadata": {},
   "outputs": [],
   "source": [
    "# Stores the folder structure into list\n",
    "\n",
    "walk = list(os.walk('./data/6_Train_Images_with_Augmented_Ones/train'))\n",
    "\n",
    "# Iterates over the tree and applies geometric transformations (shifting and \n",
    "# rotations) in each image in every folder\n",
    "\n",
    "for subdir, dirs, files in walk:\n",
    "    for filename in files:\n",
    "        filepath = subdir + os.sep + filename\n",
    "        if filepath.endswith(\".png\"):\n",
    "            image=Image.open(filepath)\n",
    "            new_image = augment_image(image)\n",
    "            new_image.save(subdir + os.sep + str(uuid.uuid1()) + '.png')\n",
    "            del new_image, image"
   ]
  }
 ],
 "metadata": {
  "kernelspec": {
   "display_name": "Python 3",
   "language": "python",
   "name": "python3"
  },
  "language_info": {
   "codemirror_mode": {
    "name": "ipython",
    "version": 3
   },
   "file_extension": ".py",
   "mimetype": "text/x-python",
   "name": "python",
   "nbconvert_exporter": "python",
   "pygments_lexer": "ipython3",
   "version": "3.7.10"
  }
 },
 "nbformat": 4,
 "nbformat_minor": 5
}
