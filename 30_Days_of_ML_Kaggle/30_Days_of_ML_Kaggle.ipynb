{
 "cells": [
  {
   "cell_type": "markdown",
   "metadata": {
    "tags": []
   },
   "source": [
    "# 30 Days of Machine Learning by Kaggle\n",
    "### Aug 16, 2021 to Aug 30, 2021\n",
    "### https://www.kaggle.com/c/30-days-of-ml/\n",
    "### Predicting the amount of an insurance claim (with original data synthesized and features anonymized)\n",
    "\n",
    "Notebook Author:\n",
    "\n",
    "| Name:  | Pradip Kumar Das  |\n",
    "| ------------: | :------------ |\n",
    "| **Profile:** |  [LinkedIn](https://www.linkedin.com/in/daspradipkumar/) I [GitHub](https://github.com/PradipKumarDas \"GitHub\") I [Kaggle](https://www.kaggle.com/pradipkumardas \"Kaggle\")  |\n",
    "|  **Contact:** | pradipkumardas@hotmail.com (Email)  |\n",
    "| **Location:** | Bengaluru, India|\n",
    "\n",
    "**Sections:**\n",
    "- Dependencies\n",
    "- Exploratory Data Analysis (EDA) & Preprocessing\n",
    "- Modeling & Evaluation\n",
    "- Submission"
   ]
  },
  {
   "cell_type": "markdown",
   "metadata": {},
   "source": [
    "## Dependencies"
   ]
  },
  {
   "cell_type": "code",
   "execution_count": 1,
   "metadata": {
    "execution": {
     "iopub.execute_input": "2021-08-31T14:12:42.806771Z",
     "iopub.status.busy": "2021-08-31T14:12:42.806350Z",
     "iopub.status.idle": "2021-08-31T14:12:44.342473Z",
     "shell.execute_reply": "2021-08-31T14:12:44.341671Z",
     "shell.execute_reply.started": "2021-08-31T14:12:42.806680Z"
    }
   },
   "outputs": [],
   "source": [
    "# Loads required packages\n",
    "\n",
    "import numpy as np\n",
    "import pandas as pd\n",
    "\n",
    "from sklearn.pipeline import Pipeline\n",
    "from sklearn.compose import ColumnTransformer\n",
    "from sklearn.model_selection import train_test_split, cross_val_score, GridSearchCV, StratifiedKFold, KFold\n",
    "from sklearn.preprocessing import StandardScaler, MinMaxScaler, OrdinalEncoder, OneHotEncoder\n",
    "from sklearn.decomposition import PCA\n",
    "from sklearn.tree import DecisionTreeRegressor\n",
    "from sklearn.ensemble import RandomForestRegressor\n",
    "from sklearn.metrics import mean_squared_error\n",
    "\n",
    "import xgboost as xgb\n",
    "from xgboost import XGBRegressor, cv\n",
    "\n",
    "from hyperopt import hp, fmin, tpe, Trials, STATUS_OK\n",
    "\n",
    "import matplotlib.pyplot as plt\n",
    "import seaborn as sns\n",
    "%matplotlib inline"
   ]
  },
  {
   "cell_type": "code",
   "execution_count": 2,
   "metadata": {
    "execution": {
     "iopub.execute_input": "2021-08-31T14:12:47.535865Z",
     "iopub.status.busy": "2021-08-31T14:12:47.535486Z",
     "iopub.status.idle": "2021-08-31T14:12:47.540452Z",
     "shell.execute_reply": "2021-08-31T14:12:47.539501Z",
     "shell.execute_reply.started": "2021-08-31T14:12:47.535834Z"
    }
   },
   "outputs": [],
   "source": [
    "# Initializations\n",
    "\n",
    "random_state = 1\n",
    "max_leaf_nodes = [5, 50, 500, 5000]\n",
    "cross_val_folds = 5\n",
    "random_forests_regressor_estimators = 100\n",
    "xgboost_regressor_estimators = 100"
   ]
  },
  {
   "cell_type": "markdown",
   "metadata": {},
   "source": [
    "## Exploratory Data Analysis (EDA) & Preprocessing"
   ]
  },
  {
   "cell_type": "code",
   "execution_count": 3,
   "metadata": {
    "execution": {
     "iopub.execute_input": "2021-08-31T14:12:49.875597Z",
     "iopub.status.busy": "2021-08-31T14:12:49.875233Z",
     "iopub.status.idle": "2021-08-31T14:12:53.556898Z",
     "shell.execute_reply": "2021-08-31T14:12:53.556014Z",
     "shell.execute_reply.started": "2021-08-31T14:12:49.875564Z"
    }
   },
   "outputs": [],
   "source": [
    "# Loads data\n",
    "\n",
    "train = pd.read_csv(\".data/train.csv\")\n",
    "test = pd.read_csv(\".data/test.csv\")\n",
    "submission = pd.read_csv(\".data/sample_submission.csv\")"
   ]
  },
  {
   "cell_type": "code",
   "execution_count": null,
   "metadata": {
    "execution": {
     "iopub.execute_input": "2021-08-31T04:41:57.103073Z",
     "iopub.status.busy": "2021-08-31T04:41:57.102752Z",
     "iopub.status.idle": "2021-08-31T04:41:57.296043Z",
     "shell.execute_reply": "2021-08-31T04:41:57.295080Z",
     "shell.execute_reply.started": "2021-08-31T04:41:57.103044Z"
    }
   },
   "outputs": [],
   "source": [
    "# Views data\n",
    "train"
   ]
  },
  {
   "cell_type": "code",
   "execution_count": null,
   "metadata": {
    "execution": {
     "iopub.execute_input": "2021-08-31T04:42:01.793144Z",
     "iopub.status.busy": "2021-08-31T04:42:01.792819Z",
     "iopub.status.idle": "2021-08-31T04:42:01.897320Z",
     "shell.execute_reply": "2021-08-31T04:42:01.896320Z",
     "shell.execute_reply.started": "2021-08-31T04:42:01.793115Z"
    }
   },
   "outputs": [],
   "source": [
    "test"
   ]
  },
  {
   "cell_type": "code",
   "execution_count": null,
   "metadata": {
    "execution": {
     "iopub.execute_input": "2021-08-31T04:42:09.353106Z",
     "iopub.status.busy": "2021-08-31T04:42:09.352789Z",
     "iopub.status.idle": "2021-08-31T04:42:09.362205Z",
     "shell.execute_reply": "2021-08-31T04:42:09.361271Z",
     "shell.execute_reply.started": "2021-08-31T04:42:09.353077Z"
    }
   },
   "outputs": [],
   "source": [
    "# Checks for data types\n",
    "train.dtypes"
   ]
  },
  {
   "cell_type": "code",
   "execution_count": null,
   "metadata": {
    "execution": {
     "iopub.execute_input": "2021-08-31T04:42:12.533614Z",
     "iopub.status.busy": "2021-08-31T04:42:12.533251Z",
     "iopub.status.idle": "2021-08-31T04:42:12.987657Z",
     "shell.execute_reply": "2021-08-31T04:42:12.986544Z",
     "shell.execute_reply.started": "2021-08-31T04:42:12.533584Z"
    }
   },
   "outputs": [],
   "source": [
    "# Checks for missing values\n",
    "\n",
    "pd.DataFrame(train.isna().sum(), columns=[\"Train_Missing\"]).join(\n",
    "    pd.DataFrame(test.isna().sum(), columns=[\"Test_Missing\"]))"
   ]
  },
  {
   "cell_type": "code",
   "execution_count": null,
   "metadata": {
    "execution": {
     "iopub.execute_input": "2021-08-31T04:42:18.908187Z",
     "iopub.status.busy": "2021-08-31T04:42:18.907867Z",
     "iopub.status.idle": "2021-08-31T04:42:19.230688Z",
     "shell.execute_reply": "2021-08-31T04:42:19.229633Z",
     "shell.execute_reply.started": "2021-08-31T04:42:18.908157Z"
    }
   },
   "outputs": [],
   "source": [
    "# Checks whether any categorical values that appear in test data set but not in train data set\n",
    "\n",
    "print(train.select_dtypes(include=\"object\").apply(lambda col: col.unique(), axis=0))\n",
    "print(test.select_dtypes(include=\"object\").apply(lambda col: col.unique(), axis=0))"
   ]
  },
  {
   "cell_type": "code",
   "execution_count": null,
   "metadata": {
    "execution": {
     "iopub.execute_input": "2021-08-31T04:42:22.748330Z",
     "iopub.status.busy": "2021-08-31T04:42:22.748013Z",
     "iopub.status.idle": "2021-08-31T04:42:22.933570Z",
     "shell.execute_reply": "2021-08-31T04:42:22.932556Z",
     "shell.execute_reply.started": "2021-08-31T04:42:22.748300Z"
    }
   },
   "outputs": [],
   "source": [
    "# Checks for basic statistics of the training data\n",
    "train.describe()"
   ]
  },
  {
   "cell_type": "code",
   "execution_count": null,
   "metadata": {
    "execution": {
     "iopub.execute_input": "2021-08-31T04:42:24.923187Z",
     "iopub.status.busy": "2021-08-31T04:42:24.922870Z",
     "iopub.status.idle": "2021-08-31T04:42:25.220698Z",
     "shell.execute_reply": "2021-08-31T04:42:25.218075Z",
     "shell.execute_reply.started": "2021-08-31T04:42:24.923158Z"
    }
   },
   "outputs": [],
   "source": [
    "train.target.hist()"
   ]
  },
  {
   "cell_type": "code",
   "execution_count": 4,
   "metadata": {
    "execution": {
     "iopub.execute_input": "2021-08-31T14:13:01.986450Z",
     "iopub.status.busy": "2021-08-31T14:13:01.986112Z",
     "iopub.status.idle": "2021-08-31T14:13:02.011402Z",
     "shell.execute_reply": "2021-08-31T14:13:02.010639Z",
     "shell.execute_reply.started": "2021-08-31T14:13:01.986420Z"
    }
   },
   "outputs": [],
   "source": [
    "bins = pd.cut(train.target, bins=10, labels=list(range(10)), ordered=True)\n",
    "\n",
    "cv = StratifiedKFold(n_splits=5)"
   ]
  },
  {
   "cell_type": "code",
   "execution_count": 5,
   "metadata": {
    "execution": {
     "iopub.execute_input": "2021-08-31T14:13:02.985761Z",
     "iopub.status.busy": "2021-08-31T14:13:02.985385Z",
     "iopub.status.idle": "2021-08-31T14:13:03.019801Z",
     "shell.execute_reply": "2021-08-31T14:13:03.018900Z",
     "shell.execute_reply.started": "2021-08-31T14:13:02.985729Z"
    }
   },
   "outputs": [],
   "source": [
    "# Seperates predictor variables from target\n",
    "\n",
    "y = train.target\n",
    "\n",
    "X = train.drop([\"id\", \"target\"], axis=1)"
   ]
  },
  {
   "cell_type": "markdown",
   "metadata": {},
   "source": [
    "## Modeling & Evaluation"
   ]
  },
  {
   "cell_type": "markdown",
   "metadata": {
    "tags": []
   },
   "source": [
    "### Sets Pipeline"
   ]
  },
  {
   "cell_type": "code",
   "execution_count": 6,
   "metadata": {
    "execution": {
     "iopub.execute_input": "2021-08-31T14:13:05.805693Z",
     "iopub.status.busy": "2021-08-31T14:13:05.805346Z",
     "iopub.status.idle": "2021-08-31T14:13:05.849489Z",
     "shell.execute_reply": "2021-08-31T14:13:05.848588Z",
     "shell.execute_reply.started": "2021-08-31T14:13:05.805661Z"
    }
   },
   "outputs": [],
   "source": [
    "# List categorical variables\n",
    "categorical_columns = X.select_dtypes(\"object\").columns.tolist()\n",
    "\n",
    "# Sets pipelines to preprocess categorical data\n",
    "#categorical_transformer = Pipeline(steps=[(\"onehot\", OneHotEncoder(handle_unknown='ignore', sparse=False))])\n",
    "categorical_transformer = Pipeline(steps=[(\"ordinal\", OrdinalEncoder())]) #minor improvement over one-hot encoder\n",
    "\n",
    "numeric_columns = X.select_dtypes(\"float\").columns.tolist()\n",
    "\n",
    "#numeric_transformer = Pipeline(steps=[(\"std_scaled\", StandardScaler())])\n",
    "numeric_transformer = Pipeline(steps=[(\"std_scaled\", MinMaxScaler())]) #minor improvement over standard scaling\n",
    "\n",
    "# Bundle preprocessing steps for all categorical variables\n",
    "preprocessor = ColumnTransformer(transformers=[\n",
    "    ('categorical', categorical_transformer, categorical_columns),\n",
    "    ('numeric', numeric_transformer, numeric_columns)\n",
    "])"
   ]
  },
  {
   "cell_type": "markdown",
   "metadata": {},
   "source": [
    "### Decision Tree"
   ]
  },
  {
   "cell_type": "markdown",
   "metadata": {},
   "source": [
    "**Decision Tree with Default Parameters**"
   ]
  },
  {
   "cell_type": "code",
   "execution_count": null,
   "metadata": {
    "execution": {
     "iopub.execute_input": "2021-08-31T04:58:28.568032Z",
     "iopub.status.busy": "2021-08-31T04:58:28.567714Z",
     "iopub.status.idle": "2021-08-31T04:59:21.066027Z",
     "shell.execute_reply": "2021-08-31T04:59:21.065184Z",
     "shell.execute_reply.started": "2021-08-31T04:58:28.568003Z"
    }
   },
   "outputs": [],
   "source": [
    "cv_generator = cv.split(train, bins)\n",
    "\n",
    "# Creates model object\n",
    "model = DecisionTreeRegressor(random_state=random_state)\n",
    "\n",
    "# Sets pipeline to preprocess categorical data followed by model training\n",
    "model_pipeline = Pipeline(steps=[(\"preprocessor\", preprocessor), (\"model\", model)])\n",
    "\n",
    "# Performs cross-validation \n",
    "scores = -1 * cross_val_score(\n",
    "    model_pipeline, X, y, cv=cv_generator, scoring='neg_mean_squared_error')"
   ]
  },
  {
   "cell_type": "code",
   "execution_count": null,
   "metadata": {
    "execution": {
     "iopub.execute_input": "2021-08-31T04:59:33.088546Z",
     "iopub.status.busy": "2021-08-31T04:59:33.088017Z",
     "iopub.status.idle": "2021-08-31T04:59:33.096074Z",
     "shell.execute_reply": "2021-08-31T04:59:33.094910Z",
     "shell.execute_reply.started": "2021-08-31T04:59:33.088495Z"
    }
   },
   "outputs": [],
   "source": [
    "print(\"Root Mean Squared Error (RMSE) of Baselined (Decision Tree) Model:\", np.sqrt(scores.mean()))"
   ]
  },
  {
   "cell_type": "markdown",
   "metadata": {},
   "source": [
    "### Random Forests"
   ]
  },
  {
   "cell_type": "markdown",
   "metadata": {},
   "source": [
    "**Ramdom Forests with Default Parameters**"
   ]
  },
  {
   "cell_type": "code",
   "execution_count": null,
   "metadata": {},
   "outputs": [],
   "source": [
    "cv_generator = cv.split(train, bins)\n",
    "\n",
    "# Creates model object with required parameters\n",
    "model = RandomForestRegressor(random_state=random_state)\n",
    "\n",
    "# Sets pipeline to preprocess categorical data followed by model training\n",
    "model_pipeline = Pipeline(steps=[(\"preprocessor\", preprocessor), (\"model\", model)])\n",
    "\n",
    "# Performs cross-validation \n",
    "scores = -1 * cross_val_score(\n",
    "    model_pipeline, X, y, cv=cv_generator, scoring='neg_mean_squared_error', n_jobs=-1, verbose=10)"
   ]
  },
  {
   "cell_type": "code",
   "execution_count": null,
   "metadata": {},
   "outputs": [],
   "source": [
    "print(\"Root Mean Squared Error (RMSE) of Random Forest (with default parameters) Model:\", np.sqrt( scores.mean()))"
   ]
  },
  {
   "cell_type": "markdown",
   "metadata": {},
   "source": [
    "### Gradient Boosted Trees"
   ]
  },
  {
   "cell_type": "markdown",
   "metadata": {},
   "source": [
    "**XGBoost with Default Parameters**"
   ]
  },
  {
   "cell_type": "code",
   "execution_count": null,
   "metadata": {},
   "outputs": [],
   "source": [
    "cv_generator = cv.split(train, bins)\n",
    "\n",
    "# Creates model object with required parameters\n",
    "model = XGBRegressor(random_state=random_state)\n",
    "\n",
    "# Sets pipeline to preprocess categorical data followed by model training\n",
    "model_pipeline = Pipeline(steps=[(\"preprocessor\", preprocessor), (\"model\", model)])\n",
    "\n",
    "# Performs cross-validation \n",
    "scores = -1 * cross_val_score(\n",
    "    model_pipeline, X, y, cv=cv_generator, scoring='neg_mean_squared_error', n_jobs=-1, verbose=10)"
   ]
  },
  {
   "cell_type": "code",
   "execution_count": null,
   "metadata": {},
   "outputs": [],
   "source": [
    "print(\"Root Mean Squared Error (RMSE) of XGBoost Regressor (with default parameters) Model:\", np.sqrt( scores.mean()))"
   ]
  },
  {
   "cell_type": "markdown",
   "metadata": {},
   "source": [
    "**Automated Hyperparameter Tuning with Hyperopt**"
   ]
  },
  {
   "cell_type": "code",
   "execution_count": null,
   "metadata": {
    "tags": []
   },
   "outputs": [],
   "source": [
    "# Extracts processed data to use in XGBoost\n",
    "X_train = preprocessor.fit_transform(X)\n",
    "\n",
    "cv_generator = cv.split(train, bins)\n",
    "\n",
    "for fold, (idx_train, idx_val) in enumerate(cv_generator):\n",
    "    x_train = X_train[idx_train]\n",
    "    y_train = y.iloc[idx_train]\n",
    "    x_val = X_train[idx_val]\n",
    "    y_val = y.iloc[idx_val]\n",
    "    break"
   ]
  },
  {
   "cell_type": "code",
   "execution_count": 8,
   "metadata": {
    "execution": {
     "iopub.execute_input": "2021-08-31T14:13:48.521640Z",
     "iopub.status.busy": "2021-08-31T14:13:48.521299Z",
     "iopub.status.idle": "2021-08-31T14:13:48.631116Z",
     "shell.execute_reply": "2021-08-31T14:13:48.630374Z",
     "shell.execute_reply.started": "2021-08-31T14:13:48.521609Z"
    }
   },
   "outputs": [],
   "source": [
    "# Creates training and validation data in an intermediate structure that XGBoost requires for model training\n",
    "dtrain = xgb.DMatrix(data=x_train, label=y_train)\n",
    "dval = xgb.DMatrix(data=x_val, label=y_val)"
   ]
  },
  {
   "cell_type": "code",
   "execution_count": 17,
   "metadata": {
    "execution": {
     "iopub.execute_input": "2021-08-31T14:33:16.280329Z",
     "iopub.status.busy": "2021-08-31T14:33:16.280006Z",
     "iopub.status.idle": "2021-08-31T14:33:16.286301Z",
     "shell.execute_reply": "2021-08-31T14:33:16.285457Z",
     "shell.execute_reply.started": "2021-08-31T14:33:16.280300Z"
    }
   },
   "outputs": [],
   "source": [
    "# Sets up a search space for XGBoost hyperparameters\n",
    "space = {\n",
    "    'learning_rate': hp.uniform('learning_rate', 0.01, 0.3),\n",
    "    'max_depth': hp.quniform(\"max_depth\", 2, 6, 1),\n",
    "    'min_child_weight' : hp.quniform('min_child_weight', 1, 8, 1),\n",
    "    'reg_alpha' : hp.uniform('reg_alpha', 1e-8, 100),\n",
    "    'reg_lambda' : hp.uniform('reg_lambda', 1e-8, 100),\n",
    "    'gamma': hp.uniform ('gamma', 0.0, 1.0),\n",
    "    'subsample': hp.uniform(\"subsample\", 0.1, 1.0),\n",
    "    'colsample_bytree': hp.uniform('colsample_bytree', 0.1, 1.0)\n",
    "}"
   ]
  },
  {
   "cell_type": "code",
   "execution_count": 18,
   "metadata": {
    "execution": {
     "iopub.execute_input": "2021-08-31T14:39:45.035614Z",
     "iopub.status.busy": "2021-08-31T14:39:45.035265Z",
     "iopub.status.idle": "2021-08-31T14:39:45.042018Z",
     "shell.execute_reply": "2021-08-31T14:39:45.041066Z",
     "shell.execute_reply.started": "2021-08-31T14:39:45.035578Z"
    },
    "tags": []
   },
   "outputs": [],
   "source": [
    "def trial_loss(space):\n",
    "    \"\"\"\n",
    "    Trial function for Hyperopt to call by passing a set a trial hyperparamets\n",
    "    to train model and perform predictions.\n",
    "    \n",
    "    Parameters:\n",
    "    ----------\n",
    "    space: A set a trial hyperparamets\n",
    "    \n",
    "    Returns metric for Hyperopt to estimate for further tuning in search space.\n",
    "    \"\"\"\n",
    "    \n",
    "    # Converts parameter value to int as required by XGBoost\n",
    "    space[\"max_depth\"] = int(space[\"max_depth\"])\n",
    "    space[\"objective\"] = \"reg:squarederror\"\n",
    "    space[\"tree_method\"] = \"gpu_hist\"\n",
    "    \n",
    "    model = xgb.train(\n",
    "        space, dtrain, \n",
    "        num_boost_round=1000, \n",
    "        evals=[(dval, 'eval'), (dtrain, 'train')],\n",
    "        early_stopping_rounds=100, verbose_eval=False)\n",
    "    \n",
    "    predictions = model.predict(dval)\n",
    "    \n",
    "    rmse = mean_squared_error(y_val, predictions, squared=False)\n",
    "    \n",
    "    # Flags variables to be deleted\n",
    "    del predictions, model\n",
    "    \n",
    "    return {\"loss\": rmse, \"status\": STATUS_OK}"
   ]
  },
  {
   "cell_type": "code",
   "execution_count": 19,
   "metadata": {
    "execution": {
     "iopub.execute_input": "2021-08-31T14:39:45.994970Z",
     "iopub.status.busy": "2021-08-31T14:39:45.994646Z",
     "iopub.status.idle": "2021-08-31T14:49:18.394980Z",
     "shell.execute_reply": "2021-08-31T14:49:18.394179Z",
     "shell.execute_reply.started": "2021-08-31T14:39:45.994942Z"
    },
    "tags": []
   },
   "outputs": [
    {
     "name": "stdout",
     "output_type": "stream",
     "text": [
      "100%|██████████| 200/200 [09:32<00:00,  2.86s/trial, best loss: 0.7181252418713265]\n"
     ]
    }
   ],
   "source": [
    "# Begins hyperparameter tuning\n",
    "# (this takes time depending upon how large search space is)\n",
    "trials = Trials()\n",
    "best_trial = fmin(fn=trial_loss, space=space, algo=tpe.suggest, max_evals=200, trials=trials)"
   ]
  },
  {
   "cell_type": "code",
   "execution_count": 26,
   "metadata": {
    "execution": {
     "iopub.execute_input": "2021-08-31T14:58:24.859384Z",
     "iopub.status.busy": "2021-08-31T14:58:24.859052Z",
     "iopub.status.idle": "2021-08-31T14:58:24.865116Z",
     "shell.execute_reply": "2021-08-31T14:58:24.864236Z",
     "shell.execute_reply.started": "2021-08-31T14:58:24.859354Z"
    }
   },
   "outputs": [
    {
     "name": "stdout",
     "output_type": "stream",
     "text": [
      "{'colsample_bytree': 0.10053766574830636, 'gamma': 0.001969493617053307, 'learning_rate': 0.17602061890621307, 'max_depth': 4.0, 'min_child_weight': 2.0, 'reg_alpha': 24.956570827069402, 'reg_lambda': 44.74305000233839, 'subsample': 0.7875939722688653}\n"
     ]
    }
   ],
   "source": [
    "print(best_trial)"
   ]
  },
  {
   "cell_type": "markdown",
   "metadata": {},
   "source": [
    "## Submission"
   ]
  },
  {
   "cell_type": "markdown",
   "metadata": {},
   "source": [
    "**Prepares final XGBoost model with optimized parameters**"
   ]
  },
  {
   "cell_type": "code",
   "execution_count": 25,
   "metadata": {
    "execution": {
     "iopub.execute_input": "2021-08-31T14:56:39.395737Z",
     "iopub.status.busy": "2021-08-31T14:56:39.395262Z",
     "iopub.status.idle": "2021-08-31T14:56:39.512940Z",
     "shell.execute_reply": "2021-08-31T14:56:39.511156Z",
     "shell.execute_reply.started": "2021-08-31T14:56:39.395680Z"
    }
   },
   "outputs": [],
   "source": [
    "X_test = preprocessor.fit_transform(test.drop([\"id\"], axis=1))\n",
    "\n",
    "dtest = xgb.DMatrix(data=X_test)"
   ]
  },
  {
   "cell_type": "code",
   "execution_count": 67,
   "metadata": {
    "execution": {
     "iopub.execute_input": "2021-08-31T16:07:41.410442Z",
     "iopub.status.busy": "2021-08-31T16:07:41.410088Z",
     "iopub.status.idle": "2021-08-31T16:15:23.366321Z",
     "shell.execute_reply": "2021-08-31T16:15:23.365378Z",
     "shell.execute_reply.started": "2021-08-31T16:07:41.410411Z"
    }
   },
   "outputs": [
    {
     "name": "stdout",
     "output_type": "stream",
     "text": [
      "fold 0\n",
      "[0]\teval-rmse:6.42229\ttrain-rmse:6.42342\n",
      "[100]\teval-rmse:0.72793\ttrain-rmse:0.72621\n",
      "[200]\teval-rmse:0.72152\ttrain-rmse:0.71762\n",
      "[300]\teval-rmse:0.71964\ttrain-rmse:0.71424\n",
      "[400]\teval-rmse:0.71855\ttrain-rmse:0.71198\n",
      "[500]\teval-rmse:0.71803\ttrain-rmse:0.71026\n",
      "[600]\teval-rmse:0.71777\ttrain-rmse:0.70866\n",
      "[700]\teval-rmse:0.71757\ttrain-rmse:0.70736\n",
      "[800]\teval-rmse:0.71746\ttrain-rmse:0.70634\n",
      "[900]\teval-rmse:0.71743\ttrain-rmse:0.70537\n",
      "[999]\teval-rmse:0.71746\ttrain-rmse:0.70448\n",
      "Predicted on test data set.\n",
      "fold 1\n",
      "[0]\teval-rmse:6.42398\ttrain-rmse:6.42294\n",
      "[100]\teval-rmse:0.72912\ttrain-rmse:0.72577\n",
      "[200]\teval-rmse:0.72272\ttrain-rmse:0.71738\n",
      "[300]\teval-rmse:0.72064\ttrain-rmse:0.71386\n",
      "[400]\teval-rmse:0.71982\ttrain-rmse:0.71155\n",
      "[500]\teval-rmse:0.71908\ttrain-rmse:0.70983\n",
      "[600]\teval-rmse:0.71879\ttrain-rmse:0.70829\n",
      "[700]\teval-rmse:0.71851\ttrain-rmse:0.70704\n",
      "[800]\teval-rmse:0.71850\ttrain-rmse:0.70592\n",
      "[900]\teval-rmse:0.71850\ttrain-rmse:0.70486\n",
      "[999]\teval-rmse:0.71852\ttrain-rmse:0.70399\n",
      "Predicted on test data set.\n",
      "fold 2\n",
      "[0]\teval-rmse:6.42352\ttrain-rmse:6.42288\n",
      "[100]\teval-rmse:0.72694\ttrain-rmse:0.72661\n",
      "[200]\teval-rmse:0.72033\ttrain-rmse:0.71837\n",
      "[300]\teval-rmse:0.71818\ttrain-rmse:0.71494\n",
      "[400]\teval-rmse:0.71696\ttrain-rmse:0.71244\n",
      "[500]\teval-rmse:0.71633\ttrain-rmse:0.71061\n",
      "[600]\teval-rmse:0.71586\ttrain-rmse:0.70900\n",
      "[700]\teval-rmse:0.71563\ttrain-rmse:0.70768\n",
      "[800]\teval-rmse:0.71558\ttrain-rmse:0.70659\n",
      "[900]\teval-rmse:0.71553\ttrain-rmse:0.70561\n",
      "[999]\teval-rmse:0.71557\ttrain-rmse:0.70477\n",
      "Predicted on test data set.\n",
      "fold 3\n",
      "[0]\teval-rmse:6.42320\ttrain-rmse:6.42308\n",
      "[100]\teval-rmse:0.72925\ttrain-rmse:0.72614\n",
      "[200]\teval-rmse:0.72234\ttrain-rmse:0.71788\n",
      "[300]\teval-rmse:0.72003\ttrain-rmse:0.71450\n",
      "[400]\teval-rmse:0.71885\ttrain-rmse:0.71206\n",
      "[500]\teval-rmse:0.71800\ttrain-rmse:0.71033\n",
      "[600]\teval-rmse:0.71759\ttrain-rmse:0.70881\n",
      "[700]\teval-rmse:0.71738\ttrain-rmse:0.70747\n",
      "[800]\teval-rmse:0.71725\ttrain-rmse:0.70637\n",
      "[900]\teval-rmse:0.71720\ttrain-rmse:0.70541\n",
      "[999]\teval-rmse:0.71713\ttrain-rmse:0.70452\n",
      "Predicted on test data set.\n",
      "fold 4\n",
      "[0]\teval-rmse:6.42274\ttrain-rmse:6.42315\n",
      "[100]\teval-rmse:0.72866\ttrain-rmse:0.72605\n",
      "[200]\teval-rmse:0.72217\ttrain-rmse:0.71786\n",
      "[300]\teval-rmse:0.71991\ttrain-rmse:0.71447\n",
      "[400]\teval-rmse:0.71880\ttrain-rmse:0.71197\n",
      "[500]\teval-rmse:0.71810\ttrain-rmse:0.71017\n",
      "[600]\teval-rmse:0.71776\ttrain-rmse:0.70870\n",
      "[700]\teval-rmse:0.71749\ttrain-rmse:0.70738\n",
      "[800]\teval-rmse:0.71744\ttrain-rmse:0.70629\n",
      "[900]\teval-rmse:0.71731\ttrain-rmse:0.70525\n",
      "[999]\teval-rmse:0.71726\ttrain-rmse:0.70437\n",
      "Predicted on test data set.\n"
     ]
    }
   ],
   "source": [
    "test_predictions = []\n",
    "\n",
    "cv_generator = cv.split(train, bins)\n",
    "for fold, (idx_train, idx_val) in enumerate(cv_generator):\n",
    "    print(\"fold\", fold)\n",
    "    x_train = X_train[idx_train]\n",
    "    y_train = y.iloc[idx_train]\n",
    "    x_val = X_train[idx_val]\n",
    "    y_val = y.iloc[idx_val]\n",
    "    \n",
    "    dtrain = xgb.DMatrix(data=x_train, label=y_train)\n",
    "    dval = xgb.DMatrix(data=x_val, label=y_val)\n",
    "    \n",
    "    best_trial[\"max_depth\"] = int(best_trial[\"max_depth\"])\n",
    "    best_trial[\"objective\"] = \"reg:squarederror\"\n",
    "    \n",
    "    model = xgb.train(\n",
    "        best_trial, \n",
    "        dtrain, \n",
    "        num_boost_round=1000, \n",
    "        evals=[(dval, 'eval'), (dtrain, 'train')],\n",
    "        early_stopping_rounds=100, verbose_eval=100)\n",
    "    \n",
    "    predictions = model.predict(dtest)\n",
    "    \n",
    "    print(\"Predicted on test data set.\")\n",
    "    test_predictions.append(predictions)"
   ]
  },
  {
   "cell_type": "code",
   "execution_count": 68,
   "metadata": {
    "execution": {
     "iopub.execute_input": "2021-08-31T16:15:34.720160Z",
     "iopub.status.busy": "2021-08-31T16:15:34.719838Z",
     "iopub.status.idle": "2021-08-31T16:15:34.741086Z",
     "shell.execute_reply": "2021-08-31T16:15:34.740340Z",
     "shell.execute_reply.started": "2021-08-31T16:15:34.720131Z"
    }
   },
   "outputs": [
    {
     "data": {
      "text/html": [
       "<div>\n",
       "<style scoped>\n",
       "    .dataframe tbody tr th:only-of-type {\n",
       "        vertical-align: middle;\n",
       "    }\n",
       "\n",
       "    .dataframe tbody tr th {\n",
       "        vertical-align: top;\n",
       "    }\n",
       "\n",
       "    .dataframe thead th {\n",
       "        text-align: right;\n",
       "    }\n",
       "</style>\n",
       "<table border=\"1\" class=\"dataframe\">\n",
       "  <thead>\n",
       "    <tr style=\"text-align: right;\">\n",
       "      <th></th>\n",
       "      <th>id</th>\n",
       "      <th>target</th>\n",
       "    </tr>\n",
       "  </thead>\n",
       "  <tbody>\n",
       "    <tr>\n",
       "      <th>0</th>\n",
       "      <td>0</td>\n",
       "      <td>8.071482</td>\n",
       "    </tr>\n",
       "    <tr>\n",
       "      <th>1</th>\n",
       "      <td>5</td>\n",
       "      <td>8.408277</td>\n",
       "    </tr>\n",
       "    <tr>\n",
       "      <th>2</th>\n",
       "      <td>15</td>\n",
       "      <td>8.427138</td>\n",
       "    </tr>\n",
       "    <tr>\n",
       "      <th>3</th>\n",
       "      <td>16</td>\n",
       "      <td>8.497139</td>\n",
       "    </tr>\n",
       "    <tr>\n",
       "      <th>4</th>\n",
       "      <td>17</td>\n",
       "      <td>8.109150</td>\n",
       "    </tr>\n",
       "    <tr>\n",
       "      <th>...</th>\n",
       "      <td>...</td>\n",
       "      <td>...</td>\n",
       "    </tr>\n",
       "    <tr>\n",
       "      <th>199995</th>\n",
       "      <td>499987</td>\n",
       "      <td>7.994358</td>\n",
       "    </tr>\n",
       "    <tr>\n",
       "      <th>199996</th>\n",
       "      <td>499990</td>\n",
       "      <td>8.496794</td>\n",
       "    </tr>\n",
       "    <tr>\n",
       "      <th>199997</th>\n",
       "      <td>499991</td>\n",
       "      <td>8.557329</td>\n",
       "    </tr>\n",
       "    <tr>\n",
       "      <th>199998</th>\n",
       "      <td>499994</td>\n",
       "      <td>8.209156</td>\n",
       "    </tr>\n",
       "    <tr>\n",
       "      <th>199999</th>\n",
       "      <td>499995</td>\n",
       "      <td>7.968895</td>\n",
       "    </tr>\n",
       "  </tbody>\n",
       "</table>\n",
       "<p>200000 rows × 2 columns</p>\n",
       "</div>"
      ],
      "text/plain": [
       "            id    target\n",
       "0            0  8.071482\n",
       "1            5  8.408277\n",
       "2           15  8.427138\n",
       "3           16  8.497139\n",
       "4           17  8.109150\n",
       "...        ...       ...\n",
       "199995  499987  7.994358\n",
       "199996  499990  8.496794\n",
       "199997  499991  8.557329\n",
       "199998  499994  8.209156\n",
       "199999  499995  7.968895\n",
       "\n",
       "[200000 rows x 2 columns]"
      ]
     },
     "execution_count": 68,
     "metadata": {},
     "output_type": "execute_result"
    }
   ],
   "source": [
    "# Sets target columns with predictions\n",
    "submission[\"target\"] = np.mean(np.column_stack(test_predictions),axis=1)\n",
    "\n",
    "# Checks for sumbission file before saving\n",
    "submission"
   ]
  },
  {
   "cell_type": "code",
   "execution_count": 69,
   "metadata": {
    "execution": {
     "iopub.execute_input": "2021-08-31T16:15:38.194833Z",
     "iopub.status.busy": "2021-08-31T16:15:38.194505Z",
     "iopub.status.idle": "2021-08-31T16:15:38.684046Z",
     "shell.execute_reply": "2021-08-31T16:15:38.683036Z",
     "shell.execute_reply.started": "2021-08-31T16:15:38.194803Z"
    }
   },
   "outputs": [],
   "source": [
    "# Saves test predictions\n",
    "submission.to_csv(\"./submission.csv\", index=False)"
   ]
  }
 ],
 "metadata": {
  "kernelspec": {
   "display_name": "Python 3 (ipykernel)",
   "language": "python",
   "name": "python3"
  },
  "language_info": {
   "codemirror_mode": {
    "name": "ipython",
    "version": 3
   },
   "file_extension": ".py",
   "mimetype": "text/x-python",
   "name": "python",
   "nbconvert_exporter": "python",
   "pygments_lexer": "ipython3",
   "version": "3.7.10"
  }
 },
 "nbformat": 4,
 "nbformat_minor": 4
}
