{
 "cells": [
  {
   "cell_type": "markdown",
   "id": "56c2955c-e485-428c-9844-de023b4d8e8e",
   "metadata": {
    "tags": []
   },
   "source": [
    "################################################################################\n",
    "\n",
    "**Author**: _Pradip Kumar Das_\n",
    "\n",
    "**License:** https://github.com/PradipKumarDas/Competitions/blob/main/LICENSE\n",
    "\n",
    "**Profile & Contact:** [LinkedIn](https://www.linkedin.com/in/daspradipkumar/) | [GitHub](https://github.com/PradipKumarDas) | [Kaggle](https://www.kaggle.com/pradipkumardas) | pradipkumardas@hotmail.com (Email)\n",
    "\n",
    "################################################################################\n",
    "\n",
    "# Shell Solar Power Prediction\n",
    "\n",
    "**October 07, 2021 - November 07, 2021**\n",
    "\n",
    "**https://www.hackerearth.com/challenges/competitive/shell-ai-hackathon-2021/**\n",
    "\n",
    "**_Predicting Cloud Coverage_**\n",
    "\n",
    "**Sections:**\n",
    "- Dependencies\n",
    "- Exploratory Data Analysis (EDA) & Data Preprocessing\n",
    "- Modeling & Evaluation\n",
    "- Submission"
   ]
  },
  {
   "cell_type": "markdown",
   "id": "3450028c-1b04-4a37-ab53-330a6fadbe59",
   "metadata": {},
   "source": [
    "## Dependencies"
   ]
  },
  {
   "cell_type": "code",
   "execution_count": 1,
   "id": "2d6ceb43-30eb-4de3-bcd0-57202b3daae0",
   "metadata": {
    "tags": []
   },
   "outputs": [],
   "source": [
    "import numpy as np\n",
    "import pandas as pd\n",
    "\n",
    "from sklearn.preprocessing import StandardScaler\n",
    "\n",
    "import tensorflow as tf\n",
    "from tensorflow import keras\n",
    "from tensorflow.keras import Model, Input\n",
    "from tensorflow.keras.models import Sequential\n",
    "from tensorflow.keras import layers\n",
    "\n",
    "from tensorflow.keras.callbacks import EarlyStopping, ModelCheckpoint, TensorBoard\n",
    "\n",
    "import os\n",
    "import datetime\n",
    "\n",
    "import matplotlib.pyplot as plt\n",
    "import seaborn as sns"
   ]
  },
  {
   "cell_type": "markdown",
   "id": "75cb9a61-4fdb-441b-9438-9baa6f0c29cc",
   "metadata": {},
   "source": [
    "## Exploratory Data Analysis (EDA) & Dat Preparation"
   ]
  },
  {
   "cell_type": "code",
   "execution_count": 2,
   "id": "89eb3271-31f9-4865-b762-5909b895c6cc",
   "metadata": {
    "tags": []
   },
   "outputs": [],
   "source": [
    "# Configures plot styles\n",
    "\n",
    "plt.style.use(\"seaborn-whitegrid\")\n",
    "plt.rc(\n",
    "    \"figure\",\n",
    "    autolayout=True,\n",
    "    figsize=(11, 4),\n",
    "    titlesize=18,\n",
    "    titleweight='bold',\n",
    ")\n",
    "plt.rc(\n",
    "    \"axes\",\n",
    "    labelweight=\"bold\",\n",
    "    labelsize=\"large\",\n",
    "    titleweight=\"bold\",\n",
    "    titlesize=16,\n",
    "    titlepad=10,\n",
    ")\n",
    "%config InlineBackend.figure_format = 'retina'"
   ]
  },
  {
   "cell_type": "code",
   "execution_count": 3,
   "id": "c4cee41e-4e5d-4f95-bedc-6f8ddebc5be4",
   "metadata": {
    "tags": []
   },
   "outputs": [],
   "source": [
    "# Loads train dataset\n",
    "train = pd.read_csv(\"./dataset/train/train.csv\", parse_dates={'Datetime': [0,1]})"
   ]
  },
  {
   "cell_type": "code",
   "execution_count": 4,
   "id": "cf49e75b-df58-4f86-ab4d-315d95bc77b6",
   "metadata": {
    "tags": []
   },
   "outputs": [
    {
     "data": {
      "text/html": [
       "<div>\n",
       "<style scoped>\n",
       "    .dataframe tbody tr th:only-of-type {\n",
       "        vertical-align: middle;\n",
       "    }\n",
       "\n",
       "    .dataframe tbody tr th {\n",
       "        vertical-align: top;\n",
       "    }\n",
       "\n",
       "    .dataframe thead th {\n",
       "        text-align: right;\n",
       "    }\n",
       "</style>\n",
       "<table border=\"1\" class=\"dataframe\">\n",
       "  <thead>\n",
       "    <tr style=\"text-align: right;\">\n",
       "      <th></th>\n",
       "      <th>Datetime</th>\n",
       "      <th>Global CMP22 (vent/cor) [W/m^2]</th>\n",
       "      <th>Direct sNIP [W/m^2]</th>\n",
       "      <th>Azimuth Angle [degrees]</th>\n",
       "      <th>Tower Dry Bulb Temp [deg C]</th>\n",
       "      <th>Tower Wet Bulb Temp [deg C]</th>\n",
       "      <th>Tower Dew Point Temp [deg C]</th>\n",
       "      <th>Tower RH [%]</th>\n",
       "      <th>Total Cloud Cover [%]</th>\n",
       "      <th>Peak Wind Speed @ 6ft [m/s]</th>\n",
       "      <th>Avg Wind Direction @ 6ft [deg from N]</th>\n",
       "      <th>Station Pressure [mBar]</th>\n",
       "      <th>Precipitation (Accumulated) [mm]</th>\n",
       "      <th>Snow Depth [cm]</th>\n",
       "      <th>Moisture</th>\n",
       "      <th>Albedo (CMP11)</th>\n",
       "    </tr>\n",
       "  </thead>\n",
       "  <tbody>\n",
       "    <tr>\n",
       "      <th>0</th>\n",
       "      <td>1/1 00:00</td>\n",
       "      <td>-0.962276</td>\n",
       "      <td>0.000000</td>\n",
       "      <td>356.85640</td>\n",
       "      <td>7.216</td>\n",
       "      <td>0.988</td>\n",
       "      <td>-7.312</td>\n",
       "      <td>32.33</td>\n",
       "      <td>-1</td>\n",
       "      <td>9.95</td>\n",
       "      <td>271.3</td>\n",
       "      <td>806.779</td>\n",
       "      <td>0.0</td>\n",
       "      <td>0.219</td>\n",
       "      <td>0.0</td>\n",
       "      <td>0.0</td>\n",
       "    </tr>\n",
       "    <tr>\n",
       "      <th>1</th>\n",
       "      <td>1/1 00:01</td>\n",
       "      <td>-0.937921</td>\n",
       "      <td>0.000000</td>\n",
       "      <td>357.65505</td>\n",
       "      <td>7.251</td>\n",
       "      <td>1.040</td>\n",
       "      <td>-7.260</td>\n",
       "      <td>32.40</td>\n",
       "      <td>-1</td>\n",
       "      <td>8.20</td>\n",
       "      <td>272.9</td>\n",
       "      <td>806.840</td>\n",
       "      <td>0.0</td>\n",
       "      <td>0.206</td>\n",
       "      <td>0.0</td>\n",
       "      <td>0.0</td>\n",
       "    </tr>\n",
       "    <tr>\n",
       "      <th>2</th>\n",
       "      <td>1/1 00:02</td>\n",
       "      <td>-0.944395</td>\n",
       "      <td>0.000000</td>\n",
       "      <td>358.45438</td>\n",
       "      <td>7.256</td>\n",
       "      <td>1.093</td>\n",
       "      <td>-7.207</td>\n",
       "      <td>32.54</td>\n",
       "      <td>-1</td>\n",
       "      <td>6.70</td>\n",
       "      <td>288.8</td>\n",
       "      <td>806.876</td>\n",
       "      <td>0.0</td>\n",
       "      <td>0.148</td>\n",
       "      <td>0.0</td>\n",
       "      <td>0.0</td>\n",
       "    </tr>\n",
       "    <tr>\n",
       "      <th>3</th>\n",
       "      <td>1/1 00:03</td>\n",
       "      <td>-0.951350</td>\n",
       "      <td>-0.029673</td>\n",
       "      <td>359.25416</td>\n",
       "      <td>7.254</td>\n",
       "      <td>1.060</td>\n",
       "      <td>-7.440</td>\n",
       "      <td>31.89</td>\n",
       "      <td>-1</td>\n",
       "      <td>7.70</td>\n",
       "      <td>294.0</td>\n",
       "      <td>806.823</td>\n",
       "      <td>0.0</td>\n",
       "      <td>0.235</td>\n",
       "      <td>0.0</td>\n",
       "      <td>0.0</td>\n",
       "    </tr>\n",
       "    <tr>\n",
       "      <th>4</th>\n",
       "      <td>1/1 00:04</td>\n",
       "      <td>-0.934976</td>\n",
       "      <td>-0.054401</td>\n",
       "      <td>0.05415</td>\n",
       "      <td>7.331</td>\n",
       "      <td>1.081</td>\n",
       "      <td>-7.419</td>\n",
       "      <td>31.78</td>\n",
       "      <td>-1</td>\n",
       "      <td>7.20</td>\n",
       "      <td>285.5</td>\n",
       "      <td>806.762</td>\n",
       "      <td>0.0</td>\n",
       "      <td>0.182</td>\n",
       "      <td>0.0</td>\n",
       "      <td>0.0</td>\n",
       "    </tr>\n",
       "    <tr>\n",
       "      <th>...</th>\n",
       "      <td>...</td>\n",
       "      <td>...</td>\n",
       "      <td>...</td>\n",
       "      <td>...</td>\n",
       "      <td>...</td>\n",
       "      <td>...</td>\n",
       "      <td>...</td>\n",
       "      <td>...</td>\n",
       "      <td>...</td>\n",
       "      <td>...</td>\n",
       "      <td>...</td>\n",
       "      <td>...</td>\n",
       "      <td>...</td>\n",
       "      <td>...</td>\n",
       "      <td>...</td>\n",
       "      <td>...</td>\n",
       "    </tr>\n",
       "    <tr>\n",
       "      <th>527035</th>\n",
       "      <td>12/31 23:55</td>\n",
       "      <td>-1.360910</td>\n",
       "      <td>-0.340704</td>\n",
       "      <td>352.62902</td>\n",
       "      <td>-0.469</td>\n",
       "      <td>-3.940</td>\n",
       "      <td>-10.140</td>\n",
       "      <td>43.61</td>\n",
       "      <td>-1</td>\n",
       "      <td>0.00</td>\n",
       "      <td>0.0</td>\n",
       "      <td>816.186</td>\n",
       "      <td>0.0</td>\n",
       "      <td>2.899</td>\n",
       "      <td>0.0</td>\n",
       "      <td>0.0</td>\n",
       "    </tr>\n",
       "    <tr>\n",
       "      <th>527036</th>\n",
       "      <td>12/31 23:56</td>\n",
       "      <td>-1.342520</td>\n",
       "      <td>-0.325891</td>\n",
       "      <td>353.41779</td>\n",
       "      <td>-0.499</td>\n",
       "      <td>-3.927</td>\n",
       "      <td>-10.127</td>\n",
       "      <td>43.77</td>\n",
       "      <td>-1</td>\n",
       "      <td>0.00</td>\n",
       "      <td>0.0</td>\n",
       "      <td>816.185</td>\n",
       "      <td>0.0</td>\n",
       "      <td>2.866</td>\n",
       "      <td>0.0</td>\n",
       "      <td>0.0</td>\n",
       "    </tr>\n",
       "    <tr>\n",
       "      <th>527037</th>\n",
       "      <td>12/31 23:57</td>\n",
       "      <td>-1.341260</td>\n",
       "      <td>-0.320952</td>\n",
       "      <td>354.20842</td>\n",
       "      <td>-0.522</td>\n",
       "      <td>-3.958</td>\n",
       "      <td>-10.158</td>\n",
       "      <td>43.73</td>\n",
       "      <td>-1</td>\n",
       "      <td>0.00</td>\n",
       "      <td>0.0</td>\n",
       "      <td>816.198</td>\n",
       "      <td>0.0</td>\n",
       "      <td>2.882</td>\n",
       "      <td>0.0</td>\n",
       "      <td>0.0</td>\n",
       "    </tr>\n",
       "    <tr>\n",
       "      <th>527038</th>\n",
       "      <td>12/31 23:58</td>\n",
       "      <td>-1.334130</td>\n",
       "      <td>-0.320953</td>\n",
       "      <td>355.00071</td>\n",
       "      <td>-0.558</td>\n",
       "      <td>-3.979</td>\n",
       "      <td>-10.079</td>\n",
       "      <td>44.17</td>\n",
       "      <td>-1</td>\n",
       "      <td>0.00</td>\n",
       "      <td>0.0</td>\n",
       "      <td>816.194</td>\n",
       "      <td>0.0</td>\n",
       "      <td>2.805</td>\n",
       "      <td>0.0</td>\n",
       "      <td>0.0</td>\n",
       "    </tr>\n",
       "    <tr>\n",
       "      <th>527039</th>\n",
       "      <td>12/31 23:59</td>\n",
       "      <td>-1.349430</td>\n",
       "      <td>-0.301202</td>\n",
       "      <td>355.79443</td>\n",
       "      <td>-0.622</td>\n",
       "      <td>-3.973</td>\n",
       "      <td>-10.073</td>\n",
       "      <td>44.43</td>\n",
       "      <td>-1</td>\n",
       "      <td>0.00</td>\n",
       "      <td>0.0</td>\n",
       "      <td>816.180</td>\n",
       "      <td>0.0</td>\n",
       "      <td>2.855</td>\n",
       "      <td>0.0</td>\n",
       "      <td>0.0</td>\n",
       "    </tr>\n",
       "  </tbody>\n",
       "</table>\n",
       "<p>527040 rows × 16 columns</p>\n",
       "</div>"
      ],
      "text/plain": [
       "           Datetime  Global CMP22 (vent/cor) [W/m^2]  Direct sNIP [W/m^2]  \\\n",
       "0         1/1 00:00                        -0.962276             0.000000   \n",
       "1         1/1 00:01                        -0.937921             0.000000   \n",
       "2         1/1 00:02                        -0.944395             0.000000   \n",
       "3         1/1 00:03                        -0.951350            -0.029673   \n",
       "4         1/1 00:04                        -0.934976            -0.054401   \n",
       "...             ...                              ...                  ...   \n",
       "527035  12/31 23:55                        -1.360910            -0.340704   \n",
       "527036  12/31 23:56                        -1.342520            -0.325891   \n",
       "527037  12/31 23:57                        -1.341260            -0.320952   \n",
       "527038  12/31 23:58                        -1.334130            -0.320953   \n",
       "527039  12/31 23:59                        -1.349430            -0.301202   \n",
       "\n",
       "        Azimuth Angle [degrees]  Tower Dry Bulb Temp [deg C]  \\\n",
       "0                     356.85640                        7.216   \n",
       "1                     357.65505                        7.251   \n",
       "2                     358.45438                        7.256   \n",
       "3                     359.25416                        7.254   \n",
       "4                       0.05415                        7.331   \n",
       "...                         ...                          ...   \n",
       "527035                352.62902                       -0.469   \n",
       "527036                353.41779                       -0.499   \n",
       "527037                354.20842                       -0.522   \n",
       "527038                355.00071                       -0.558   \n",
       "527039                355.79443                       -0.622   \n",
       "\n",
       "        Tower Wet Bulb Temp [deg C]  Tower Dew Point Temp [deg C]  \\\n",
       "0                             0.988                        -7.312   \n",
       "1                             1.040                        -7.260   \n",
       "2                             1.093                        -7.207   \n",
       "3                             1.060                        -7.440   \n",
       "4                             1.081                        -7.419   \n",
       "...                             ...                           ...   \n",
       "527035                       -3.940                       -10.140   \n",
       "527036                       -3.927                       -10.127   \n",
       "527037                       -3.958                       -10.158   \n",
       "527038                       -3.979                       -10.079   \n",
       "527039                       -3.973                       -10.073   \n",
       "\n",
       "        Tower RH [%]  Total Cloud Cover [%]  Peak Wind Speed @ 6ft [m/s]  \\\n",
       "0              32.33                     -1                         9.95   \n",
       "1              32.40                     -1                         8.20   \n",
       "2              32.54                     -1                         6.70   \n",
       "3              31.89                     -1                         7.70   \n",
       "4              31.78                     -1                         7.20   \n",
       "...              ...                    ...                          ...   \n",
       "527035         43.61                     -1                         0.00   \n",
       "527036         43.77                     -1                         0.00   \n",
       "527037         43.73                     -1                         0.00   \n",
       "527038         44.17                     -1                         0.00   \n",
       "527039         44.43                     -1                         0.00   \n",
       "\n",
       "        Avg Wind Direction @ 6ft [deg from N]  Station Pressure [mBar]  \\\n",
       "0                                       271.3                  806.779   \n",
       "1                                       272.9                  806.840   \n",
       "2                                       288.8                  806.876   \n",
       "3                                       294.0                  806.823   \n",
       "4                                       285.5                  806.762   \n",
       "...                                       ...                      ...   \n",
       "527035                                    0.0                  816.186   \n",
       "527036                                    0.0                  816.185   \n",
       "527037                                    0.0                  816.198   \n",
       "527038                                    0.0                  816.194   \n",
       "527039                                    0.0                  816.180   \n",
       "\n",
       "        Precipitation (Accumulated) [mm]  Snow Depth [cm]  Moisture  \\\n",
       "0                                    0.0            0.219       0.0   \n",
       "1                                    0.0            0.206       0.0   \n",
       "2                                    0.0            0.148       0.0   \n",
       "3                                    0.0            0.235       0.0   \n",
       "4                                    0.0            0.182       0.0   \n",
       "...                                  ...              ...       ...   \n",
       "527035                               0.0            2.899       0.0   \n",
       "527036                               0.0            2.866       0.0   \n",
       "527037                               0.0            2.882       0.0   \n",
       "527038                               0.0            2.805       0.0   \n",
       "527039                               0.0            2.855       0.0   \n",
       "\n",
       "        Albedo (CMP11)  \n",
       "0                  0.0  \n",
       "1                  0.0  \n",
       "2                  0.0  \n",
       "3                  0.0  \n",
       "4                  0.0  \n",
       "...                ...  \n",
       "527035             0.0  \n",
       "527036             0.0  \n",
       "527037             0.0  \n",
       "527038             0.0  \n",
       "527039             0.0  \n",
       "\n",
       "[527040 rows x 16 columns]"
      ]
     },
     "execution_count": 4,
     "metadata": {},
     "output_type": "execute_result"
    }
   ],
   "source": [
    "# Views few rows of train dataset\n",
    "train"
   ]
  },
  {
   "cell_type": "code",
   "execution_count": 5,
   "id": "4199a46f-5e1b-4374-aaba-9353a2490455",
   "metadata": {
    "tags": []
   },
   "outputs": [
    {
     "data": {
      "text/plain": [
       "True"
      ]
     },
     "execution_count": 5,
     "metadata": {},
     "output_type": "execute_result"
    }
   ],
   "source": [
    "# Checks if the month has 29 days in February\n",
    "train[\"Datetime\"].str.startswith(\"2/29\").any()"
   ]
  },
  {
   "cell_type": "code",
   "execution_count": 6,
   "id": "adca7da5-0f85-456a-bea9-ee7456989b15",
   "metadata": {
    "tags": []
   },
   "outputs": [],
   "source": [
    "# Finding 29th days in February, assigns last leap year as time of the dataset\n",
    "train[\"Datetime\"] = \"2020/\" + train[\"Datetime\"]\n",
    "\n",
    "# Set column Datetime with appropriate format\n",
    "train[\"Datetime\"] = pd.to_datetime(train[\"Datetime\"], infer_datetime_format=True)\n",
    "\n",
    "# Sets column Datetime as index of the dataset\n",
    "train.set_index([\"Datetime\"], drop=True, inplace=True)\n",
    "\n",
    "# Sets dataset as periodic\n",
    "train = train.to_period()"
   ]
  },
  {
   "cell_type": "code",
   "execution_count": 7,
   "id": "86c717c8-c1f0-42a6-bd2c-5b4add34995b",
   "metadata": {
    "tags": []
   },
   "outputs": [
    {
     "data": {
      "text/html": [
       "<div>\n",
       "<style scoped>\n",
       "    .dataframe tbody tr th:only-of-type {\n",
       "        vertical-align: middle;\n",
       "    }\n",
       "\n",
       "    .dataframe tbody tr th {\n",
       "        vertical-align: top;\n",
       "    }\n",
       "\n",
       "    .dataframe thead th {\n",
       "        text-align: right;\n",
       "    }\n",
       "</style>\n",
       "<table border=\"1\" class=\"dataframe\">\n",
       "  <thead>\n",
       "    <tr style=\"text-align: right;\">\n",
       "      <th></th>\n",
       "      <th>Global CMP22 (vent/cor) [W/m^2]</th>\n",
       "      <th>Direct sNIP [W/m^2]</th>\n",
       "      <th>Azimuth Angle [degrees]</th>\n",
       "      <th>Tower Dry Bulb Temp [deg C]</th>\n",
       "      <th>Tower Wet Bulb Temp [deg C]</th>\n",
       "      <th>Tower Dew Point Temp [deg C]</th>\n",
       "      <th>Tower RH [%]</th>\n",
       "      <th>Total Cloud Cover [%]</th>\n",
       "      <th>Peak Wind Speed @ 6ft [m/s]</th>\n",
       "      <th>Avg Wind Direction @ 6ft [deg from N]</th>\n",
       "      <th>Station Pressure [mBar]</th>\n",
       "      <th>Precipitation (Accumulated) [mm]</th>\n",
       "      <th>Snow Depth [cm]</th>\n",
       "      <th>Moisture</th>\n",
       "      <th>Albedo (CMP11)</th>\n",
       "    </tr>\n",
       "  </thead>\n",
       "  <tbody>\n",
       "    <tr>\n",
       "      <th>count</th>\n",
       "      <td>527040.000000</td>\n",
       "      <td>527040.000000</td>\n",
       "      <td>527040.000000</td>\n",
       "      <td>527040.000000</td>\n",
       "      <td>527040.000000</td>\n",
       "      <td>527040.000000</td>\n",
       "      <td>527040.000000</td>\n",
       "      <td>527040.000000</td>\n",
       "      <td>527040.000000</td>\n",
       "      <td>527040.000000</td>\n",
       "      <td>527040.000000</td>\n",
       "      <td>527040.000000</td>\n",
       "      <td>527040.000000</td>\n",
       "      <td>527040.000000</td>\n",
       "      <td>527040.000000</td>\n",
       "    </tr>\n",
       "    <tr>\n",
       "      <th>mean</th>\n",
       "      <td>196.971081</td>\n",
       "      <td>237.119295</td>\n",
       "      <td>180.000016</td>\n",
       "      <td>11.829286</td>\n",
       "      <td>4.610521</td>\n",
       "      <td>-3.115536</td>\n",
       "      <td>40.664133</td>\n",
       "      <td>-0.592061</td>\n",
       "      <td>2.855863</td>\n",
       "      <td>168.420883</td>\n",
       "      <td>816.876516</td>\n",
       "      <td>0.370496</td>\n",
       "      <td>-3.301760</td>\n",
       "      <td>0.064295</td>\n",
       "      <td>0.131975</td>\n",
       "    </tr>\n",
       "    <tr>\n",
       "      <th>std</th>\n",
       "      <td>290.616298</td>\n",
       "      <td>367.803389</td>\n",
       "      <td>100.772041</td>\n",
       "      <td>10.703063</td>\n",
       "      <td>6.965858</td>\n",
       "      <td>7.339865</td>\n",
       "      <td>24.196340</td>\n",
       "      <td>432.780701</td>\n",
       "      <td>2.081439</td>\n",
       "      <td>116.719968</td>\n",
       "      <td>5.114894</td>\n",
       "      <td>1.871185</td>\n",
       "      <td>199.263767</td>\n",
       "      <td>0.242353</td>\n",
       "      <td>0.186085</td>\n",
       "    </tr>\n",
       "    <tr>\n",
       "      <th>min</th>\n",
       "      <td>-4.764200</td>\n",
       "      <td>-12.403300</td>\n",
       "      <td>0.000120</td>\n",
       "      <td>-16.690000</td>\n",
       "      <td>-17.351000</td>\n",
       "      <td>-24.830000</td>\n",
       "      <td>4.210000</td>\n",
       "      <td>-7999.000000</td>\n",
       "      <td>0.000000</td>\n",
       "      <td>0.000000</td>\n",
       "      <td>794.918000</td>\n",
       "      <td>0.000000</td>\n",
       "      <td>-7999.000000</td>\n",
       "      <td>0.000000</td>\n",
       "      <td>0.000000</td>\n",
       "    </tr>\n",
       "    <tr>\n",
       "      <th>25%</th>\n",
       "      <td>-1.106560</td>\n",
       "      <td>-0.197818</td>\n",
       "      <td>89.724415</td>\n",
       "      <td>3.222000</td>\n",
       "      <td>-0.877000</td>\n",
       "      <td>-8.653000</td>\n",
       "      <td>22.300000</td>\n",
       "      <td>-1.000000</td>\n",
       "      <td>1.450000</td>\n",
       "      <td>43.280000</td>\n",
       "      <td>813.736000</td>\n",
       "      <td>0.000000</td>\n",
       "      <td>0.102000</td>\n",
       "      <td>0.000000</td>\n",
       "      <td>0.000000</td>\n",
       "    </tr>\n",
       "    <tr>\n",
       "      <th>50%</th>\n",
       "      <td>4.909625</td>\n",
       "      <td>0.256763</td>\n",
       "      <td>179.991490</td>\n",
       "      <td>11.910000</td>\n",
       "      <td>4.727000</td>\n",
       "      <td>-3.643000</td>\n",
       "      <td>33.790000</td>\n",
       "      <td>-1.000000</td>\n",
       "      <td>2.450000</td>\n",
       "      <td>181.200000</td>\n",
       "      <td>817.305000</td>\n",
       "      <td>0.000000</td>\n",
       "      <td>0.643000</td>\n",
       "      <td>0.000000</td>\n",
       "      <td>0.000000</td>\n",
       "    </tr>\n",
       "    <tr>\n",
       "      <th>75%</th>\n",
       "      <td>335.747500</td>\n",
       "      <td>518.209250</td>\n",
       "      <td>270.267272</td>\n",
       "      <td>20.350000</td>\n",
       "      <td>10.788000</td>\n",
       "      <td>2.208000</td>\n",
       "      <td>53.530000</td>\n",
       "      <td>35.000000</td>\n",
       "      <td>3.700000</td>\n",
       "      <td>282.200000</td>\n",
       "      <td>820.278250</td>\n",
       "      <td>0.000000</td>\n",
       "      <td>1.043000</td>\n",
       "      <td>0.000000</td>\n",
       "      <td>0.203600</td>\n",
       "    </tr>\n",
       "    <tr>\n",
       "      <th>max</th>\n",
       "      <td>1428.650000</td>\n",
       "      <td>1069.200000</td>\n",
       "      <td>359.998560</td>\n",
       "      <td>36.320000</td>\n",
       "      <td>19.416000</td>\n",
       "      <td>17.418000</td>\n",
       "      <td>100.100000</td>\n",
       "      <td>100.000000</td>\n",
       "      <td>24.200000</td>\n",
       "      <td>360.000000</td>\n",
       "      <td>847.963000</td>\n",
       "      <td>28.190000</td>\n",
       "      <td>28.430000</td>\n",
       "      <td>1.000000</td>\n",
       "      <td>2.000000</td>\n",
       "    </tr>\n",
       "  </tbody>\n",
       "</table>\n",
       "</div>"
      ],
      "text/plain": [
       "       Global CMP22 (vent/cor) [W/m^2]  Direct sNIP [W/m^2]  \\\n",
       "count                    527040.000000        527040.000000   \n",
       "mean                        196.971081           237.119295   \n",
       "std                         290.616298           367.803389   \n",
       "min                          -4.764200           -12.403300   \n",
       "25%                          -1.106560            -0.197818   \n",
       "50%                           4.909625             0.256763   \n",
       "75%                         335.747500           518.209250   \n",
       "max                        1428.650000          1069.200000   \n",
       "\n",
       "       Azimuth Angle [degrees]  Tower Dry Bulb Temp [deg C]  \\\n",
       "count            527040.000000                527040.000000   \n",
       "mean                180.000016                    11.829286   \n",
       "std                 100.772041                    10.703063   \n",
       "min                   0.000120                   -16.690000   \n",
       "25%                  89.724415                     3.222000   \n",
       "50%                 179.991490                    11.910000   \n",
       "75%                 270.267272                    20.350000   \n",
       "max                 359.998560                    36.320000   \n",
       "\n",
       "       Tower Wet Bulb Temp [deg C]  Tower Dew Point Temp [deg C]  \\\n",
       "count                527040.000000                 527040.000000   \n",
       "mean                      4.610521                     -3.115536   \n",
       "std                       6.965858                      7.339865   \n",
       "min                     -17.351000                    -24.830000   \n",
       "25%                      -0.877000                     -8.653000   \n",
       "50%                       4.727000                     -3.643000   \n",
       "75%                      10.788000                      2.208000   \n",
       "max                      19.416000                     17.418000   \n",
       "\n",
       "        Tower RH [%]  Total Cloud Cover [%]  Peak Wind Speed @ 6ft [m/s]  \\\n",
       "count  527040.000000          527040.000000                527040.000000   \n",
       "mean       40.664133              -0.592061                     2.855863   \n",
       "std        24.196340             432.780701                     2.081439   \n",
       "min         4.210000           -7999.000000                     0.000000   \n",
       "25%        22.300000              -1.000000                     1.450000   \n",
       "50%        33.790000              -1.000000                     2.450000   \n",
       "75%        53.530000              35.000000                     3.700000   \n",
       "max       100.100000             100.000000                    24.200000   \n",
       "\n",
       "       Avg Wind Direction @ 6ft [deg from N]  Station Pressure [mBar]  \\\n",
       "count                          527040.000000            527040.000000   \n",
       "mean                              168.420883               816.876516   \n",
       "std                               116.719968                 5.114894   \n",
       "min                                 0.000000               794.918000   \n",
       "25%                                43.280000               813.736000   \n",
       "50%                               181.200000               817.305000   \n",
       "75%                               282.200000               820.278250   \n",
       "max                               360.000000               847.963000   \n",
       "\n",
       "       Precipitation (Accumulated) [mm]  Snow Depth [cm]       Moisture  \\\n",
       "count                     527040.000000    527040.000000  527040.000000   \n",
       "mean                           0.370496        -3.301760       0.064295   \n",
       "std                            1.871185       199.263767       0.242353   \n",
       "min                            0.000000     -7999.000000       0.000000   \n",
       "25%                            0.000000         0.102000       0.000000   \n",
       "50%                            0.000000         0.643000       0.000000   \n",
       "75%                            0.000000         1.043000       0.000000   \n",
       "max                           28.190000        28.430000       1.000000   \n",
       "\n",
       "       Albedo (CMP11)  \n",
       "count   527040.000000  \n",
       "mean         0.131975  \n",
       "std          0.186085  \n",
       "min          0.000000  \n",
       "25%          0.000000  \n",
       "50%          0.000000  \n",
       "75%          0.203600  \n",
       "max          2.000000  "
      ]
     },
     "execution_count": 7,
     "metadata": {},
     "output_type": "execute_result"
    }
   ],
   "source": [
    "# Now, checks the basic statistics of the train dataset\n",
    "train.describe()"
   ]
  },
  {
   "cell_type": "code",
   "execution_count": 8,
   "id": "69b2c67c-a943-4076-89e5-b10b8c08abfa",
   "metadata": {
    "tags": []
   },
   "outputs": [
    {
     "data": {
      "text/plain": [
       "-1       274780\n",
       "-7999      1527\n",
       "-6999         2\n",
       "Name: Total Cloud Cover [%], dtype: int64"
      ]
     },
     "execution_count": 8,
     "metadata": {},
     "output_type": "execute_result"
    }
   ],
   "source": [
    "# Noticing large negative values, checks for distribution of these different values\n",
    "train[train[\"Total Cloud Cover [%]\"] < 0][\"Total Cloud Cover [%]\"].value_counts()"
   ]
  },
  {
   "cell_type": "code",
   "execution_count": 9,
   "id": "888f99c3-2755-4a03-90f5-0274112105e0",
   "metadata": {
    "tags": []
   },
   "outputs": [
    {
     "data": {
      "text/plain": [
       "<AxesSubplot:xlabel='Datetime'>"
      ]
     },
     "execution_count": 9,
     "metadata": {},
     "output_type": "execute_result"
    },
    {
     "data": {
      "image/png": "[encoded data removed]",
      "text/plain": [
       "<Figure size 792x288 with 1 Axes>"
      ]
     },
     "metadata": {
      "image/png": {
       "height": 280,
       "width": 784
      }
     },
     "output_type": "display_data"
    }
   ],
   "source": [
    "# Plots count of large negative numbers day wise\n",
    "train[train[\"Total Cloud Cover [%]\"] < -1].resample(\"D\")[\"Total Cloud Cover [%]\"].count().plot()"
   ]
  },
  {
   "cell_type": "code",
   "execution_count": 10,
   "id": "b4ded800-94a4-44d5-a2d1-c3cab2c3de2f",
   "metadata": {
    "tags": []
   },
   "outputs": [],
   "source": [
    "# Replaces large negative values with missing values, and interpolates linearly\n",
    "for resample in train.resample(\"D\")[\"Total Cloud Cover [%]\"]:\n",
    "    observed_cloud_coverage = resample[1][resample[1] != -1]\n",
    "    observed_cloud_coverage[observed_cloud_coverage < 0] = np.nan\n",
    "    observed_cloud_coverage.interpolate(method=\"linear\", inplace=True)\n",
    "    train[\"Total Cloud Cover [%]\"].update(observed_cloud_coverage)"
   ]
  },
  {
   "cell_type": "code",
   "execution_count": 11,
   "id": "8b46996e-0653-4453-8974-46b99f8616c1",
   "metadata": {
    "tags": []
   },
   "outputs": [
    {
     "data": {
      "text/plain": [
       "count    527040.000000\n",
       "mean         22.762201\n",
       "std          34.999395\n",
       "min          -1.000000\n",
       "25%          -1.000000\n",
       "50%          -1.000000\n",
       "75%          36.000000\n",
       "max         100.000000\n",
       "Name: Total Cloud Cover [%], dtype: float64"
      ]
     },
     "execution_count": 11,
     "metadata": {},
     "output_type": "execute_result"
    }
   ],
   "source": [
    "# Checks the statistics of the newly interpolated column\n",
    "train[\"Total Cloud Cover [%]\"].describe()"
   ]
  },
  {
   "cell_type": "code",
   "execution_count": 12,
   "id": "02f42679-6350-4daf-a5a3-6b13438d8c96",
   "metadata": {
    "tags": []
   },
   "outputs": [
    {
     "data": {
      "text/plain": [
       "count    527040.000000\n",
       "mean         -3.301760\n",
       "std         199.263767\n",
       "min       -7999.000000\n",
       "25%           0.102000\n",
       "50%           0.643000\n",
       "75%           1.043000\n",
       "max          28.430000\n",
       "Name: Snow Depth [cm], dtype: float64"
      ]
     },
     "execution_count": 12,
     "metadata": {},
     "output_type": "execute_result"
    }
   ],
   "source": [
    "# Upon finding large native values for another column for snow depth, too, checks for basic statistics of the column\n",
    "train[\"Snow Depth [cm]\"].describe()"
   ]
  },
  {
   "cell_type": "code",
   "execution_count": 13,
   "id": "8b39df52-9430-41e5-bf36-a1cfd392d694",
   "metadata": {
    "tags": []
   },
   "outputs": [
    {
     "data": {
      "text/plain": [
       "<AxesSubplot:xlabel='Datetime'>"
      ]
     },
     "execution_count": 13,
     "metadata": {},
     "output_type": "execute_result"
    },
    {
     "data": {
      "image/png": "[encoded data removed]",
      "text/plain": [
       "<Figure size 792x288 with 1 Axes>"
      ]
     },
     "metadata": {
      "image/png": {
       "height": 280,
       "width": 784
      }
     },
     "output_type": "display_data"
    }
   ],
   "source": [
    "# Plots snow depth when it is negative\n",
    "train[train[\"Snow Depth [cm]\"] < 0][\"Snow Depth [cm]\"].plot()"
   ]
  },
  {
   "cell_type": "code",
   "execution_count": 14,
   "id": "02487de2-d046-4316-ba2b-83a18c810747",
   "metadata": {
    "tags": []
   },
   "outputs": [
    {
     "data": {
      "text/plain": [
       "<AxesSubplot:xlabel='Datetime'>"
      ]
     },
     "execution_count": 14,
     "metadata": {},
     "output_type": "execute_result"
    },
    {
     "data": {
      "image/png": "[encoded data removed]",
      "text/plain": [
       "<Figure size 792x288 with 1 Axes>"
      ]
     },
     "metadata": {
      "image/png": {
       "height": 280,
       "width": 784
      }
     },
     "output_type": "display_data"
    }
   ],
   "source": [
    "# Plots snow depth distribution when it is more than -100\n",
    "train[train[\"Snow Depth [cm]\"] > -100][\"Snow Depth [cm]\"].plot()"
   ]
  },
  {
   "cell_type": "code",
   "execution_count": 15,
   "id": "a792bb81-882c-45f7-9b41-a975a305f400",
   "metadata": {
    "tags": []
   },
   "outputs": [
    {
     "data": {
      "text/plain": [
       "Snow Depth [cm]\n",
       "(-1000, -950]        0\n",
       "(-950, -900]         0\n",
       "(-900, -850]         0\n",
       "(-850, -800]         0\n",
       "(-800, -750]         0\n",
       "(-750, -700]         0\n",
       "(-700, -650]         1\n",
       "(-650, -600]         0\n",
       "(-600, -550]         0\n",
       "(-550, -500]         0\n",
       "(-500, -450]         0\n",
       "(-450, -400]         0\n",
       "(-400, -350]         1\n",
       "(-350, -300]         0\n",
       "(-300, -250]         0\n",
       "(-250, -200]         1\n",
       "(-200, -150]         0\n",
       "(-150, -100]         0\n",
       "(-100, -50]          0\n",
       "(-50, 0]         99857\n",
       "Name: Snow Depth [cm], dtype: int64"
      ]
     },
     "execution_count": 15,
     "metadata": {},
     "output_type": "execute_result"
    }
   ],
   "source": [
    "# Calculates distribution of negative snow depth \n",
    "train[train[\"Snow Depth [cm]\"] < 0][\"Snow Depth [cm]\"].groupby(\n",
    "    pd.cut(train[train[\"Snow Depth [cm]\"] < 0][\"Snow Depth [cm]\"], list(range(-1000, 50, 50)))).count()"
   ]
  },
  {
   "cell_type": "code",
   "execution_count": 16,
   "id": "f5650941-3931-4519-afb2-f90445e44f05",
   "metadata": {
    "tags": []
   },
   "outputs": [],
   "source": [
    "# Replaces negative snow depth less than -100 with missing value and then interpolates linearly\n",
    "\n",
    "train[\"Snow Depth [cm]\"].loc[train[\"Snow Depth [cm]\"] < -100] = np.nan\n",
    "\n",
    "train[\"Snow Depth [cm]\"].interpolate(method=\"linear\", inplace=True)"
   ]
  },
  {
   "cell_type": "code",
   "execution_count": 17,
   "id": "3f0f2738-ae5f-4bd5-89f6-e503944b0c39",
   "metadata": {
    "tags": []
   },
   "outputs": [
    {
     "data": {
      "text/plain": [
       "<AxesSubplot:xlabel='Datetime'>"
      ]
     },
     "execution_count": 17,
     "metadata": {},
     "output_type": "execute_result"
    },
    {
     "data": {
      "image/png": "[encoded data removed]",
      "text/plain": [
       "<Figure size 792x288 with 1 Axes>"
      ]
     },
     "metadata": {
      "image/png": {
       "height": 280,
       "width": 784
      }
     },
     "output_type": "display_data"
    }
   ],
   "source": [
    "# Re=plots to ensure interpolates did not affect major distribution for snow depth of values of acceptable range\n",
    "train[\"Snow Depth [cm]\"].plot()"
   ]
  },
  {
   "cell_type": "code",
   "execution_count": 18,
   "id": "d3700eb9-13c1-4df6-af97-29370e22e410",
   "metadata": {
    "tags": []
   },
   "outputs": [
    {
     "data": {
      "text/html": [
       "<div>\n",
       "<style scoped>\n",
       "    .dataframe tbody tr th:only-of-type {\n",
       "        vertical-align: middle;\n",
       "    }\n",
       "\n",
       "    .dataframe tbody tr th {\n",
       "        vertical-align: top;\n",
       "    }\n",
       "\n",
       "    .dataframe thead th {\n",
       "        text-align: right;\n",
       "    }\n",
       "</style>\n",
       "<table border=\"1\" class=\"dataframe\">\n",
       "  <thead>\n",
       "    <tr style=\"text-align: right;\">\n",
       "      <th></th>\n",
       "      <th>Global CMP22 (vent/cor) [W/m^2]</th>\n",
       "      <th>Direct sNIP [W/m^2]</th>\n",
       "      <th>Azimuth Angle [degrees]</th>\n",
       "      <th>Tower Dry Bulb Temp [deg C]</th>\n",
       "      <th>Tower Wet Bulb Temp [deg C]</th>\n",
       "      <th>Tower Dew Point Temp [deg C]</th>\n",
       "      <th>Tower RH [%]</th>\n",
       "      <th>Total Cloud Cover [%]</th>\n",
       "      <th>Peak Wind Speed @ 6ft [m/s]</th>\n",
       "      <th>Avg Wind Direction @ 6ft [deg from N]</th>\n",
       "      <th>Station Pressure [mBar]</th>\n",
       "      <th>Precipitation (Accumulated) [mm]</th>\n",
       "      <th>Snow Depth [cm]</th>\n",
       "      <th>Moisture</th>\n",
       "      <th>Albedo (CMP11)</th>\n",
       "    </tr>\n",
       "  </thead>\n",
       "  <tbody>\n",
       "    <tr>\n",
       "      <th>count</th>\n",
       "      <td>527040.000000</td>\n",
       "      <td>527040.000000</td>\n",
       "      <td>527040.000000</td>\n",
       "      <td>527040.000000</td>\n",
       "      <td>527040.000000</td>\n",
       "      <td>527040.000000</td>\n",
       "      <td>527040.000000</td>\n",
       "      <td>527040.000000</td>\n",
       "      <td>527040.000000</td>\n",
       "      <td>527040.000000</td>\n",
       "      <td>527040.000000</td>\n",
       "      <td>527040.000000</td>\n",
       "      <td>527040.000000</td>\n",
       "      <td>527040.000000</td>\n",
       "      <td>527040.000000</td>\n",
       "    </tr>\n",
       "    <tr>\n",
       "      <th>mean</th>\n",
       "      <td>196.971081</td>\n",
       "      <td>237.119295</td>\n",
       "      <td>180.000016</td>\n",
       "      <td>11.829286</td>\n",
       "      <td>4.610521</td>\n",
       "      <td>-3.115536</td>\n",
       "      <td>40.664133</td>\n",
       "      <td>22.762201</td>\n",
       "      <td>2.855863</td>\n",
       "      <td>168.420883</td>\n",
       "      <td>816.876516</td>\n",
       "      <td>0.370496</td>\n",
       "      <td>1.665555</td>\n",
       "      <td>0.064295</td>\n",
       "      <td>0.131975</td>\n",
       "    </tr>\n",
       "    <tr>\n",
       "      <th>std</th>\n",
       "      <td>290.616298</td>\n",
       "      <td>367.803389</td>\n",
       "      <td>100.772041</td>\n",
       "      <td>10.703063</td>\n",
       "      <td>6.965858</td>\n",
       "      <td>7.339865</td>\n",
       "      <td>24.196340</td>\n",
       "      <td>34.999395</td>\n",
       "      <td>2.081439</td>\n",
       "      <td>116.719968</td>\n",
       "      <td>5.114894</td>\n",
       "      <td>1.871185</td>\n",
       "      <td>3.781009</td>\n",
       "      <td>0.242353</td>\n",
       "      <td>0.186085</td>\n",
       "    </tr>\n",
       "    <tr>\n",
       "      <th>min</th>\n",
       "      <td>-4.764200</td>\n",
       "      <td>-12.403300</td>\n",
       "      <td>0.000120</td>\n",
       "      <td>-16.690000</td>\n",
       "      <td>-17.351000</td>\n",
       "      <td>-24.830000</td>\n",
       "      <td>4.210000</td>\n",
       "      <td>-1.000000</td>\n",
       "      <td>0.000000</td>\n",
       "      <td>0.000000</td>\n",
       "      <td>794.918000</td>\n",
       "      <td>0.000000</td>\n",
       "      <td>-27.330000</td>\n",
       "      <td>0.000000</td>\n",
       "      <td>0.000000</td>\n",
       "    </tr>\n",
       "    <tr>\n",
       "      <th>25%</th>\n",
       "      <td>-1.106560</td>\n",
       "      <td>-0.197818</td>\n",
       "      <td>89.724415</td>\n",
       "      <td>3.222000</td>\n",
       "      <td>-0.877000</td>\n",
       "      <td>-8.653000</td>\n",
       "      <td>22.300000</td>\n",
       "      <td>-1.000000</td>\n",
       "      <td>1.450000</td>\n",
       "      <td>43.280000</td>\n",
       "      <td>813.736000</td>\n",
       "      <td>0.000000</td>\n",
       "      <td>0.103000</td>\n",
       "      <td>0.000000</td>\n",
       "      <td>0.000000</td>\n",
       "    </tr>\n",
       "    <tr>\n",
       "      <th>50%</th>\n",
       "      <td>4.909625</td>\n",
       "      <td>0.256763</td>\n",
       "      <td>179.991490</td>\n",
       "      <td>11.910000</td>\n",
       "      <td>4.727000</td>\n",
       "      <td>-3.643000</td>\n",
       "      <td>33.790000</td>\n",
       "      <td>-1.000000</td>\n",
       "      <td>2.450000</td>\n",
       "      <td>181.200000</td>\n",
       "      <td>817.305000</td>\n",
       "      <td>0.000000</td>\n",
       "      <td>0.645000</td>\n",
       "      <td>0.000000</td>\n",
       "      <td>0.000000</td>\n",
       "    </tr>\n",
       "    <tr>\n",
       "      <th>75%</th>\n",
       "      <td>335.747500</td>\n",
       "      <td>518.209250</td>\n",
       "      <td>270.267272</td>\n",
       "      <td>20.350000</td>\n",
       "      <td>10.788000</td>\n",
       "      <td>2.208000</td>\n",
       "      <td>53.530000</td>\n",
       "      <td>36.000000</td>\n",
       "      <td>3.700000</td>\n",
       "      <td>282.200000</td>\n",
       "      <td>820.278250</td>\n",
       "      <td>0.000000</td>\n",
       "      <td>1.043000</td>\n",
       "      <td>0.000000</td>\n",
       "      <td>0.203600</td>\n",
       "    </tr>\n",
       "    <tr>\n",
       "      <th>max</th>\n",
       "      <td>1428.650000</td>\n",
       "      <td>1069.200000</td>\n",
       "      <td>359.998560</td>\n",
       "      <td>36.320000</td>\n",
       "      <td>19.416000</td>\n",
       "      <td>17.418000</td>\n",
       "      <td>100.100000</td>\n",
       "      <td>100.000000</td>\n",
       "      <td>24.200000</td>\n",
       "      <td>360.000000</td>\n",
       "      <td>847.963000</td>\n",
       "      <td>28.190000</td>\n",
       "      <td>28.430000</td>\n",
       "      <td>1.000000</td>\n",
       "      <td>2.000000</td>\n",
       "    </tr>\n",
       "  </tbody>\n",
       "</table>\n",
       "</div>"
      ],
      "text/plain": [
       "       Global CMP22 (vent/cor) [W/m^2]  Direct sNIP [W/m^2]  \\\n",
       "count                    527040.000000        527040.000000   \n",
       "mean                        196.971081           237.119295   \n",
       "std                         290.616298           367.803389   \n",
       "min                          -4.764200           -12.403300   \n",
       "25%                          -1.106560            -0.197818   \n",
       "50%                           4.909625             0.256763   \n",
       "75%                         335.747500           518.209250   \n",
       "max                        1428.650000          1069.200000   \n",
       "\n",
       "       Azimuth Angle [degrees]  Tower Dry Bulb Temp [deg C]  \\\n",
       "count            527040.000000                527040.000000   \n",
       "mean                180.000016                    11.829286   \n",
       "std                 100.772041                    10.703063   \n",
       "min                   0.000120                   -16.690000   \n",
       "25%                  89.724415                     3.222000   \n",
       "50%                 179.991490                    11.910000   \n",
       "75%                 270.267272                    20.350000   \n",
       "max                 359.998560                    36.320000   \n",
       "\n",
       "       Tower Wet Bulb Temp [deg C]  Tower Dew Point Temp [deg C]  \\\n",
       "count                527040.000000                 527040.000000   \n",
       "mean                      4.610521                     -3.115536   \n",
       "std                       6.965858                      7.339865   \n",
       "min                     -17.351000                    -24.830000   \n",
       "25%                      -0.877000                     -8.653000   \n",
       "50%                       4.727000                     -3.643000   \n",
       "75%                      10.788000                      2.208000   \n",
       "max                      19.416000                     17.418000   \n",
       "\n",
       "        Tower RH [%]  Total Cloud Cover [%]  Peak Wind Speed @ 6ft [m/s]  \\\n",
       "count  527040.000000          527040.000000                527040.000000   \n",
       "mean       40.664133              22.762201                     2.855863   \n",
       "std        24.196340              34.999395                     2.081439   \n",
       "min         4.210000              -1.000000                     0.000000   \n",
       "25%        22.300000              -1.000000                     1.450000   \n",
       "50%        33.790000              -1.000000                     2.450000   \n",
       "75%        53.530000              36.000000                     3.700000   \n",
       "max       100.100000             100.000000                    24.200000   \n",
       "\n",
       "       Avg Wind Direction @ 6ft [deg from N]  Station Pressure [mBar]  \\\n",
       "count                          527040.000000            527040.000000   \n",
       "mean                              168.420883               816.876516   \n",
       "std                               116.719968                 5.114894   \n",
       "min                                 0.000000               794.918000   \n",
       "25%                                43.280000               813.736000   \n",
       "50%                               181.200000               817.305000   \n",
       "75%                               282.200000               820.278250   \n",
       "max                               360.000000               847.963000   \n",
       "\n",
       "       Precipitation (Accumulated) [mm]  Snow Depth [cm]       Moisture  \\\n",
       "count                     527040.000000    527040.000000  527040.000000   \n",
       "mean                           0.370496         1.665555       0.064295   \n",
       "std                            1.871185         3.781009       0.242353   \n",
       "min                            0.000000       -27.330000       0.000000   \n",
       "25%                            0.000000         0.103000       0.000000   \n",
       "50%                            0.000000         0.645000       0.000000   \n",
       "75%                            0.000000         1.043000       0.000000   \n",
       "max                           28.190000        28.430000       1.000000   \n",
       "\n",
       "       Albedo (CMP11)  \n",
       "count   527040.000000  \n",
       "mean         0.131975  \n",
       "std          0.186085  \n",
       "min          0.000000  \n",
       "25%          0.000000  \n",
       "50%          0.000000  \n",
       "75%          0.203600  \n",
       "max          2.000000  "
      ]
     },
     "execution_count": 18,
     "metadata": {},
     "output_type": "execute_result"
    }
   ],
   "source": [
    "# Checks basic statistics of train dataset post interpolating for columns cloud coverage and snow depth\n",
    "train.describe()"
   ]
  },
  {
   "cell_type": "code",
   "execution_count": 35,
   "id": "45da26f8-d775-4783-8ea9-08a3df653e81",
   "metadata": {},
   "outputs": [],
   "source": [
    "# Inserts an additional feature column: \n",
    "#    value 1 indicates cloud coverage is available, and \n",
    "#    value 0 indicates cloud coverage is not available\n",
    "train.insert(\n",
    "    loc=train.columns.get_loc(\"Total Cloud Cover [%]\"), \n",
    "    column=\"Total Cloud Cover Available\", \n",
    "    value=train[\"Total Cloud Cover [%]\"].apply(lambda coverage:\n",
    "                                    1 if coverage >= 0 else 0))"
   ]
  },
  {
   "cell_type": "code",
   "execution_count": null,
   "id": "bc1dd5de-dff1-4290-976c-5af4b76d5ebb",
   "metadata": {},
   "outputs": [],
   "source": [
    "# Saves the features engineered train dataset\n",
    "train.to_csv(\"./dataset/train/train_interpolated.csv\", index=True)"
   ]
  },
  {
   "cell_type": "code",
   "execution_count": 25,
   "id": "1aaef28e-1282-4468-8235-678fd4fad68d",
   "metadata": {},
   "outputs": [],
   "source": [
    "# Reloads the featured engineered train dataset\n",
    "train = pd.read_csv(\n",
    "    \"./dataset/train/train_interpolated.csv\", \n",
    "    parse_dates=True, \n",
    "    index_col=\"Datetime\", \n",
    "    infer_datetime_format=True).to_period()"
   ]
  },
  {
   "cell_type": "code",
   "execution_count": 26,
   "id": "876edc08-fd44-4d08-9367-b84d848a1051",
   "metadata": {
    "tags": []
   },
   "outputs": [],
   "source": [
    "def flag_val_samples(target_col, validation_ratio=0.2):\n",
    "    # Flags valid samples\n",
    "    \n",
    "    # Parameters:\n",
    "    #    target_col (pandas.core.series.Series): target column containing shifted values according to target horizon\n",
    "    #    validation_ratio (float): validation ratio/spit. The default is 0.2 i.e. 20%\n",
    "    \n",
    "    # Returns:\n",
    "    #    Returns a new series of bool type containing TRUE against valid samples.\n",
    "    \n",
    "    val_samples = pd.Series(False, index=target_col.index)\n",
    "    available_targets = target_col[target_col != -1]\n",
    "    random_selected_samples = available_targets.sample(frac = validation_ratio, random_state = 47)\n",
    "    val_samples[random_selected_samples.index] = True\n",
    "    return val_samples"
   ]
  },
  {
   "cell_type": "code",
   "execution_count": 27,
   "id": "0fd9ff36-38fd-425c-970c-52e98f95b21f",
   "metadata": {},
   "outputs": [],
   "source": [
    "validation_ratio = 0.2"
   ]
  },
  {
   "cell_type": "code",
   "execution_count": 28,
   "id": "4771f8e7-d201-4b29-9700-88a51ec35697",
   "metadata": {},
   "outputs": [],
   "source": [
    "# Shifts values by target horizons and marks against valid samples\n",
    "\n",
    "train[\"Target_Horizon_30\"] = train[\"Total Cloud Cover [%]\"].shift(-30, fill_value=-1)\n",
    "train[\"Target_Horizon_30_Val_Flag\"] = flag_val_samples(train[\"Target_Horizon_30\"])\n",
    "\n",
    "train[\"Target_Horizon_60\"] = train[\"Total Cloud Cover [%]\"].shift(-60, fill_value=-1)\n",
    "train[\"Target_Horizon_60_Val_Flag\"] = flag_val_samples(train[\"Target_Horizon_60\"])\n",
    "\n",
    "train[\"Target_Horizon_90\"] = train[\"Total Cloud Cover [%]\"].shift(-90, fill_value=-1)\n",
    "train[\"Target_Horizon_90_Val_Flag\"] = flag_val_samples(train[\"Target_Horizon_90\"])\n",
    "\n",
    "train[\"Target_Horizon_120\"] = train[\"Total Cloud Cover [%]\"].shift(-120, fill_value=-1)\n",
    "train[\"Target_Horizon_120_Val_Flag\"] = flag_val_samples(train[\"Target_Horizon_120\"])"
   ]
  },
  {
   "cell_type": "markdown",
   "id": "7985756f-72d4-42c7-a88a-6ce20f3db612",
   "metadata": {},
   "source": [
    "## Modeling & Evaluation"
   ]
  },
  {
   "cell_type": "code",
   "execution_count": 29,
   "id": "30f8889e-5fce-4f65-8eb5-7f3333727eae",
   "metadata": {},
   "outputs": [],
   "source": [
    "# Stores model features into list\n",
    "model_features = train.columns[:16]"
   ]
  },
  {
   "cell_type": "code",
   "execution_count": 30,
   "id": "aeabee80-5efe-40a6-8553-b7bae694b20a",
   "metadata": {},
   "outputs": [],
   "source": [
    "# Standard scales features\n",
    "\n",
    "model_features_scaler = StandardScaler().fit(train[model_features])\n",
    "train[model_features] = model_features_scaler.transform(train[model_features])"
   ]
  },
  {
   "cell_type": "code",
   "execution_count": 31,
   "id": "8ab11c84-8814-4693-a45f-d04b10241481",
   "metadata": {},
   "outputs": [],
   "source": [
    "def sample_generator(\n",
    "    data, lookback, horizon_col_name, val_flag_col_name, val_samples=False, steps=1, batch_size=128):\n",
    "    \n",
    "    # Generates samples\n",
    "\n",
    "    # Inputs:\n",
    "    #     data (pandas.core.frame.DataFrame): data to generate sample from\n",
    "    #     lookback (int): Number of timesteps go back in time\n",
    "    #     horizon_col_name (string): Column name of the series containing target horizon\n",
    "    #     val_flag_col_name (string): Column name of series containing validation flag for the specified horizon\n",
    "    #     val_samples (bool): False to return training samples and True to return validation samples. Default is False.\n",
    "    #     steps (int): <not implemented>\n",
    "    #     batch_size (int): Number of samples in each yield\n",
    "\n",
    "    # Returns:\n",
    "    #     Yields samples each containing samples specified by parameter batch_size\n",
    "    \n",
    "    while True:\n",
    "        samples = []\n",
    "        targets = []\n",
    "        rolling_windows = train.rolling(lookback, min_periods=lookback)\n",
    "        for window in rolling_windows:\n",
    "            if window.shape[0] != lookback:\n",
    "                continue\n",
    "            \n",
    "            if ((window.iloc[-1][horizon_col_name] != -1) and (window.iloc[-1][val_flag_col_name] != val_samples)):\n",
    "                samples.append(window[model_features])\n",
    "                targets.append(window.iloc[-1][horizon_col_name])\n",
    "                \n",
    "            if len(samples) == batch_size:\n",
    "                yield np.asarray(samples), np.asarray(targets)\n",
    "                samples.clear()\n",
    "                targets.clear()\n",
    "                \n",
    "        yield np.asarray(samples), np.asarray(targets)"
   ]
  },
  {
   "cell_type": "code",
   "execution_count": 32,
   "id": "7573cb59-2188-4d4f-9f63-f59e5c77b84c",
   "metadata": {},
   "outputs": [],
   "source": [
    "# Sets required variables\n",
    "\n",
    "lookback = 361\n",
    "step = 1\n",
    "batch_size=128"
   ]
  },
  {
   "cell_type": "markdown",
   "id": "814976c1-cddd-474d-9e91-2986007b3f7b",
   "metadata": {
    "tags": []
   },
   "source": [
    "### Modeling to Predict Cloud Coverage at 30 Minutes Horizon"
   ]
  },
  {
   "cell_type": "code",
   "execution_count": 71,
   "id": "c294e3fa-6c44-4115-9afc-710ddd8dd3dc",
   "metadata": {},
   "outputs": [],
   "source": [
    "# Creates generators for generating samples with target at 30 minutes horizon for both training and validation\n",
    "\n",
    "horizon_30_train_sample_generator = sample_generator(\n",
    "    data=train, lookback=lookback, \n",
    "    horizon_col_name=\"Target_Horizon_30\", val_flag_col_name=\"Target_Horizon_30_Val_Flag\",\n",
    "    val_samples=False, steps=1, batch_size=batch_size)\n",
    "\n",
    "horizon_30_val_sample_generator = sample_generator(\n",
    "    data=train, lookback=lookback, \n",
    "    horizon_col_name=\"Target_Horizon_30\", val_flag_col_name=\"Target_Horizon_30_Val_Flag\",\n",
    "    val_samples=True, steps=1, batch_size=batch_size)"
   ]
  },
  {
   "cell_type": "code",
   "execution_count": 72,
   "id": "cbd5cbb2-b055-41fc-acb2-7ee8a09ef197",
   "metadata": {},
   "outputs": [],
   "source": [
    "# Calculates number of steps to call to iterate all samples for both training and validation data\n",
    "\n",
    "steps_per_epoch = round((train[train[\"Target_Horizon_30\"] != -1].shape[0] - lookback + 1) / batch_size)\n",
    "validation_steps = round(steps_per_epoch * validation_ratio)"
   ]
  },
  {
   "cell_type": "code",
   "execution_count": 73,
   "id": "e515466c-1b72-4519-bcb7-151b2c15406a",
   "metadata": {},
   "outputs": [
    {
     "data": {
      "text/plain": [
       "(1968, 394)"
      ]
     },
     "execution_count": 73,
     "metadata": {},
     "output_type": "execute_result"
    }
   ],
   "source": [
    "# Views the calculated steps\n",
    "steps_per_epoch, validation_steps"
   ]
  },
  {
   "cell_type": "code",
   "execution_count": 74,
   "id": "263291a6-cfd7-46cf-8837-fb81e5a6a7da",
   "metadata": {},
   "outputs": [],
   "source": [
    "# Creates neural network model to predict target at 30 minutes horizon\n",
    "# Note: Output dimension for second layer GRU should have been 64, but was set to 32 mistakenly.\n",
    "\n",
    "model = Sequential()\n",
    "model.add(layers.Input(shape=(lookback,len(model_features))))\n",
    "model.add(layers.GRU(64, return_sequences=True))\n",
    "model.add(layers.GRU(32, activation=\"relu\"))\n",
    "model.add(layers.Dense(1))"
   ]
  },
  {
   "cell_type": "code",
   "execution_count": 75,
   "id": "161b71ca-cbc1-4433-991a-c9266f880b4b",
   "metadata": {},
   "outputs": [
    {
     "name": "stdout",
     "output_type": "stream",
     "text": [
      "Model: \"sequential_8\"\n",
      "_________________________________________________________________\n",
      "Layer (type)                 Output Shape              Param #   \n",
      "=================================================================\n",
      "gru_4 (GRU)                  (None, 361, 64)           15744     \n",
      "_________________________________________________________________\n",
      "gru_5 (GRU)                  (None, 32)                9408      \n",
      "_________________________________________________________________\n",
      "dense_8 (Dense)              (None, 1)                 33        \n",
      "=================================================================\n",
      "Total params: 25,185\n",
      "Trainable params: 25,185\n",
      "Non-trainable params: 0\n",
      "_________________________________________________________________\n"
     ]
    }
   ],
   "source": [
    "# Checks model summary\n",
    "model.summary()"
   ]
  },
  {
   "cell_type": "code",
   "execution_count": 77,
   "id": "6c6d6433-fb54-4819-ab63-5e3b806e3e0f",
   "metadata": {},
   "outputs": [],
   "source": [
    "# Compiles the model specifying optimizer, loss function and metric\n",
    "model.compile(optimizer=\"adam\", loss=\"mse\", metrics=\"mae\")"
   ]
  },
  {
   "cell_type": "code",
   "execution_count": 78,
   "id": "90d11ccd-b40d-4644-b56c-1696eb1794cc",
   "metadata": {},
   "outputs": [
    {
     "name": "stderr",
     "output_type": "stream",
     "text": [
      "2021-11-07 19:46:02.771185: I tensorflow/core/profiler/lib/profiler_session.cc:131] Profiler session initializing.\n",
      "2021-11-07 19:46:02.771249: I tensorflow/core/profiler/lib/profiler_session.cc:146] Profiler session started.\n",
      "2021-11-07 19:46:02.772239: I tensorflow/core/profiler/lib/profiler_session.cc:164] Profiler session tear down.\n"
     ]
    },
    {
     "name": "stdout",
     "output_type": "stream",
     "text": [
      "   1/1968 [..............................] - ETA: 1:24:17 - loss: 2922.8467 - mae: 39.9517"
     ]
    },
    {
     "name": "stderr",
     "output_type": "stream",
     "text": [
      "2021-11-07 19:46:06.007207: I tensorflow/core/profiler/lib/profiler_session.cc:131] Profiler session initializing.\n",
      "2021-11-07 19:46:06.007248: I tensorflow/core/profiler/lib/profiler_session.cc:146] Profiler session started.\n"
     ]
    },
    {
     "name": "stdout",
     "output_type": "stream",
     "text": [
      "   2/1968 [..............................] - ETA: 19:03 - loss: 1538.9020 - mae: 25.4448  "
     ]
    },
    {
     "name": "stderr",
     "output_type": "stream",
     "text": [
      "2021-11-07 19:46:06.635794: I tensorflow/core/profiler/lib/profiler_session.cc:66] Profiler session collecting data.\n",
      "2021-11-07 19:46:06.759969: I tensorflow/core/profiler/lib/profiler_session.cc:164] Profiler session tear down.\n",
      "2021-11-07 19:46:06.909957: I tensorflow/core/profiler/rpc/client/save_profile.cc:136] Creating directory: ./logs/horizon-30_gru-64+gru-32-relu+dense_2021.11.07-19:46:02/train/plugins/profile/2021_11_07_19_46_06\n",
      "\n",
      "2021-11-07 19:46:07.031021: I tensorflow/core/profiler/rpc/client/save_profile.cc:142] Dumped gzipped tool data for trace.json.gz to ./logs/horizon-30_gru-64+gru-32-relu+dense_2021.11.07-19:46:02/train/plugins/profile/2021_11_07_19_46_06/avita-pura-ns14a6.trace.json.gz\n",
      "2021-11-07 19:46:07.082702: I tensorflow/core/profiler/rpc/client/save_profile.cc:136] Creating directory: ./logs/horizon-30_gru-64+gru-32-relu+dense_2021.11.07-19:46:02/train/plugins/profile/2021_11_07_19_46_06\n",
      "\n",
      "2021-11-07 19:46:07.082850: I tensorflow/core/profiler/rpc/client/save_profile.cc:142] Dumped gzipped tool data for memory_profile.json.gz to ./logs/horizon-30_gru-64+gru-32-relu+dense_2021.11.07-19:46:02/train/plugins/profile/2021_11_07_19_46_06/avita-pura-ns14a6.memory_profile.json.gz\n",
      "2021-11-07 19:46:07.084170: I tensorflow/core/profiler/rpc/client/capture_profile.cc:251] Creating directory: ./logs/horizon-30_gru-64+gru-32-relu+dense_2021.11.07-19:46:02/train/plugins/profile/2021_11_07_19_46_06\n",
      "Dumped tool data for xplane.pb to ./logs/horizon-30_gru-64+gru-32-relu+dense_2021.11.07-19:46:02/train/plugins/profile/2021_11_07_19_46_06/avita-pura-ns14a6.xplane.pb\n",
      "Dumped tool data for overview_page.pb to ./logs/horizon-30_gru-64+gru-32-relu+dense_2021.11.07-19:46:02/train/plugins/profile/2021_11_07_19_46_06/avita-pura-ns14a6.overview_page.pb\n",
      "Dumped tool data for input_pipeline.pb to ./logs/horizon-30_gru-64+gru-32-relu+dense_2021.11.07-19:46:02/train/plugins/profile/2021_11_07_19_46_06/avita-pura-ns14a6.input_pipeline.pb\n",
      "Dumped tool data for tensorflow_stats.pb to ./logs/horizon-30_gru-64+gru-32-relu+dense_2021.11.07-19:46:02/train/plugins/profile/2021_11_07_19_46_06/avita-pura-ns14a6.tensorflow_stats.pb\n",
      "Dumped tool data for kernel_stats.pb to ./logs/horizon-30_gru-64+gru-32-relu+dense_2021.11.07-19:46:02/train/plugins/profile/2021_11_07_19_46_06/avita-pura-ns14a6.kernel_stats.pb\n",
      "\n"
     ]
    },
    {
     "name": "stdout",
     "output_type": "stream",
     "text": [
      "1968/1968 [==============================] - 1318s 669ms/step - loss: 374.0239 - mae: 13.2927 - val_loss: 270.8473 - val_mae: 11.3620\n"
     ]
    }
   ],
   "source": [
    "# Sets model name\n",
    "model_name = \"horizon-30_gru-64+gru-32-relu+dense\" + \"_\" + datetime.datetime.now().strftime(\"%Y.%m.%d-%H:%M:%S\")\n",
    "\n",
    "# Fits the model\n",
    "history = model.fit(\n",
    "            horizon_30_train_sample_generator, \n",
    "            steps_per_epoch=steps_per_epoch, \n",
    "            validation_data=horizon_30_val_sample_generator,\n",
    "            validation_steps=validation_steps,\n",
    "            epochs=1,\n",
    "            callbacks=[\n",
    "                EarlyStopping(monitor=\"val_loss\", patience=3, mode=\"min\", restore_best_weights=True),\n",
    "                ModelCheckpoint(filepath=\"./models/\"+model_name, monitor=\"val_loss\", save_best_only=True, save_weights_only=True),\n",
    "                TensorBoard(\n",
    "                    log_dir=\"./logs/\"+model_name, \n",
    "                    histogram_freq=1, \n",
    "                    update_freq=1)]\n",
    ")"
   ]
  },
  {
   "cell_type": "markdown",
   "id": "25c02ce4-4f11-4f27-ad6d-135458204605",
   "metadata": {
    "tags": []
   },
   "source": [
    "### Modeling to Predict Cloud Coverage at 60 Minutes Horizon"
   ]
  },
  {
   "cell_type": "code",
   "execution_count": 79,
   "id": "2447126e-3eb4-44cd-948d-523372e2c5fd",
   "metadata": {},
   "outputs": [],
   "source": [
    "# Creates generators for generating samples with target at 60 minutes horizon for both training and validation\n",
    "\n",
    "horizon_60_train_sample_generator = sample_generator(\n",
    "    data=train, lookback=lookback, \n",
    "    horizon_col_name=\"Target_Horizon_60\", val_flag_col_name=\"Target_Horizon_60_Val_Flag\",\n",
    "    val_samples=False, steps=1, batch_size=batch_size)\n",
    "\n",
    "horizon_60_val_sample_generator = sample_generator(\n",
    "    data=train, lookback=lookback, \n",
    "    horizon_col_name=\"Target_Horizon_60\", val_flag_col_name=\"Target_Horizon_60_Val_Flag\",\n",
    "    val_samples=True, steps=1, batch_size=batch_size)"
   ]
  },
  {
   "cell_type": "code",
   "execution_count": 80,
   "id": "c6e6c45d-d70c-4130-9e29-f2046bb4d12c",
   "metadata": {},
   "outputs": [],
   "source": [
    "# Calculates number of steps to call to iterate all samples for both training and validation data\n",
    "\n",
    "steps_per_epoch = round((train[train[\"Target_Horizon_60\"] != -1].shape[0] - lookback + 1) / batch_size)\n",
    "validation_steps = round(steps_per_epoch * validation_ratio)"
   ]
  },
  {
   "cell_type": "code",
   "execution_count": 81,
   "id": "553aca9f-eb9f-49e4-825c-2b55050b5131",
   "metadata": {},
   "outputs": [
    {
     "data": {
      "text/plain": [
       "(1968, 394)"
      ]
     },
     "execution_count": 81,
     "metadata": {},
     "output_type": "execute_result"
    }
   ],
   "source": [
    "# Views the calculated steps\n",
    "steps_per_epoch, validation_steps"
   ]
  },
  {
   "cell_type": "code",
   "execution_count": 83,
   "id": "59cc471f-fff0-4340-b438-900fe5f57823",
   "metadata": {},
   "outputs": [],
   "source": [
    "# Creates neural network model to predict target at 60 minutes horizon\n",
    "\n",
    "model = Sequential()\n",
    "model.add(layers.Input(shape=(lookback,len(model_features))))\n",
    "model.add(layers.GRU(64, return_sequences=True))\n",
    "model.add(layers.GRU(64, activation=\"relu\"))\n",
    "model.add(layers.Dense(1))"
   ]
  },
  {
   "cell_type": "code",
   "execution_count": 84,
   "id": "f7012b36-405c-4a9e-85e0-a883887caed5",
   "metadata": {},
   "outputs": [
    {
     "name": "stdout",
     "output_type": "stream",
     "text": [
      "Model: \"sequential_10\"\n",
      "_________________________________________________________________\n",
      "Layer (type)                 Output Shape              Param #   \n",
      "=================================================================\n",
      "gru_8 (GRU)                  (None, 361, 64)           15744     \n",
      "_________________________________________________________________\n",
      "gru_9 (GRU)                  (None, 64)                24960     \n",
      "_________________________________________________________________\n",
      "dense_9 (Dense)              (None, 1)                 65        \n",
      "=================================================================\n",
      "Total params: 40,769\n",
      "Trainable params: 40,769\n",
      "Non-trainable params: 0\n",
      "_________________________________________________________________\n"
     ]
    }
   ],
   "source": [
    "# Checks model summary\n",
    "model.summary()"
   ]
  },
  {
   "cell_type": "code",
   "execution_count": 86,
   "id": "ebb8ac24-8484-45e0-8799-c1a259f48fa5",
   "metadata": {},
   "outputs": [],
   "source": [
    "# Compiles the model specifying optimizer, loss function and metric\n",
    "model.compile(optimizer=\"adam\", loss=\"mse\", metrics=\"mae\")"
   ]
  },
  {
   "cell_type": "code",
   "execution_count": 87,
   "id": "3bd3b26e-0f16-407b-9f96-74d84f462961",
   "metadata": {},
   "outputs": [
    {
     "name": "stderr",
     "output_type": "stream",
     "text": [
      "2021-11-07 20:15:54.873707: I tensorflow/core/profiler/lib/profiler_session.cc:131] Profiler session initializing.\n",
      "2021-11-07 20:15:54.873784: I tensorflow/core/profiler/lib/profiler_session.cc:146] Profiler session started.\n",
      "2021-11-07 20:15:54.875048: I tensorflow/core/profiler/lib/profiler_session.cc:164] Profiler session tear down.\n"
     ]
    },
    {
     "name": "stdout",
     "output_type": "stream",
     "text": [
      "   1/1968 [..............................] - ETA: 1:27:20 - loss: 2917.2383 - mae: 40.0118"
     ]
    },
    {
     "name": "stderr",
     "output_type": "stream",
     "text": [
      "2021-11-07 20:15:58.126853: I tensorflow/core/profiler/lib/profiler_session.cc:131] Profiler session initializing.\n",
      "2021-11-07 20:15:58.126901: I tensorflow/core/profiler/lib/profiler_session.cc:146] Profiler session started.\n"
     ]
    },
    {
     "name": "stdout",
     "output_type": "stream",
     "text": [
      "   2/1968 [..............................] - ETA: 19:14 - loss: 1541.4176 - mae: 25.7133  "
     ]
    },
    {
     "name": "stderr",
     "output_type": "stream",
     "text": [
      "2021-11-07 20:15:58.899569: I tensorflow/core/profiler/lib/profiler_session.cc:66] Profiler session collecting data.\n",
      "2021-11-07 20:15:59.070118: I tensorflow/core/profiler/lib/profiler_session.cc:164] Profiler session tear down.\n",
      "2021-11-07 20:15:59.217391: I tensorflow/core/profiler/rpc/client/save_profile.cc:136] Creating directory: ./logs/horizon-60_gru-64+gru-64-relu+dense_2021.11.07-20:15:54/train/plugins/profile/2021_11_07_20_15_59\n",
      "\n",
      "2021-11-07 20:15:59.350948: I tensorflow/core/profiler/rpc/client/save_profile.cc:142] Dumped gzipped tool data for trace.json.gz to ./logs/horizon-60_gru-64+gru-64-relu+dense_2021.11.07-20:15:54/train/plugins/profile/2021_11_07_20_15_59/avita-pura-ns14a6.trace.json.gz\n",
      "2021-11-07 20:15:59.415751: I tensorflow/core/profiler/rpc/client/save_profile.cc:136] Creating directory: ./logs/horizon-60_gru-64+gru-64-relu+dense_2021.11.07-20:15:54/train/plugins/profile/2021_11_07_20_15_59\n",
      "\n",
      "2021-11-07 20:15:59.415958: I tensorflow/core/profiler/rpc/client/save_profile.cc:142] Dumped gzipped tool data for memory_profile.json.gz to ./logs/horizon-60_gru-64+gru-64-relu+dense_2021.11.07-20:15:54/train/plugins/profile/2021_11_07_20_15_59/avita-pura-ns14a6.memory_profile.json.gz\n",
      "2021-11-07 20:15:59.417805: I tensorflow/core/profiler/rpc/client/capture_profile.cc:251] Creating directory: ./logs/horizon-60_gru-64+gru-64-relu+dense_2021.11.07-20:15:54/train/plugins/profile/2021_11_07_20_15_59\n",
      "Dumped tool data for xplane.pb to ./logs/horizon-60_gru-64+gru-64-relu+dense_2021.11.07-20:15:54/train/plugins/profile/2021_11_07_20_15_59/avita-pura-ns14a6.xplane.pb\n",
      "Dumped tool data for overview_page.pb to ./logs/horizon-60_gru-64+gru-64-relu+dense_2021.11.07-20:15:54/train/plugins/profile/2021_11_07_20_15_59/avita-pura-ns14a6.overview_page.pb\n",
      "Dumped tool data for input_pipeline.pb to ./logs/horizon-60_gru-64+gru-64-relu+dense_2021.11.07-20:15:54/train/plugins/profile/2021_11_07_20_15_59/avita-pura-ns14a6.input_pipeline.pb\n",
      "Dumped tool data for tensorflow_stats.pb to ./logs/horizon-60_gru-64+gru-64-relu+dense_2021.11.07-20:15:54/train/plugins/profile/2021_11_07_20_15_59/avita-pura-ns14a6.tensorflow_stats.pb\n",
      "Dumped tool data for kernel_stats.pb to ./logs/horizon-60_gru-64+gru-64-relu+dense_2021.11.07-20:15:54/train/plugins/profile/2021_11_07_20_15_59/avita-pura-ns14a6.kernel_stats.pb\n",
      "\n"
     ]
    },
    {
     "name": "stdout",
     "output_type": "stream",
     "text": [
      "1968/1968 [==============================] - 1535s 779ms/step - loss: 568.8441 - mae: 17.6378 - val_loss: 469.7842 - val_mae: 15.2505\n"
     ]
    }
   ],
   "source": [
    "# Sets model name\n",
    "model_name = \"horizon-60_gru-64+gru-64-relu+dense\" + \"_\" + datetime.datetime.now().strftime(\"%Y.%m.%d-%H:%M:%S\")\n",
    "\n",
    "# Fits the model\n",
    "history = model.fit(\n",
    "            horizon_60_train_sample_generator, \n",
    "            steps_per_epoch=steps_per_epoch, \n",
    "            validation_data=horizon_60_val_sample_generator,\n",
    "            validation_steps=validation_steps,\n",
    "            epochs=1,\n",
    "            callbacks=[\n",
    "                EarlyStopping(monitor=\"val_loss\", patience=3, mode=\"min\", restore_best_weights=True),\n",
    "                ModelCheckpoint(filepath=\"./models/\"+model_name, monitor=\"val_loss\", save_best_only=True, save_weights_only=True),\n",
    "                TensorBoard(\n",
    "                    log_dir=\"./logs/\"+model_name, \n",
    "                    histogram_freq=1, \n",
    "                    update_freq=1)]\n",
    ")"
   ]
  },
  {
   "cell_type": "markdown",
   "id": "5edd305b-73c7-4648-95f4-9f3255b20c8c",
   "metadata": {
    "tags": []
   },
   "source": [
    "### Modeling to Predict Cloud Coverage at 90 Minutes Horizon"
   ]
  },
  {
   "cell_type": "code",
   "execution_count": 88,
   "id": "2d5c9712-8f34-4b66-a229-3af5954a90a4",
   "metadata": {},
   "outputs": [],
   "source": [
    "# Creates generators for generating samples with target at 90 minutes horizon for both training and validation\n",
    "\n",
    "horizon_90_train_sample_generator = sample_generator(\n",
    "    data=train, lookback=lookback, \n",
    "    horizon_col_name=\"Target_Horizon_90\", val_flag_col_name=\"Target_Horizon_90_Val_Flag\",\n",
    "    val_samples=False, steps=1, batch_size=batch_size)\n",
    "\n",
    "horizon_90_val_sample_generator = sample_generator(\n",
    "    data=train, lookback=lookback, \n",
    "    horizon_col_name=\"Target_Horizon_90\", val_flag_col_name=\"Target_Horizon_90_Val_Flag\",\n",
    "    val_samples=True, steps=1, batch_size=batch_size)"
   ]
  },
  {
   "cell_type": "code",
   "execution_count": 89,
   "id": "fb69dbfd-104a-4605-9e02-dea8922c6a22",
   "metadata": {},
   "outputs": [],
   "source": [
    "# Calculates number of steps to call to iterate all samples for both training and validation data\n",
    "\n",
    "steps_per_epoch = round((train[train[\"Target_Horizon_90\"] != -1].shape[0] - lookback + 1) / batch_size)\n",
    "validation_steps = round(steps_per_epoch * validation_ratio)"
   ]
  },
  {
   "cell_type": "code",
   "execution_count": 90,
   "id": "a6aadb1d-56cc-486b-a6d4-bdcff73a5ce3",
   "metadata": {},
   "outputs": [
    {
     "data": {
      "text/plain": [
       "(1968, 394)"
      ]
     },
     "execution_count": 90,
     "metadata": {},
     "output_type": "execute_result"
    }
   ],
   "source": [
    "# Views the calculated steps\n",
    "steps_per_epoch, validation_steps"
   ]
  },
  {
   "cell_type": "code",
   "execution_count": 91,
   "id": "91f72c7e-9802-4b79-8976-eb8f92cb7b41",
   "metadata": {},
   "outputs": [],
   "source": [
    "# Creates neural network model to predict target at 90 minutes horizon\n",
    "\n",
    "model = Sequential()\n",
    "model.add(layers.Input(shape=(lookback,len(model_features))))\n",
    "model.add(layers.GRU(64, return_sequences=True))\n",
    "model.add(layers.GRU(64, activation=\"relu\"))\n",
    "model.add(layers.Dense(1))"
   ]
  },
  {
   "cell_type": "code",
   "execution_count": 92,
   "id": "ce85bd6b-f991-48e2-a01e-ad48a48d4caa",
   "metadata": {},
   "outputs": [
    {
     "name": "stdout",
     "output_type": "stream",
     "text": [
      "Model: \"sequential_11\"\n",
      "_________________________________________________________________\n",
      "Layer (type)                 Output Shape              Param #   \n",
      "=================================================================\n",
      "gru_10 (GRU)                 (None, 361, 64)           15744     \n",
      "_________________________________________________________________\n",
      "gru_11 (GRU)                 (None, 64)                24960     \n",
      "_________________________________________________________________\n",
      "dense_10 (Dense)             (None, 1)                 65        \n",
      "=================================================================\n",
      "Total params: 40,769\n",
      "Trainable params: 40,769\n",
      "Non-trainable params: 0\n",
      "_________________________________________________________________\n"
     ]
    }
   ],
   "source": [
    "# Checks model summary\n",
    "model.summary()"
   ]
  },
  {
   "cell_type": "code",
   "execution_count": 93,
   "id": "de8cb259-25d1-4281-a912-42c54ad0fdba",
   "metadata": {},
   "outputs": [],
   "source": [
    "# Compiles the model specifying optimizer, loss function and metric\n",
    "model.compile(optimizer=\"adam\", loss=\"mse\", metrics=\"mae\")"
   ]
  },
  {
   "cell_type": "code",
   "execution_count": 94,
   "id": "866376db-5811-450b-8460-65b6fd1e30d1",
   "metadata": {},
   "outputs": [
    {
     "name": "stderr",
     "output_type": "stream",
     "text": [
      "2021-11-07 20:42:49.828736: I tensorflow/core/profiler/lib/profiler_session.cc:131] Profiler session initializing.\n",
      "2021-11-07 20:42:49.828802: I tensorflow/core/profiler/lib/profiler_session.cc:146] Profiler session started.\n",
      "2021-11-07 20:42:49.829352: I tensorflow/core/profiler/lib/profiler_session.cc:164] Profiler session tear down.\n"
     ]
    },
    {
     "name": "stdout",
     "output_type": "stream",
     "text": [
      "   1/1968 [..............................] - ETA: 1:27:35 - loss: 2942.7769 - mae: 40.3405"
     ]
    },
    {
     "name": "stderr",
     "output_type": "stream",
     "text": [
      "2021-11-07 20:42:53.087493: I tensorflow/core/profiler/lib/profiler_session.cc:131] Profiler session initializing.\n",
      "2021-11-07 20:42:53.087538: I tensorflow/core/profiler/lib/profiler_session.cc:146] Profiler session started.\n"
     ]
    },
    {
     "name": "stdout",
     "output_type": "stream",
     "text": [
      "   2/1968 [..............................] - ETA: 19:02 - loss: 1556.0972 - mae: 25.9680  "
     ]
    },
    {
     "name": "stderr",
     "output_type": "stream",
     "text": [
      "2021-11-07 20:42:53.867395: I tensorflow/core/profiler/lib/profiler_session.cc:66] Profiler session collecting data.\n",
      "2021-11-07 20:42:53.994236: I tensorflow/core/profiler/lib/profiler_session.cc:164] Profiler session tear down.\n",
      "2021-11-07 20:42:54.164083: I tensorflow/core/profiler/rpc/client/save_profile.cc:136] Creating directory: ./logs/horizon-90_gru-64+gru-64-relu+dense_2021.11.07-20:42:49/train/plugins/profile/2021_11_07_20_42_53\n",
      "\n",
      "2021-11-07 20:42:54.297904: I tensorflow/core/profiler/rpc/client/save_profile.cc:142] Dumped gzipped tool data for trace.json.gz to ./logs/horizon-90_gru-64+gru-64-relu+dense_2021.11.07-20:42:49/train/plugins/profile/2021_11_07_20_42_53/avita-pura-ns14a6.trace.json.gz\n",
      "2021-11-07 20:42:54.353933: I tensorflow/core/profiler/rpc/client/save_profile.cc:136] Creating directory: ./logs/horizon-90_gru-64+gru-64-relu+dense_2021.11.07-20:42:49/train/plugins/profile/2021_11_07_20_42_53\n",
      "\n",
      "2021-11-07 20:42:54.354079: I tensorflow/core/profiler/rpc/client/save_profile.cc:142] Dumped gzipped tool data for memory_profile.json.gz to ./logs/horizon-90_gru-64+gru-64-relu+dense_2021.11.07-20:42:49/train/plugins/profile/2021_11_07_20_42_53/avita-pura-ns14a6.memory_profile.json.gz\n",
      "2021-11-07 20:42:54.355561: I tensorflow/core/profiler/rpc/client/capture_profile.cc:251] Creating directory: ./logs/horizon-90_gru-64+gru-64-relu+dense_2021.11.07-20:42:49/train/plugins/profile/2021_11_07_20_42_53\n",
      "Dumped tool data for xplane.pb to ./logs/horizon-90_gru-64+gru-64-relu+dense_2021.11.07-20:42:49/train/plugins/profile/2021_11_07_20_42_53/avita-pura-ns14a6.xplane.pb\n",
      "Dumped tool data for overview_page.pb to ./logs/horizon-90_gru-64+gru-64-relu+dense_2021.11.07-20:42:49/train/plugins/profile/2021_11_07_20_42_53/avita-pura-ns14a6.overview_page.pb\n",
      "Dumped tool data for input_pipeline.pb to ./logs/horizon-90_gru-64+gru-64-relu+dense_2021.11.07-20:42:49/train/plugins/profile/2021_11_07_20_42_53/avita-pura-ns14a6.input_pipeline.pb\n",
      "Dumped tool data for tensorflow_stats.pb to ./logs/horizon-90_gru-64+gru-64-relu+dense_2021.11.07-20:42:49/train/plugins/profile/2021_11_07_20_42_53/avita-pura-ns14a6.tensorflow_stats.pb\n",
      "Dumped tool data for kernel_stats.pb to ./logs/horizon-90_gru-64+gru-64-relu+dense_2021.11.07-20:42:49/train/plugins/profile/2021_11_07_20_42_53/avita-pura-ns14a6.kernel_stats.pb\n",
      "\n"
     ]
    },
    {
     "name": "stdout",
     "output_type": "stream",
     "text": [
      "1968/1968 [==============================] - 1552s 787ms/step - loss: 701.9638 - mae: 20.3966 - val_loss: 630.3488 - val_mae: 18.3554\n"
     ]
    }
   ],
   "source": [
    "# Sets model name\n",
    "model_name = \"horizon-90_gru-64+gru-64-relu+dense\" + \"_\" + datetime.datetime.now().strftime(\"%Y.%m.%d-%H:%M:%S\")\n",
    "\n",
    "# Fits the model\n",
    "history = model.fit(\n",
    "            horizon_90_train_sample_generator, \n",
    "            steps_per_epoch=steps_per_epoch, \n",
    "            validation_data=horizon_90_val_sample_generator,\n",
    "            validation_steps=validation_steps,\n",
    "            epochs=1,\n",
    "            callbacks=[\n",
    "                EarlyStopping(monitor=\"val_loss\", patience=3, mode=\"min\", restore_best_weights=True),\n",
    "                ModelCheckpoint(filepath=\"./models/\"+model_name, monitor=\"val_loss\", save_best_only=True, save_weights_only=True),\n",
    "                TensorBoard(\n",
    "                    log_dir=\"./logs/\"+model_name, \n",
    "                    histogram_freq=1, \n",
    "                    update_freq=1)]\n",
    ")"
   ]
  },
  {
   "cell_type": "markdown",
   "id": "c047dbac-22b4-4ea8-af56-c219e5db6dc5",
   "metadata": {
    "tags": []
   },
   "source": [
    "### Modeling to Predict Cloud Coverage at 120 Minutes Horizon"
   ]
  },
  {
   "cell_type": "code",
   "execution_count": 95,
   "id": "a4ce4c97-79ed-4614-8074-c62234c8c55d",
   "metadata": {},
   "outputs": [],
   "source": [
    "# Creates generators for generating samples with target at 120 minutes horizon for both training and validation\n",
    "\n",
    "horizon_120_train_sample_generator = sample_generator(\n",
    "    data=train, lookback=lookback, \n",
    "    horizon_col_name=\"Target_Horizon_120\", val_flag_col_name=\"Target_Horizon_120_Val_Flag\",\n",
    "    val_samples=False, steps=1, batch_size=batch_size)\n",
    "\n",
    "horizon_120_val_sample_generator = sample_generator(\n",
    "    data=train, lookback=lookback, \n",
    "    horizon_col_name=\"Target_Horizon_120\", val_flag_col_name=\"Target_Horizon_120_Val_Flag\",\n",
    "    val_samples=True, steps=1, batch_size=batch_size)"
   ]
  },
  {
   "cell_type": "code",
   "execution_count": 96,
   "id": "3b91bac3-87d7-43e9-84be-40c2008333b0",
   "metadata": {},
   "outputs": [],
   "source": [
    "# Calculates number of steps to call to iterate all samples for both training and validation data\n",
    "\n",
    "steps_per_epoch = round((train[train[\"Target_Horizon_120\"] != -1].shape[0] - lookback + 1) / batch_size)\n",
    "validation_steps = round(steps_per_epoch * validation_ratio)"
   ]
  },
  {
   "cell_type": "code",
   "execution_count": 97,
   "id": "d8ed6ef1-0842-43e4-8683-b2c482b82e47",
   "metadata": {},
   "outputs": [
    {
     "data": {
      "text/plain": [
       "(1968, 394)"
      ]
     },
     "execution_count": 97,
     "metadata": {},
     "output_type": "execute_result"
    }
   ],
   "source": [
    "# Views the calculated steps\n",
    "steps_per_epoch, validation_steps"
   ]
  },
  {
   "cell_type": "code",
   "execution_count": 98,
   "id": "89a7384f-c939-4c5d-9da6-5337fabac556",
   "metadata": {},
   "outputs": [],
   "source": [
    "# Creates neural network model to predict target at 120 minutes horizon\n",
    "\n",
    "model = Sequential()\n",
    "model.add(layers.Input(shape=(lookback,len(model_features))))\n",
    "model.add(layers.GRU(64, return_sequences=True))\n",
    "model.add(layers.GRU(64, activation=\"relu\"))\n",
    "model.add(layers.Dense(1))"
   ]
  },
  {
   "cell_type": "code",
   "execution_count": 99,
   "id": "d5cf803d-5d18-4414-9b8e-749fbd2afd1d",
   "metadata": {},
   "outputs": [
    {
     "name": "stdout",
     "output_type": "stream",
     "text": [
      "Model: \"sequential_12\"\n",
      "_________________________________________________________________\n",
      "Layer (type)                 Output Shape              Param #   \n",
      "=================================================================\n",
      "gru_12 (GRU)                 (None, 361, 64)           15744     \n",
      "_________________________________________________________________\n",
      "gru_13 (GRU)                 (None, 64)                24960     \n",
      "_________________________________________________________________\n",
      "dense_11 (Dense)             (None, 1)                 65        \n",
      "=================================================================\n",
      "Total params: 40,769\n",
      "Trainable params: 40,769\n",
      "Non-trainable params: 0\n",
      "_________________________________________________________________\n"
     ]
    }
   ],
   "source": [
    "# Checks model summary\n",
    "model.summary()"
   ]
  },
  {
   "cell_type": "code",
   "execution_count": 100,
   "id": "ae6fb893-01f4-4485-95d0-2859fbd6de64",
   "metadata": {},
   "outputs": [],
   "source": [
    "# Compiles the model specifying optimizer, loss function and metric\n",
    "model.compile(optimizer=\"adam\", loss=\"mse\", metrics=\"mae\")"
   ]
  },
  {
   "cell_type": "code",
   "execution_count": 101,
   "id": "e2e7e264-b953-4112-b71a-382d7b23e1bf",
   "metadata": {},
   "outputs": [
    {
     "name": "stderr",
     "output_type": "stream",
     "text": [
      "2021-11-07 21:11:04.474123: I tensorflow/core/profiler/lib/profiler_session.cc:131] Profiler session initializing.\n",
      "2021-11-07 21:11:04.474206: I tensorflow/core/profiler/lib/profiler_session.cc:146] Profiler session started.\n",
      "2021-11-07 21:11:04.474334: I tensorflow/core/profiler/lib/profiler_session.cc:164] Profiler session tear down.\n"
     ]
    },
    {
     "name": "stdout",
     "output_type": "stream",
     "text": [
      "   1/1968 [..............................] - ETA: 1:27:53 - loss: 2909.8711 - mae: 39.7614"
     ]
    },
    {
     "name": "stderr",
     "output_type": "stream",
     "text": [
      "2021-11-07 21:11:07.716885: I tensorflow/core/profiler/lib/profiler_session.cc:131] Profiler session initializing.\n",
      "2021-11-07 21:11:07.716961: I tensorflow/core/profiler/lib/profiler_session.cc:146] Profiler session started.\n"
     ]
    },
    {
     "name": "stdout",
     "output_type": "stream",
     "text": [
      "   2/1968 [..............................] - ETA: 22:36 - loss: 1533.4783 - mae: 25.3876  "
     ]
    },
    {
     "name": "stderr",
     "output_type": "stream",
     "text": [
      "2021-11-07 21:11:08.654664: I tensorflow/core/profiler/lib/profiler_session.cc:66] Profiler session collecting data.\n",
      "2021-11-07 21:11:08.778040: I tensorflow/core/profiler/lib/profiler_session.cc:164] Profiler session tear down.\n",
      "2021-11-07 21:11:08.942969: I tensorflow/core/profiler/rpc/client/save_profile.cc:136] Creating directory: ./logs/horizon-120_gru-64+gru-64-relu+dense_2021.11.07-21:11:04/train/plugins/profile/2021_11_07_21_11_08\n",
      "\n",
      "2021-11-07 21:11:09.078378: I tensorflow/core/profiler/rpc/client/save_profile.cc:142] Dumped gzipped tool data for trace.json.gz to ./logs/horizon-120_gru-64+gru-64-relu+dense_2021.11.07-21:11:04/train/plugins/profile/2021_11_07_21_11_08/avita-pura-ns14a6.trace.json.gz\n",
      "2021-11-07 21:11:09.150604: I tensorflow/core/profiler/rpc/client/save_profile.cc:136] Creating directory: ./logs/horizon-120_gru-64+gru-64-relu+dense_2021.11.07-21:11:04/train/plugins/profile/2021_11_07_21_11_08\n",
      "\n",
      "2021-11-07 21:11:09.150789: I tensorflow/core/profiler/rpc/client/save_profile.cc:142] Dumped gzipped tool data for memory_profile.json.gz to ./logs/horizon-120_gru-64+gru-64-relu+dense_2021.11.07-21:11:04/train/plugins/profile/2021_11_07_21_11_08/avita-pura-ns14a6.memory_profile.json.gz\n",
      "2021-11-07 21:11:09.152612: I tensorflow/core/profiler/rpc/client/capture_profile.cc:251] Creating directory: ./logs/horizon-120_gru-64+gru-64-relu+dense_2021.11.07-21:11:04/train/plugins/profile/2021_11_07_21_11_08\n",
      "Dumped tool data for xplane.pb to ./logs/horizon-120_gru-64+gru-64-relu+dense_2021.11.07-21:11:04/train/plugins/profile/2021_11_07_21_11_08/avita-pura-ns14a6.xplane.pb\n",
      "Dumped tool data for overview_page.pb to ./logs/horizon-120_gru-64+gru-64-relu+dense_2021.11.07-21:11:04/train/plugins/profile/2021_11_07_21_11_08/avita-pura-ns14a6.overview_page.pb\n",
      "Dumped tool data for input_pipeline.pb to ./logs/horizon-120_gru-64+gru-64-relu+dense_2021.11.07-21:11:04/train/plugins/profile/2021_11_07_21_11_08/avita-pura-ns14a6.input_pipeline.pb\n",
      "Dumped tool data for tensorflow_stats.pb to ./logs/horizon-120_gru-64+gru-64-relu+dense_2021.11.07-21:11:04/train/plugins/profile/2021_11_07_21_11_08/avita-pura-ns14a6.tensorflow_stats.pb\n",
      "Dumped tool data for kernel_stats.pb to ./logs/horizon-120_gru-64+gru-64-relu+dense_2021.11.07-21:11:04/train/plugins/profile/2021_11_07_21_11_08/avita-pura-ns14a6.kernel_stats.pb\n",
      "\n"
     ]
    },
    {
     "name": "stdout",
     "output_type": "stream",
     "text": [
      "1968/1968 [==============================] - 1507s 765ms/step - loss: 795.4077 - mae: 22.2051 - val_loss: 753.5236 - val_mae: 20.4832\n"
     ]
    }
   ],
   "source": [
    "# Sets model name\n",
    "model_name = \"horizon-120_gru-64+gru-64-relu+dense\" + \"_\" + datetime.datetime.now().strftime(\"%Y.%m.%d-%H:%M:%S\")\n",
    "\n",
    "# Fits the model\n",
    "history = model.fit(\n",
    "            horizon_120_train_sample_generator, \n",
    "            steps_per_epoch=steps_per_epoch, \n",
    "            validation_data=horizon_120_val_sample_generator,\n",
    "            validation_steps=validation_steps,\n",
    "            epochs=1,\n",
    "            callbacks=[\n",
    "                EarlyStopping(monitor=\"val_loss\", patience=3, mode=\"min\", restore_best_weights=True),\n",
    "                ModelCheckpoint(filepath=\"./models/\"+model_name, monitor=\"val_loss\", save_best_only=True, save_weights_only=True),\n",
    "                TensorBoard(\n",
    "                    log_dir=\"./logs/\"+model_name, \n",
    "                    histogram_freq=1, \n",
    "                    update_freq=1)]\n",
    ")"
   ]
  },
  {
   "cell_type": "markdown",
   "id": "53531f3b-0d69-4c6f-9cf4-6a971dca5887",
   "metadata": {},
   "source": [
    "## Sumbission"
   ]
  },
  {
   "cell_type": "code",
   "execution_count": 102,
   "id": "93554b4d-9b8e-4f4a-a9f7-a5168b332c43",
   "metadata": {},
   "outputs": [],
   "source": [
    "# Sets test directory path containing test samples\n",
    "test_dir = \"./dataset/test\""
   ]
  },
  {
   "cell_type": "code",
   "execution_count": 116,
   "id": "a620c0bd-78dd-459c-8a0f-a1acc3220db4",
   "metadata": {},
   "outputs": [],
   "source": [
    "# Creates a list to contain test samples as tuple having first element as sample index and last element for sample itself\n",
    "test_samples = []\n",
    "\n",
    "# Iterates over test directories and adds test samples into list\n",
    "for dir in os.listdir(test_dir):\n",
    "    test_data_file = os.path.join(test_dir, dir, \"weather_data.csv\")\n",
    "    test = pd.read_csv(test_data_file)\n",
    "    \n",
    "    # Drops time column as not required because observations in each sample are already in sequence\n",
    "    test.drop([\"Time [Mins]\"], axis=1, inplace=True)\n",
    "    \n",
    "    # Interpolates values in these two columns as required\n",
    "    \n",
    "    observed_cloud_coverage = test[test[\"Total Cloud Cover [%]\"] != -1][\"Total Cloud Cover [%]\"].copy()\n",
    "    observed_cloud_coverage.loc[observed_cloud_coverage < 0] = np.nan\n",
    "    observed_cloud_coverage.interpolate(method=\"linear\", inplace=True)\n",
    "    test[\"Total Cloud Cover [%]\"].update(observed_cloud_coverage)\n",
    "    \n",
    "    test.loc[test[\"Albedo (CMP11)\"] < 0, \"Albedo (CMP11)\"] = np.nan\n",
    "    test[\"Albedo (CMP11)\"].interpolate(method=\"linear\", inplace=True)\n",
    "    \n",
    "    # Inserts a column as additional feature, as already done with training data, to indicate if target is available\n",
    "    test.insert(\n",
    "        loc=test.columns.get_loc(\"Total Cloud Cover [%]\"), \n",
    "        column=\"Total Cloud Cover Available\", \n",
    "        value=test[\"Total Cloud Cover [%]\"].apply(lambda coverage:\n",
    "                                        1 if coverage >= 0 else 0))\n",
    "    \n",
    "    # Scales the features\n",
    "    test[model_features] = model_features_scaler.transform(test[model_features])\n",
    "    \n",
    "    # Appends the test sample into the list\n",
    "    test_samples.append((int(dir), test))"
   ]
  },
  {
   "cell_type": "code",
   "execution_count": 117,
   "id": "3be76eca-bee1-47a9-acdc-10ba4f3c6306",
   "metadata": {},
   "outputs": [],
   "source": [
    "# Sorts the test samples according to their index number to match submission sequence\n",
    "test_samples = sorted(test_samples, key=lambda scenario: scenario[0])\n",
    "\n",
    "# Post sorting, only test samples out of thier tuples are extracted\n",
    "test_samples = [test_sample[1] for test_sample in test_samples]\n",
    "\n",
    "# Converts test samples 3D numpy array to be compatible for model prediction\n",
    "test_samples = np.asarray(test_samples)"
   ]
  },
  {
   "cell_type": "code",
   "execution_count": 128,
   "id": "3513a398-f30d-424e-8414-08197f6861a8",
   "metadata": {},
   "outputs": [
    {
     "data": {
      "text/plain": [
       "(300, 361, 16)"
      ]
     },
     "execution_count": 128,
     "metadata": {},
     "output_type": "execute_result"
    }
   ],
   "source": [
    "# Checks the shape of the numpy array\n",
    "test_samples.shape"
   ]
  },
  {
   "cell_type": "markdown",
   "id": "e34331a9-c5b7-4a3a-b4aa-38c808dd640e",
   "metadata": {},
   "source": [
    "### Predicting Cloud Coverage"
   ]
  },
  {
   "cell_type": "code",
   "execution_count": 136,
   "id": "31097ce5-ee32-4284-8bcb-a7ffebe374f6",
   "metadata": {},
   "outputs": [],
   "source": [
    "# Note: This step could have been avoided if output nodes were 64 in second layer in each model.\n",
    "\n",
    "model = Sequential()\n",
    "model.add(layers.Input(shape=(lookback,len(model_features))))\n",
    "model.add(layers.GRU(64, return_sequences=True))\n",
    "model.add(layers.GRU(32, activation=\"relu\"))\n",
    "model.add(layers.Dense(1))\n",
    "model.compile(optimizer=\"adam\", loss=\"mse\", metrics=\"mae\")"
   ]
  },
  {
   "cell_type": "code",
   "execution_count": 137,
   "id": "cea25730-31e7-45c5-9b43-86a9b88ca2c7",
   "metadata": {},
   "outputs": [],
   "source": [
    "# Loads weights for best model to predict at 30 minutes horizon\n",
    "model_name = \"./models/horizon-30_gru-64+gru-32-relu+dense_2021.11.07-19:46:02\"\n",
    "model.load_weights(model_name)\n",
    "\n",
    "# Predicting cloud coverage at 30 minutes horizon\n",
    "horizon_30_predictions = model.predict(test_samples).reshape(300,)"
   ]
  },
  {
   "cell_type": "code",
   "execution_count": 138,
   "id": "5e57c7b2-51d8-4791-b5a7-f747451eeccf",
   "metadata": {},
   "outputs": [],
   "source": [
    "# Note: This step could have been avoided if output nodes were 64 in second layer in each model.\n",
    "\n",
    "model = Sequential()\n",
    "model.add(layers.Input(shape=(lookback,len(model_features))))\n",
    "model.add(layers.GRU(64, return_sequences=True))\n",
    "model.add(layers.GRU(64, activation=\"relu\"))\n",
    "model.add(layers.Dense(1))\n",
    "model.compile(optimizer=\"adam\", loss=\"mse\", metrics=\"mae\")"
   ]
  },
  {
   "cell_type": "code",
   "execution_count": 139,
   "id": "6f339dcd-2726-4cf9-a8e1-a6e0d273f62e",
   "metadata": {},
   "outputs": [],
   "source": [
    "# Loads weights for best model to predict at 60 minutes horizon\n",
    "model_name = \"./models/horizon-60_gru-64+gru-64-relu+dense_2021.11.07-20:15:54\"\n",
    "model.load_weights(model_name)\n",
    "\n",
    "# Predicting cloud coverage at 60 minutes horizon\n",
    "horizon_60_predictions = model.predict(test_samples).reshape(300,)"
   ]
  },
  {
   "cell_type": "code",
   "execution_count": 140,
   "id": "c8303594-d1b9-4695-aba3-4fe4975df7ba",
   "metadata": {},
   "outputs": [],
   "source": [
    "# Loads weights for best model to predict at 90 minutes horizon\n",
    "model_name = \"./models/horizon-90_gru-64+gru-64-relu+dense_2021.11.07-20:42:49\"\n",
    "model.load_weights(model_name)\n",
    "\n",
    "# Predicting cloud coverage at 90 minutes horizon\n",
    "horizon_90_predictions = model.predict(test_samples).reshape(300,)"
   ]
  },
  {
   "cell_type": "code",
   "execution_count": 141,
   "id": "2568c3c0-31d7-4ec6-b0f0-678c292647ce",
   "metadata": {},
   "outputs": [],
   "source": [
    "# Loads weights for best model to predict at 120 minutes horizon\n",
    "model_name = \"./models/horizon-120_gru-64+gru-64-relu+dense_2021.11.07-21:11:04\"\n",
    "model.load_weights(model_name)\n",
    "\n",
    "# Predicting cloud coverage at 120 minutes horizon\n",
    "horizon_120_predictions = model.predict(test_samples).reshape(300,)"
   ]
  },
  {
   "cell_type": "code",
   "execution_count": 142,
   "id": "993b0c32-041e-4b38-b6c3-e393d6ea3753",
   "metadata": {},
   "outputs": [],
   "source": [
    "# Creates dataframe containing predictions for all four horizons\n",
    "all_horizon_predictions = pd.DataFrame(\n",
    "                                {\n",
    "                                    \"scenario_set\": range(1, 301),\n",
    "                                    \"30_min_horizon\": horizon_30_predictions,\n",
    "                                    \"60_min_horizon\": horizon_60_predictions,\n",
    "                                    \"90_min_horizon\": horizon_90_predictions,\n",
    "                                    \"120_min_horizon\": horizon_120_predictions\n",
    "                                }\n",
    "                            )"
   ]
  },
  {
   "cell_type": "code",
   "execution_count": 144,
   "id": "05faa7bd-6387-423d-ab16-65163af4dbe9",
   "metadata": {},
   "outputs": [],
   "source": [
    "# Saves the prediction into file\n",
    "all_horizon_predictions.to_csv(\"./submission_2-layers-gru.csv\", index=False)"
   ]
  },
  {
   "cell_type": "code",
   "execution_count": null,
   "id": "44a2f3ef-e797-4c32-9f57-df39774f84aa",
   "metadata": {},
   "outputs": [],
   "source": []
  }
 ],
 "metadata": {
  "kernelspec": {
   "display_name": "Python 3 (ipykernel)",
   "language": "python",
   "name": "python3"
  },
  "language_info": {
   "codemirror_mode": {
    "name": "ipython",
    "version": 3
   },
   "file_extension": ".py",
   "mimetype": "text/x-python",
   "name": "python",
   "nbconvert_exporter": "python",
   "pygments_lexer": "ipython3",
   "version": "3.7.12"
  }
 },
 "nbformat": 4,
 "nbformat_minor": 5
}
